{
 "metadata": {
  "name": ""
 },
 "nbformat": 3,
 "nbformat_minor": 0,
 "worksheets": [
  {
   "cells": [
    {
     "cell_type": "code",
     "collapsed": false,
     "input": [
      "%load_ext autoreload\n",
      "%autoreload 2\n",
      "\n",
      "import numpy as np\n",
      "import matplotlib.pyplot as plt\n",
      "\n",
      "from ml.apps.skin.autoregr_table import build_nextstep_data\n",
      "from ml.simple.table import TableRegression\n",
      "from ml.datasets.skin import SkinDataset"
     ],
     "language": "python",
     "metadata": {},
     "outputs": [],
     "prompt_number": 1
    },
    {
     "cell_type": "code",
     "collapsed": false,
     "input": [
      "ds = SkinDataset(\"raising_small\")\n",
      "ds.print_statistics()"
     ],
     "language": "python",
     "metadata": {},
     "outputs": [
      {
       "output_type": "stream",
       "stream": "stdout",
       "text": [
        "Dataset Z:\\dev\\indentor\\indentor\\apps\\out\\raising_small.skn:\n",
        "     taxel          train   validation   test\n",
        "     1,1            800     100          100\n",
        "     3,2            785      98           98\n",
        "Avg. datapoints per record: 2433"
       ]
      },
      {
       "output_type": "stream",
       "stream": "stdout",
       "text": [
        "\n",
        "Sampling interval:          0.01 s\n",
        "\n"
       ]
      }
     ],
     "prompt_number": 2
    },
    {
     "cell_type": "code",
     "collapsed": false,
     "input": [
      "taxel = (1,1)\n",
      "\n",
      "X, Z = build_nextstep_data(ds, 'train', taxel, n_curves=100)\n",
      "print \"Dataset size: \", X.shape[1]"
     ],
     "language": "python",
     "metadata": {},
     "outputs": [
      {
       "output_type": "stream",
       "stream": "stdout",
       "text": [
        "Dataset size:  238713\n"
       ]
      }
     ],
     "prompt_number": 3
    },
    {
     "cell_type": "code",
     "collapsed": false,
     "input": [
      "force_min = 0\n",
      "force_step = 0.1\n",
      "force_max = 25\n",
      "skin_min = 0\n",
      "skin_step = 0.02\n",
      "skin_max = 2\n",
      "\n",
      "tr = TableRegression([force_min, skin_min], \n",
      "                     [force_step, skin_step], \n",
      "                     [force_max, skin_max])\n",
      "print \"Number of weights: %d\" % tr.weight_matrix.size"
     ],
     "language": "python",
     "metadata": {},
     "outputs": [
      {
       "output_type": "stream",
       "stream": "stdout",
       "text": [
        "Number of weights: 25000\n"
       ]
      }
     ],
     "prompt_number": 4
    },
    {
     "cell_type": "code",
     "collapsed": false,
     "input": [
      "#tr.train(X, Z)"
     ],
     "language": "python",
     "metadata": {},
     "outputs": []
    },
    {
     "cell_type": "code",
     "collapsed": false,
     "input": [
      "tr.train_lsmr(X, Z)"
     ],
     "language": "python",
     "metadata": {},
     "outputs": [
      {
       "output_type": "stream",
       "stream": "stdout",
       "text": [
        "istop: 2   itn: 1635\n"
       ]
      }
     ],
     "prompt_number": 5
    },
    {
     "cell_type": "code",
     "collapsed": false,
     "input": [
      "Zp = tr.predict(X)\n",
      "err = np.sqrt(np.mean((Z - Zp)**2))\n",
      "print \"One step prediction sqrt(MSE): \", err\n",
      "\n",
      "figsize(16,8)\n",
      "tr.plot2d_relative(rel_dim=1, rng=0.1)\n",
      "plt.xlabel(\"force\")\n",
      "plt.ylabel(\"skin\")"
     ],
     "language": "python",
     "metadata": {},
     "outputs": [
      {
       "output_type": "stream",
       "stream": "stdout",
       "text": [
        "One step prediction sqrt(MSE):  0.00396656226503\n"
       ]
      },
      {
       "metadata": {},
       "output_type": "pyout",
       "prompt_number": 6,
       "text": [
        "<matplotlib.text.Text at 0x1b1a1cf8>"
       ]
      },
      {
       "metadata": {},
       "output_type": "display_data",
       "png": "[encoded data removed]",
       "text": [
        "<matplotlib.figure.Figure at 0xa799048>"
       ]
      }
     ],
     "prompt_number": 6
    },
    {
     "cell_type": "code",
     "collapsed": false,
     "input": [],
     "language": "python",
     "metadata": {},
     "outputs": []
    }
   ],
   "metadata": {}
  }
 ]
}