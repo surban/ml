{
 "metadata": {
  "name": ""
 },
 "nbformat": 3,
 "nbformat_minor": 0,
 "worksheets": [
  {
   "cells": [
    {
     "cell_type": "code",
     "collapsed": false,
     "input": [
      "%load_ext autoreload\n",
      "%autoreload 2\n",
      "\n",
      "from ml.apps.skin.autoregr_table import build_nextstep_data\n",
      "from ml.simple.table import TableRegression\n",
      "from ml.datasets.skin import SkinDataset"
     ],
     "language": "python",
     "metadata": {},
     "outputs": [
      {
       "output_type": "stream",
       "stream": "stdout",
       "text": [
        "The autoreload extension is already loaded. To reload it, use:\n",
        "  %reload_ext autoreload\n"
       ]
      }
     ],
     "prompt_number": 57
    },
    {
     "cell_type": "code",
     "collapsed": false,
     "input": [
      "ds = SkinDataset(\"raising_small\")\n",
      "ds.print_statistics()"
     ],
     "language": "python",
     "metadata": {},
     "outputs": [
      {
       "output_type": "stream",
       "stream": "stdout",
       "text": [
        "Dataset Z:\\dev\\indentor\\indentor\\apps\\out\\raising_small.skn:\n",
        "     taxel          train   validation   test\n",
        "     1,1            800     100          100\n",
        "     3,2            785      98           98\n",
        "\n"
       ]
      }
     ],
     "prompt_number": 58
    },
    {
     "cell_type": "code",
     "collapsed": false,
     "input": [
      "taxel = (1,1)\n",
      "\n",
      "X, Z = build_nextstep_data(ds, 'train', taxel)\n",
      "print \"Size: \", X.shape[1]\n",
      "X = X[:, 0:10000]\n",
      "Z = Z[0:10000]      "
     ],
     "language": "python",
     "metadata": {},
     "outputs": [
      {
       "output_type": "stream",
       "stream": "stdout",
       "text": [
        "Size:  1945207\n"
       ]
      }
     ],
     "prompt_number": 120
    },
    {
     "cell_type": "code",
     "collapsed": false,
     "input": [
      "force_min = 0\n",
      "force_step = 0.1\n",
      "force_max = 25\n",
      "skin_min = 0\n",
      "skin_step = 0.1\n",
      "skin_max = 2\n",
      "\n",
      "tr = TableRegression([force_min, skin_min], \n",
      "                     [force_step, skin_step], \n",
      "                     [force_max, skin_max])\n",
      "tr.train(X, Z)\n",
      "Zp = tr.predict(X)"
     ],
     "language": "python",
     "metadata": {},
     "outputs": [],
     "prompt_number": 121
    },
    {
     "cell_type": "code",
     "collapsed": false,
     "input": [
      "err = np.mean((Z - Zp)**2)\n",
      "print \"Error: \", err"
     ],
     "language": "python",
     "metadata": {},
     "outputs": [
      {
       "output_type": "stream",
       "stream": "stdout",
       "text": [
        "Error:  5.33900961408e-06\n"
       ]
      }
     ],
     "prompt_number": 122
    },
    {
     "cell_type": "code",
     "collapsed": false,
     "input": [
      "tr = TableRegression([0,    0],   \n",
      "                     [0.1,  0.1],\n",
      "                     [1,    1])\n",
      "fv = tr.table_fvec([[0.23, 0.46],\n",
      "                    [0.11, 0.09]])\n",
      "print np.sum(fv, axis=0)"
     ],
     "language": "python",
     "metadata": {},
     "outputs": [
      {
       "output_type": "stream",
       "stream": "stdout",
       "text": [
        "[ 1.  1.]\n"
       ]
      }
     ],
     "prompt_number": 97
    }
   ],
   "metadata": {}
  }
 ]
}