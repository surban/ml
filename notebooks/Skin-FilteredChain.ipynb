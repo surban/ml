{
 "metadata": {
  "name": "",
  "signature": "sha256:d487bad065c85a3a9f67c9fe217c4010639295695bff03e5bea4c96cfe8ddca0"
 },
 "nbformat": 3,
 "nbformat_minor": 0,
 "worksheets": [
  {
   "cells": [
    {
     "cell_type": "code",
     "collapsed": false,
     "input": [
      "%load_ext autoreload\n",
      "%autoreload 2\n",
      "%load_ext line_profiler\n",
      "\n",
      "import numpy as np\n",
      "import matplotlib.pyplot as plt\n",
      "\n",
      "from ml.apps.skin.timeseries import *\n",
      "from ml.apps.skin.workingset import *\n",
      "from ml.simple.conditional_chain import *\n",
      "from ml.datasets.skin import SkinDataset\n",
      "from ml.common.util import ParameterHistory\n",
      "from ml.common.test import check_gradient, check_directional_gradient\n",
      "from climin.gd import GradientDescent\n",
      "from climin.bfgs import Bfgs, Lbfgs\n",
      "from climin.rmsprop import RmsProp\n",
      "\n",
      "#ws = SkinWorkingset(\"raising_small\", (1,1), force_step=0.1, skin_step=0.02, curve_limit=4)\n",
      "ws = SkinWorkingset(\"bidir_small\", (1,1), force_step=0.1, skin_step=0.02)\n",
      "#ws = SkinWorkingset(\"bidir_small\", (3,3), force_step=0.1, skin_step=0.005, skin_max=1)\n",
      "print \"force states: \", ws.discrete_force_states\n",
      "print \"skin states:  \", ws.discrete_skin_states"
     ],
     "language": "python",
     "metadata": {},
     "outputs": [
      {
       "output_type": "stream",
       "stream": "stdout",
       "text": [
        "The autoreload extension is already loaded. To reload it, use:\n",
        "  %reload_ext autoreload\n",
        "The line_profiler extension is already loaded. To reload it, use:\n",
        "  %reload_ext line_profiler\n",
        "Dataset Z:\\dev\\indentor\\indentor\\apps\\out\\bidir_small.skn:\n",
        "     taxel          train   validation   test\n",
        "     1,1            800     100          100\n",
        "     2,5            800     100          100\n",
        "     3,2            800     100          100\n",
        "     3,3            800     100          100\n",
        "     4,6            532      66           66\n",
        "     5,2            800     100          100\n",
        "     6,5            800     100          100\n",
        "     7,3            800     100          100\n",
        "Avg. datapoints per record: 2398"
       ]
      },
      {
       "output_type": "stream",
       "stream": "stdout",
       "text": [
        "\n",
        "Sampling interval:          0.01 s\n",
        "\n",
        "Using taxel  (1, 1)\n",
        "\n",
        "trn: next step:          1916473 steps"
       ]
      },
      {
       "output_type": "stream",
       "stream": "stdout",
       "text": [
        "\n",
        "trn: curves:             800"
       ]
      },
      {
       "output_type": "stream",
       "stream": "stdout",
       "text": [
        "\n",
        "val: next step:          243747 steps"
       ]
      },
      {
       "output_type": "stream",
       "stream": "stdout",
       "text": [
        "\n",
        "val: curves:             100\n",
        "tst: next step:          245504 steps"
       ]
      },
      {
       "output_type": "stream",
       "stream": "stdout",
       "text": [
        "\n",
        "tst: curves:             100\n",
        "force states: "
       ]
      },
      {
       "output_type": "stream",
       "stream": "stdout",
       "text": [
        " 253\n",
        "skin states:   108\n"
       ]
      }
     ],
     "prompt_number": 19
    },
    {
     "cell_type": "code",
     "collapsed": false,
     "input": [
      "std_steps = 0.1 / ws.skin_step\n",
      "std_steps = 0.01\n",
      "cc = ConditionalFilteredChain(ws.discrete_skin_states, ws.discrete_force_states, std_steps)\n",
      "cc.train(ws.discrete_skin['trn'], ws.discrete_force['trn'], ws.valid['trn'])"
     ],
     "language": "python",
     "metadata": {},
     "outputs": [],
     "prompt_number": 16
    },
    {
     "cell_type": "code",
     "collapsed": false,
     "input": [
      "smpl = 30\n",
      "prt = 'trn'\n",
      "\n",
      "f = ws.discrete_force[prt][0:1000, smpl]\n",
      "s = ws.discrete_skin[prt][0:1000, smpl]\n",
      "v = ws.valid[prt][:, smpl]\n",
      "max_v = np.nonzero(v)\n",
      "last_valid = max_v[0][-1]\n",
      "f = f[0:last_valid-10]\n",
      "s = s[0:last_valid-10]\n",
      "\n",
      "max_state_s, max_state_f, logpmax = cc.most_probable_states(f)\n",
      "\n",
      "figsize(18,10)\n",
      "plt.clf()\n",
      "plt.hold(True)\n",
      "plot(s, 'b')\n",
      "plot(max_state_s, 'r')"
     ],
     "language": "python",
     "metadata": {},
     "outputs": [
      {
       "metadata": {},
       "output_type": "pyout",
       "prompt_number": 18,
       "text": [
        "[<matplotlib.lines.Line2D at 0x1f2fefd0>]"
       ]
      },
      {
       "metadata": {},
       "output_type": "display_data",
       "png": "[encoded data removed]",
       "text": [
        "<matplotlib.figure.Figure at 0x16b53898>"
       ]
      }
     ],
     "prompt_number": 18
    },
    {
     "cell_type": "code",
     "collapsed": false,
     "input": [
      "%lprun -f cc.most_probable_states _ = cc.most_probable_states(f)"
     ],
     "language": "python",
     "metadata": {},
     "outputs": [
      {
       "output_type": "stream",
       "stream": "stdout",
       "text": [
        "\n"
       ]
      }
     ],
     "prompt_number": 5
    },
    {
     "cell_type": "code",
     "collapsed": false,
     "input": [
      "print logpmax\n",
      "print \"log p(max_state): \", cc.log_p(max_state_s, max_state_f, f)\n",
      "print \"log p(s):         \", cc.log_p(s, max_state_f, f)"
     ],
     "language": "python",
     "metadata": {},
     "outputs": [
      {
       "output_type": "stream",
       "stream": "stdout",
       "text": [
        " -3718.99096428\n",
        "log p(max_state):  "
       ]
      },
      {
       "output_type": "stream",
       "stream": "stdout",
       "text": [
        "-inf\n",
        "log p(s):          "
       ]
      },
      {
       "output_type": "stream",
       "stream": "stdout",
       "text": [
        "-inf\n"
       ]
      }
     ],
     "prompt_number": 8
    },
    {
     "cell_type": "code",
     "collapsed": false,
     "input": [
      "smpl = 0\n",
      "f = ws.discrete_force['trn'][200:300, smpl]\n",
      "s = ws.discrete_skin['trn'][200:300, smpl]\n",
      "\n",
      "#max_state = cc.greedy_next_state(f, s)\n",
      "max_state = cc.greedy_states(f)\n",
      "\n",
      "print max_state\n",
      "\n",
      "plt.clf()\n",
      "plot(max_state, 'r')\n",
      "plt.hold(True)\n",
      "plot(s, 'b')"
     ],
     "language": "python",
     "metadata": {},
     "outputs": [
      {
       "output_type": "stream",
       "stream": "stdout",
       "text": [
        "[ 1  1  1  1  1  1  1  1  1  1  1  1  1  1  1  1  1  1  2  2  2  3  3  5  6\n",
        "  7  8 11 13 15 16 17 19 21 23 25 27 29 31 32 33 34 35 36 37 38 39 40 41 42\n",
        " 43 44 45 46 47 48 49 50 51 52 53 54 55 56 57 58 59 60 61 62 63 63 63 63 63\n",
        " 63 63 63 63 63 63 63 63 63 63 63 63 63 63 63 63 63 63 63 63 63 63 63 64 65]\n"
       ]
      },
      {
       "metadata": {},
       "output_type": "pyout",
       "prompt_number": 37,
       "text": [
        "[<matplotlib.lines.Line2D at 0x21f0b908>]"
       ]
      },
      {
       "metadata": {},
       "output_type": "display_data",
       "png": "[encoded data removed]",
       "text": [
        "<matplotlib.figure.Figure at 0x21956eb8>"
       ]
      }
     ],
     "prompt_number": 37
    },
    {
     "cell_type": "code",
     "collapsed": false,
     "input": [
      "mr = np.random.random(size=(3,4,5))\n",
      "print mr\n",
      "mm, m1, m2 = cc.nanargmax_12(mr)\n",
      "print \"mm: \", mm\n",
      "print \"m1: \", m1\n",
      "print \"m2: \", m2"
     ],
     "language": "python",
     "metadata": {},
     "outputs": [
      {
       "output_type": "stream",
       "stream": "stdout",
       "text": [
        "[[[ 0.424  0.646  0.438  0.892  0.964]\n",
        "  [ 0.383  0.792  0.529  0.568  0.926]\n",
        "  [ 0.071  0.087  0.02   0.833  0.778]\n",
        "  [ 0.87   0.979  0.799  0.461  0.781]]\n",
        "\n",
        " [[ 0.118  0.64   0.143  0.945  0.522]\n",
        "  [ 0.415  0.265  0.774  0.456  0.568]\n",
        "  [ 0.019  0.618  0.612  0.617  0.944]\n",
        "  [ 0.682  0.36   0.437  0.698  0.06 ]]\n",
        "\n",
        " [[ 0.667  0.671  0.21   0.129  0.315]\n",
        "  [ 0.364  0.57   0.439  0.988  0.102]\n",
        "  [ 0.209  0.161  0.653  0.253  0.466]\n",
        "  [ 0.244  0.159  0.11   0.656  0.138]]]\n",
        "mm:  [ 0.979  0.945  0.988]\n",
        "m1:  [3 0 1]\n",
        "m2:  [1 3 3]\n"
       ]
      }
     ],
     "prompt_number": 3
    }
   ],
   "metadata": {}
  }
 ]
}