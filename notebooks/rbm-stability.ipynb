{
 "metadata": {
  "name": "rbm-stability"
 },
 "nbformat": 3,
 "nbformat_minor": 0,
 "worksheets": [
  {
   "cells": [
    {
     "cell_type": "code",
     "collapsed": false,
     "input": [
      "%load_ext autoreload\n",
      "%autoreload 2\n",
      "\n",
      "import gnumpy as gp\n",
      "import numpy as np\n",
      "import apps.mnist_svm\n",
      "import apps.mnist_orrbm\n",
      "import rbm.orrbm\n",
      "import rbm.util\n",
      "import rbm.rbm\n",
      "import rbm.sampling\n",
      "import common.util\n",
      "import apps.mnist_reference_dropout as ref\n",
      "\n",
      "from rbm.config import TrainingConfiguration\n",
      "from rbm.rbm import train_rbm, RestrictedBoltzmannMachine"
     ],
     "language": "python",
     "metadata": {},
     "outputs": [
      {
       "output_type": "stream",
       "stream": "stderr",
       "text": [
        "C:\\Python27\\lib\\site-packages\\nose\\util.py:14: DeprecationWarning: The compiler package is deprecated and removed in Python 3.x.\n",
        "  from compiler.consts import CO_GENERATOR\n"
       ]
      }
     ],
     "prompt_number": 1
    },
    {
     "cell_type": "code",
     "collapsed": false,
     "input": [
      "rbm.util.leave_rbm_plot_directory()\n",
      "svc = apps.mnist_svm.load()\n",
      "\n",
      "n_vis=784\n",
      "n_hid=5000\n",
      "init_weight_sigma = 4 * np.sqrt(6. / (n_hid + n_vis))\n",
      "tcfg = TrainingConfiguration(dataset='mnistv',\n",
      "                             n_vis=n_vis, n_hid=n_hid,\n",
      "                             batch_size=20,\n",
      "                             n_gibbs_steps=15,\n",
      "                             epochs=30,\n",
      "                             step_rate=0.1,\n",
      "                             use_pcd=True,\n",
      "                             binarize_data='round',\n",
      "                             initial_momentum=0, final_momentum=0, \n",
      "                             use_final_momentum_from_epoch=0,\n",
      "                             weight_cost=0,\n",
      "                             init_method='uniform', init_weight_sigma=init_weight_sigma, init_bias_sigma=0,\n",
      "                             seed=1)\n",
      "rbm.util.enter_rbm_plot_directory(tcfg)\n",
      "myrbm = RestrictedBoltzmannMachine(20, n_vis, n_hid, 0)\n",
      "rbm.util.load_parameters(myrbm, tcfg.epochs-1)"
     ],
     "language": "python",
     "metadata": {},
     "outputs": [
      {
       "output_type": "stream",
       "stream": "stdout",
       "text": [
        "gnumpy: failed to use gpu_lock. Using board #0 without knowing whether it is in use or not.\n",
        "Entered plot directory C:\\Local\\surban\\dev\\ml\\notebooks\\mnistv-rbm-5000-pcd15-mbs0020-round-sr0.100-m0.00;0.00(00)-c0.0000-iws0.1288-ibs0.0000-0000000001"
       ]
      },
      {
       "output_type": "stream",
       "stream": "stdout",
       "text": [
        "\n",
        "Loading RBM parameters form file weights-29.npz"
       ]
      },
      {
       "output_type": "stream",
       "stream": "stdout",
       "text": [
        "\n"
       ]
      }
     ],
     "prompt_number": 2
    },
    {
     "cell_type": "heading",
     "level": 2,
     "metadata": {},
     "source": [
      "Calculate dropout NN performance on MNIST"
     ]
    },
    {
     "cell_type": "code",
     "collapsed": false,
     "input": [
      "ref_mod = ref.build_model(\"../mnist_dropout_model.npz\")\n",
      "ref_predict = ref.build_predictor(ref_mod)"
     ],
     "language": "python",
     "metadata": {},
     "outputs": [],
     "prompt_number": 3
    },
    {
     "cell_type": "code",
     "collapsed": false,
     "input": [
      "ref_Z=common.util.map(gp.as_numpy_array(tcfg.X), 1000, ref_predict)\n",
      "ref_TZ=common.util.map(gp.as_numpy_array(tcfg.TX), 1000, ref_predict)\n",
      "ref_acc = 1 - common.util.classification_error(ref_Z, tcfg.Z)\n",
      "ref_tacc = 1 - common.util.classification_error(ref_TZ, tcfg.TZ)\n",
      "print \"Reference classification error on whole training set:  %g\" % (1-ref_acc)\n",
      "print \"Reference classification error on whole test set:      %g\" % (1-ref_tacc)"
     ],
     "language": "python",
     "metadata": {},
     "outputs": [
      {
       "output_type": "stream",
       "stream": "stdout",
       "text": [
        "Reference classification error on whole training set:  0.03306\n",
        "Reference classification error on whole test set:      0.0388"
       ]
      },
      {
       "output_type": "stream",
       "stream": "stdout",
       "text": [
        "\n"
       ]
      }
     ],
     "prompt_number": 4
    },
    {
     "cell_type": "heading",
     "level": 2,
     "metadata": {},
     "source": [
      "Stability of sampling"
     ]
    },
    {
     "cell_type": "code",
     "collapsed": false,
     "input": [
      "X=tcfg.X\n",
      "Z=tcfg.Z"
     ],
     "language": "python",
     "metadata": {},
     "outputs": [],
     "prompt_number": 5
    },
    {
     "cell_type": "heading",
     "level": 3,
     "metadata": {},
     "source": [
      "Identity"
     ]
    },
    {
     "cell_type": "code",
     "collapsed": false,
     "input": [
      "id_X=X\n",
      "id_stab = rbm.sampling.generation_accuracy(\"Identity\", ref_predict, myrbm, \n",
      "                                           X, Z, ref_Z,  \n",
      "                                           gen_X=id_X)"
     ],
     "language": "python",
     "metadata": {},
     "outputs": [
      {
       "html": [
        "<table><tr><th>label</th><th>n_samples</th><th>n_success</th><th>classifier_accuracy</th><th>fe_mean</th><th>fe_variance</th></tr><tr><td>Identity</td><td>50000</td><td>48347</td><td>0.96694</td><td>-362.030536905</td><td>697.5130396</td></tr></table>"
       ],
       "output_type": "display_data"
      }
     ],
     "prompt_number": 12
    },
    {
     "cell_type": "code",
     "collapsed": false,
     "input": [
      "id_stab.output_errors(20)"
     ],
     "language": "python",
     "metadata": {},
     "outputs": [
      {
       "output_type": "stream",
       "stream": "stdout",
       "text": [
        "Error probability: 0 [-0.00162693, 0.00162693]\n",
        "Free energy:       [-362.262, -361.799]\n",
        "Misclassified samples:"
       ]
      },
      {
       "output_type": "stream",
       "stream": "stdout",
       "text": [
        "\n",
        "True labels:       []\n",
        "Generated labels:  []\n"
       ]
      }
     ],
     "prompt_number": 13
    },
    {
     "cell_type": "heading",
     "level": 3,
     "metadata": {},
     "source": [
      "Gibbs sampling"
     ]
    },
    {
     "cell_type": "code",
     "collapsed": false,
     "input": [
      "gibbs_X=common.util.map(X, 1000, lambda x: myrbm.gibbs_sample(x, k=100, beta=10)[0], \n",
      "                        caption=\"Generating samples\")\n",
      "gibbs_stab = rbm.sampling.generation_accuracy(\"Gibbs Sampling\", ref_predict, myrbm, \n",
      "                                              X, Z, ref_Z, \n",
      "                                              gen_X=gibbs_X)"
     ],
     "language": "python",
     "metadata": {},
     "outputs": [
      {
       "html": [
        "<table><tr><th>label</th><th>n_samples</th><th>n_success</th><th>classifier_accuracy</th><th>fe_mean</th><th>fe_variance</th></tr><tr><td>Gibbs Sampling</td><td>50000</td><td>46027</td><td>0.96694</td><td>-396.923828296</td><td>886.40540006</td></tr></table>"
       ],
       "output_type": "display_data"
      }
     ],
     "prompt_number": 6
    },
    {
     "cell_type": "code",
     "collapsed": false,
     "input": [
      "figsize(15,7)\n",
      "gibbs_stab.output_errors(20)"
     ],
     "language": "python",
     "metadata": {},
     "outputs": [
      {
       "output_type": "stream",
       "stream": "stdout",
       "text": [
        "Error probability: 0.0481694 [0.0457084, 0.0506304]\n",
        "Free energy:       [-397.185, -396.663]\n",
        "Misclassified samples:"
       ]
      },
      {
       "output_type": "stream",
       "stream": "stdout",
       "text": [
        "\n",
        "True labels:       [9 7 9 9 9 3 4 1 1 4 3 5 7 7 7 7 1 1 9 5]\n",
        "Generated labels:  [8 8 7 8 8 8 9 8 2 0 9 3 3 9 3 9 2 8 8 3]\n"
       ]
      },
      {
       "output_type": "display_data",
       "png": "[encoded data removed]"
      }
     ],
     "prompt_number": 14
    },
    {
     "cell_type": "heading",
     "level": 3,
     "metadata": {},
     "source": [
      "Compare Results"
     ]
    },
    {
     "cell_type": "code",
     "collapsed": false,
     "input": [
      "figsize(10,5)\n",
      "rbm.sampling.plot_stability([id_stab, gibbs_stab])"
     ],
     "language": "python",
     "metadata": {},
     "outputs": [
      {
       "output_type": "display_data",
       "png": "[encoded data removed]"
      }
     ],
     "prompt_number": 15
    },
    {
     "cell_type": "heading",
     "level": 2,
     "metadata": {},
     "source": [
      "Tests"
     ]
    },
    {
     "cell_type": "code",
     "collapsed": false,
     "input": [
      "X=tcfg.X[0:100, :]\n",
      "Z=tcfg.Z[0:100]\n",
      "SX=common.util.map(X, 10, lambda x: myrbm.gibbs_sample(x, k=10, beta=1)[0])\n",
      "#common.util.ipy_plot_samples(SX)\n",
      "SZ=svc.predict(gp.as_numpy_array(SX))\n",
      "print \"Z: \", Z\n",
      "print \"SZ:\" , SZ"
     ],
     "language": "python",
     "metadata": {},
     "outputs": [],
     "prompt_number": "*"
    }
   ],
   "metadata": {}
  }
 ]
}