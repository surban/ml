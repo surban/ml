{
 "metadata": {
  "name": "rbm-stability"
 },
 "nbformat": 3,
 "nbformat_minor": 0,
 "worksheets": [
  {
   "cells": [
    {
     "cell_type": "code",
     "collapsed": false,
     "input": [
      "%load_ext autoreload\n",
      "%autoreload 2\n",
      "\n",
      "import gnumpy as gp\n",
      "import numpy as np\n",
      "import apps.mnist_svm\n",
      "import apps.mnist_orrbm\n",
      "import rbm.orrbm\n",
      "import rbm.util\n",
      "import rbm.rbm\n",
      "import common.util\n",
      "\n",
      "from rbm.config import TrainingConfiguration\n",
      "from rbm.rbm import train_rbm, RestrictedBoltzmannMachine"
     ],
     "language": "python",
     "metadata": {},
     "outputs": [],
     "prompt_number": 15
    },
    {
     "cell_type": "code",
     "collapsed": false,
     "input": [
      "rbm.util.leave_rbm_plot_directory()\n",
      "svc = apps.mnist_svm.load()\n",
      "\n",
      "n_vis=784\n",
      "n_hid=5000\n",
      "init_weight_sigma = 4 * np.sqrt(6. / (n_hid + n_vis))\n",
      "tcfg = TrainingConfiguration(dataset='mnistv',\n",
      "                             n_vis=n_vis, n_hid=n_hid,\n",
      "                             batch_size=20,\n",
      "                             n_gibbs_steps=15,\n",
      "                             epochs=30,\n",
      "                             step_rate=0.1,\n",
      "                             use_pcd=True,\n",
      "                             binarize_data='round',\n",
      "                             initial_momentum=0, final_momentum=0, \n",
      "                             use_final_momentum_from_epoch=0,\n",
      "                             weight_cost=0,\n",
      "                             init_method='uniform', init_weight_sigma=init_weight_sigma, init_bias_sigma=0,\n",
      "                             seed=1)\n",
      "rbm.util.enter_rbm_plot_directory(tcfg)\n",
      "myrbm = RestrictedBoltzmannMachine(20, n_vis, n_hid, 0)\n",
      "rbm.util.load_parameters(myrbm, tcfg.epochs-1)"
     ],
     "language": "python",
     "metadata": {},
     "outputs": [
      {
       "output_type": "stream",
       "stream": "stdout",
       "text": [
        "gnumpy: failed to use gpu_lock. Using board #0 without knowing whether it is in use or not.\n",
        "Entered plot directory C:\\Local\\surban\\dev\\ml\\notebooks\\mnistv-rbm-5000-pcd15-mbs0020-round-sr0.100-m0.00;0.00(00)-c0.0000-iws0.1288-ibs0.0000-0000000001"
       ]
      },
      {
       "output_type": "stream",
       "stream": "stdout",
       "text": [
        "\n",
        "Loading RBM parameters form file weights-29.npz"
       ]
      },
      {
       "output_type": "stream",
       "stream": "stdout",
       "text": [
        "\n"
       ]
      },
      {
       "output_type": "stream",
       "stream": "stderr",
       "text": [
        "C:\\Python27\\lib\\site-packages\\numpy\\lib\\utils.py:1132: DeprecationWarning: The compiler package is deprecated and removed in Python 3.x.\n",
        "  import compiler\n"
       ]
      }
     ],
     "prompt_number": 2
    },
    {
     "cell_type": "heading",
     "level": 2,
     "metadata": {},
     "source": [
      "Calculate SVM classifier performance on MNIST"
     ]
    },
    {
     "cell_type": "code",
     "collapsed": false,
     "input": [
      "CZ=common.util.map(tcfg.X, 1000, lambda x: svc.predict(gp.as_numpy_array(x)), show_progress=True)\n",
      "CZ=gp.as_numpy_array(CZ)"
     ],
     "language": "python",
     "metadata": {},
     "outputs": [
      {
       "output_type": "stream",
       "stream": "stdout",
       "text": [
        "0 / 50\n",
        "1 / 50"
       ]
      },
      {
       "output_type": "stream",
       "stream": "stdout",
       "text": [
        "\n",
        "2 / 50"
       ]
      },
      {
       "output_type": "stream",
       "stream": "stdout",
       "text": [
        "\n",
        "3 / 50"
       ]
      },
      {
       "output_type": "stream",
       "stream": "stdout",
       "text": [
        "\n",
        "4 / 50"
       ]
      },
      {
       "output_type": "stream",
       "stream": "stdout",
       "text": [
        "\n",
        "5 / 50"
       ]
      },
      {
       "output_type": "stream",
       "stream": "stdout",
       "text": [
        "\n",
        "6 / 50"
       ]
      },
      {
       "output_type": "stream",
       "stream": "stdout",
       "text": [
        "\n",
        "7 / 50"
       ]
      },
      {
       "output_type": "stream",
       "stream": "stdout",
       "text": [
        "\n",
        "8 / 50"
       ]
      },
      {
       "output_type": "stream",
       "stream": "stdout",
       "text": [
        "\n",
        "9 / 50"
       ]
      },
      {
       "output_type": "stream",
       "stream": "stdout",
       "text": [
        "\n",
        "10 / 50"
       ]
      },
      {
       "output_type": "stream",
       "stream": "stdout",
       "text": [
        "\n",
        "11 / 50"
       ]
      },
      {
       "output_type": "stream",
       "stream": "stdout",
       "text": [
        "\n",
        "12 / 50"
       ]
      },
      {
       "output_type": "stream",
       "stream": "stdout",
       "text": [
        "\n",
        "13 / 50"
       ]
      },
      {
       "output_type": "stream",
       "stream": "stdout",
       "text": [
        "\n",
        "14 / 50"
       ]
      },
      {
       "output_type": "stream",
       "stream": "stdout",
       "text": [
        "\n",
        "15 / 50"
       ]
      },
      {
       "output_type": "stream",
       "stream": "stdout",
       "text": [
        "\n",
        "16 / 50"
       ]
      },
      {
       "output_type": "stream",
       "stream": "stdout",
       "text": [
        "\n",
        "17 / 50"
       ]
      },
      {
       "output_type": "stream",
       "stream": "stdout",
       "text": [
        "\n",
        "18 / 50"
       ]
      },
      {
       "output_type": "stream",
       "stream": "stdout",
       "text": [
        "\n",
        "19 / 50"
       ]
      },
      {
       "output_type": "stream",
       "stream": "stdout",
       "text": [
        "\n",
        "20 / 50"
       ]
      },
      {
       "output_type": "stream",
       "stream": "stdout",
       "text": [
        "\n",
        "21 / 50"
       ]
      },
      {
       "output_type": "stream",
       "stream": "stdout",
       "text": [
        "\n",
        "22 / 50"
       ]
      },
      {
       "output_type": "stream",
       "stream": "stdout",
       "text": [
        "\n",
        "23 / 50"
       ]
      },
      {
       "output_type": "stream",
       "stream": "stdout",
       "text": [
        "\n",
        "24 / 50"
       ]
      },
      {
       "output_type": "stream",
       "stream": "stdout",
       "text": [
        "\n",
        "25 / 50"
       ]
      },
      {
       "output_type": "stream",
       "stream": "stdout",
       "text": [
        "\n",
        "26 / 50"
       ]
      },
      {
       "output_type": "stream",
       "stream": "stdout",
       "text": [
        "\n",
        "27 / 50"
       ]
      },
      {
       "output_type": "stream",
       "stream": "stdout",
       "text": [
        "\n",
        "28 / 50"
       ]
      },
      {
       "output_type": "stream",
       "stream": "stdout",
       "text": [
        "\n",
        "29 / 50"
       ]
      },
      {
       "output_type": "stream",
       "stream": "stdout",
       "text": [
        "\n",
        "30 / 50"
       ]
      },
      {
       "output_type": "stream",
       "stream": "stdout",
       "text": [
        "\n",
        "31 / 50"
       ]
      },
      {
       "output_type": "stream",
       "stream": "stdout",
       "text": [
        "\n",
        "32 / 50"
       ]
      },
      {
       "output_type": "stream",
       "stream": "stdout",
       "text": [
        "\n",
        "33 / 50"
       ]
      },
      {
       "output_type": "stream",
       "stream": "stdout",
       "text": [
        "\n",
        "34 / 50"
       ]
      },
      {
       "output_type": "stream",
       "stream": "stdout",
       "text": [
        "\n",
        "35 / 50"
       ]
      },
      {
       "output_type": "stream",
       "stream": "stdout",
       "text": [
        "\n",
        "36 / 50"
       ]
      },
      {
       "output_type": "stream",
       "stream": "stdout",
       "text": [
        "\n",
        "37 / 50"
       ]
      },
      {
       "output_type": "stream",
       "stream": "stdout",
       "text": [
        "\n",
        "38 / 50"
       ]
      },
      {
       "output_type": "stream",
       "stream": "stdout",
       "text": [
        "\n",
        "39 / 50"
       ]
      },
      {
       "output_type": "stream",
       "stream": "stdout",
       "text": [
        "\n",
        "40 / 50"
       ]
      },
      {
       "output_type": "stream",
       "stream": "stdout",
       "text": [
        "\n",
        "41 / 50"
       ]
      },
      {
       "output_type": "stream",
       "stream": "stdout",
       "text": [
        "\n",
        "42 / 50"
       ]
      },
      {
       "output_type": "stream",
       "stream": "stdout",
       "text": [
        "\n",
        "43 / 50"
       ]
      },
      {
       "output_type": "stream",
       "stream": "stdout",
       "text": [
        "\n",
        "44 / 50"
       ]
      }
     ],
     "prompt_number": "*"
    },
    {
     "cell_type": "code",
     "collapsed": false,
     "input": [
      "CTZ=common.util.map(tcfg.TX, 1000, lambda x: svc.predict(gp.as_numpy_array(x)), show_progress=True)\n",
      "CTZ=gp.as_numpy_array(CTZ)\n",
      "np.savez_compressed(\"mnist_svm_classified.npz\", CZ=CZ, CTZ=CTZ)"
     ],
     "language": "python",
     "metadata": {},
     "outputs": [
      {
       "output_type": "stream",
       "stream": "stdout",
       "text": [
        "0 / 10\n",
        "1 / 10"
       ]
      },
      {
       "output_type": "stream",
       "stream": "stdout",
       "text": [
        "\n",
        "2 / 10"
       ]
      },
      {
       "output_type": "stream",
       "stream": "stdout",
       "text": [
        "\n",
        "3 / 10"
       ]
      },
      {
       "output_type": "stream",
       "stream": "stdout",
       "text": [
        "\n",
        "4 / 10"
       ]
      },
      {
       "output_type": "stream",
       "stream": "stdout",
       "text": [
        "\n",
        "5 / 10"
       ]
      },
      {
       "output_type": "stream",
       "stream": "stdout",
       "text": [
        "\n",
        "6 / 10"
       ]
      },
      {
       "output_type": "stream",
       "stream": "stdout",
       "text": [
        "\n",
        "7 / 10"
       ]
      },
      {
       "output_type": "stream",
       "stream": "stdout",
       "text": [
        "\n",
        "8 / 10"
       ]
      },
      {
       "output_type": "stream",
       "stream": "stdout",
       "text": [
        "\n",
        "9 / 10"
       ]
      },
      {
       "output_type": "stream",
       "stream": "stdout",
       "text": [
        "\n"
       ]
      }
     ],
     "prompt_number": 76
    },
    {
     "cell_type": "code",
     "collapsed": false,
     "input": [
      "data =  np.load(\"mnist_svm_classified.npz\")\n",
      "CZ = data['CZ']\n",
      "CTZ = data['CTZ']\n",
      "cerr = common.util.classification_error(CZ, tcfg.Z)\n",
      "cterr = common.util.classification_error(CTZ, tcfg.TZ)\n",
      "print \"SVM classification error on whole training set:  %g\" % cerr\n",
      "print \"SVM classification error on whole test set:      %g\" % cterr"
     ],
     "language": "python",
     "metadata": {},
     "outputs": [
      {
       "output_type": "stream",
       "stream": "stdout",
       "text": [
        "SVM classification error on whole training set:  0.06054\n",
        "SVM classification error on whole test set:      0.0599\n"
       ]
      }
     ],
     "prompt_number": 77
    },
    {
     "cell_type": "code",
     "collapsed": false,
     "input": [
      "X=tcfg.X[0:100, :]\n",
      "Z=tcfg.Z[0:100]\n",
      "SX=common.util.map(X, 10, lambda x: myrbm.gibbs_sample(x, k=10, beta=1)[0])\n",
      "#common.util.ipy_plot_samples(SX)\n",
      "SZ=svc.predict(gp.as_numpy_array(SX))\n",
      "print \"Z: \", Z\n",
      "print \"SZ:\" , SZ"
     ],
     "language": "python",
     "metadata": {},
     "outputs": [
      {
       "output_type": "stream",
       "stream": "stdout",
       "text": [
        "Z:  [5 0 4 1 9 2 1 3 1 4 3 5 3 6 1 7 2 8 6 9 4 0 9 1 1 2 4 3 2 7 3 8 6 9 0 5 6\n",
        " 0 7 6 1 8 7 9 3 9 8 5 9 3 3 0 7 4 9 8 0 9 4 1 4 4 6 0 4 5 6 1 0 0 1 7 1 6\n",
        " 3 0 2 1 1 7 9 0 2 6 7 8 3 9 0 4 6 7 4 6 8 0 7 8 3 1]\n",
        "SZ: [5 0 4 1 9 2 1 3 1 4 3 5 3 6 1 7 2 8 6 9 4 0 9 1 3 2 4 3 2 7 3 8 6 9 0 5 6\n",
        " 0 7 6 1 8 7 9 3 9 8 5 3 3 3 0 7 4 4 8 0 9 4 1 4 4 6 0 4 5 6 1 0 0 2 7 1 6\n",
        " 3 0 2 1 1 7 0 0 2 6 7 8 3 9 0 4 6 7 4 6 8 0 7 8 3 1]\n"
       ]
      }
     ],
     "prompt_number": 17
    },
    {
     "cell_type": "code",
     "collapsed": false,
     "input": [
      "rng=range(100,300)\n",
      "X=tcfg.X[rng, :]\n",
      "Z=tcfg.Z[rng]\n",
      "SX=common.util.map(X, 50, lambda x: myrbm.gibbs_sample(x, k=100, beta=10)[0])\n",
      "err_prob, err_tmpl_X, err_gen_X, err_tmpl_Z, err_gen_Z, err_tmpl_CZ = rbm.util.generation_performance(svc, X, SX, Z)\n",
      "print \"Error probability: %g\" % err_prob\n",
      "print \"True labels:           \", err_tmpl_Z\n",
      "print \"Classificator labels:  \", err_tmpl_CZ\n",
      "print \"Generated labels:      \", err_gen_Z\n",
      "plt.figsize(20,20)\n",
      "common.util.ipy_plot_samples(err_tmpl_X)\n",
      "plt.figure()\n",
      "common.util.ipy_plot_samples(err_gen_X)"
     ],
     "language": "python",
     "metadata": {},
     "outputs": [
      {
       "output_type": "stream",
       "stream": "stdout",
       "text": [
        "Error probability: 0.085\n",
        "True labels:            [5 1 5 7 7 7 7 9 1 2 7 1 3 2 9 2 5]\n",
        "Classificator labels:  "
       ]
      },
      {
       "output_type": "stream",
       "stream": "stdout",
       "text": [
        " [3 5 6 7 4 7 7 4 1 0 7 8 5 5 4 7 6]\n",
        "Generated labels:       [8 4 3 3 2 4 8 4 8 0 9 2 5 6 4 6 2]\n"
       ]
      },
      {
       "output_type": "pyout",
       "prompt_number": 57,
       "text": [
        "<matplotlib.image.AxesImage at 0x1c16a898>"
       ]
      },
      {
       "output_type": "display_data",
       "png": "[encoded data removed]"
      },
      {
       "output_type": "display_data",
       "png": "[encoded data removed]"
      }
     ],
     "prompt_number": 57
    },
    {
     "cell_type": "code",
     "collapsed": false,
     "input": [],
     "language": "python",
     "metadata": {},
     "outputs": []
    }
   ],
   "metadata": {}
  }
 ]
}