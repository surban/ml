{
 "metadata": {
  "name": "",
  "signature": "sha256:25a01b52c0fdc7b4fe567db78b5c2aed3b4b26beb112ff2126c2e41ec158b40c"
 },
 "nbformat": 3,
 "nbformat_minor": 0,
 "worksheets": [
  {
   "cells": [
    {
     "cell_type": "code",
     "collapsed": false,
     "input": [
      "%load_ext autoreload\n",
      "%autoreload 2\n",
      "%load_ext line_profiler\n",
      "\n",
      "import numpy as np\n",
      "import matplotlib.pyplot as plt\n",
      "\n",
      "from ml.apps.skin.timeseries import *\n",
      "from ml.apps.skin.workingset import *\n",
      "from ml.simple.conditional_chain import *\n",
      "from ml.datasets.skin import SkinDataset\n",
      "from ml.common.util import ParameterHistory\n",
      "from ml.common.test import check_gradient, check_directional_gradient\n",
      "from climin.gd import GradientDescent\n",
      "from climin.bfgs import Bfgs, Lbfgs\n",
      "from climin.rmsprop import RmsProp\n",
      "\n",
      "#ws = SkinWorkingset(\"raising_small\", (1,1), force_step=0.1, skin_step=0.02, curve_limit=4)\n",
      "ws = SkinWorkingset(\"bidir_small\", (1,1), force_step=0.1, skin_step=0.02)\n",
      "#ws = SkinWorkingset(\"bidir_small\", (3,3), force_step=0.1, skin_step=0.005, skin_max=1)\n",
      "print \"force states: \", ws.discrete_force_states\n",
      "print \"skin states:  \", ws.discrete_skin_states"
     ],
     "language": "python",
     "metadata": {},
     "outputs": [
      {
       "output_type": "stream",
       "stream": "stdout",
       "text": [
        "The autoreload extension is already loaded. To reload it, use:\n",
        "  %reload_ext autoreload\n",
        "The line_profiler extension is already loaded. To reload it, use:\n",
        "  %reload_ext line_profiler\n",
        "Dataset Z:\\dev\\indentor\\indentor\\apps\\out\\bidir_small.skn:\n",
        "     taxel          train   validation   test\n",
        "     1,1            800     100          100\n",
        "     2,5            800     100          100\n",
        "     3,2            800     100          100\n",
        "     3,3            800     100          100\n",
        "     4,6            532      66           66\n",
        "     5,2            800     100          100\n",
        "     6,5            800     100          100\n",
        "     7,3            800     100          100\n",
        "Avg. datapoints per record: 2398"
       ]
      },
      {
       "output_type": "stream",
       "stream": "stdout",
       "text": [
        "\n",
        "Sampling interval:          0.01 s\n",
        "\n",
        "Using taxel  (1, 1)\n",
        "\n",
        "trn: next step:          1916473 steps"
       ]
      },
      {
       "output_type": "stream",
       "stream": "stdout",
       "text": [
        "\n",
        "trn: curves:             800"
       ]
      },
      {
       "output_type": "stream",
       "stream": "stdout",
       "text": [
        "\n",
        "val: next step:          243747 steps"
       ]
      },
      {
       "output_type": "stream",
       "stream": "stdout",
       "text": [
        "\n",
        "val: curves:             100\n",
        "tst: next step:          245504 steps"
       ]
      },
      {
       "output_type": "stream",
       "stream": "stdout",
       "text": [
        "\n",
        "tst: curves:             100\n",
        "force states: "
       ]
      },
      {
       "output_type": "stream",
       "stream": "stdout",
       "text": [
        " 253\n",
        "skin states:   108\n"
       ]
      }
     ],
     "prompt_number": 23
    },
    {
     "cell_type": "code",
     "collapsed": false,
     "input": [
      "cc = ConditionalChain(ws.discrete_skin_states, ws.discrete_force_states)\n",
      "cc.train(ws.discrete_skin['trn'], ws.discrete_force['trn'], ws.valid['trn'])"
     ],
     "language": "python",
     "metadata": {},
     "outputs": [],
     "prompt_number": 12
    },
    {
     "cell_type": "code",
     "collapsed": false,
     "input": [
      "smpl = 21\n",
      "prt = 'trn'\n",
      "\n",
      "f = ws.discrete_force[prt][0:2000, smpl]\n",
      "s = ws.discrete_skin[prt][0:2000, smpl]\n",
      "v = ws.valid[prt][:, smpl]\n",
      "max_v = np.nonzero(v)\n",
      "last_valid = max_v[0][-1]\n",
      "f = f[0:last_valid-10]\n",
      "s = s[0:last_valid-10]\n",
      "\n",
      "max_state, logpmax = cc.most_probable_states(f)\n",
      "\n",
      "figsize(14,4)\n",
      "plt.clf()\n",
      "plt.hold(True)\n",
      "plot(s, 'b')\n",
      "plot(max_state, 'rx')"
     ],
     "language": "python",
     "metadata": {},
     "outputs": [
      {
       "metadata": {},
       "output_type": "pyout",
       "prompt_number": 18,
       "text": [
        "[<matplotlib.lines.Line2D at 0x2803f748>]"
       ]
      },
      {
       "metadata": {},
       "output_type": "display_data",
       "png": "[encoded data removed]",
       "text": [
        "<matplotlib.figure.Figure at 0x27bcab38>"
       ]
      }
     ],
     "prompt_number": 18
    },
    {
     "cell_type": "code",
     "collapsed": false,
     "input": [
      "print logpmax\n",
      "print \"log p(max_state): \", cc.log_p(max_state, f)\n",
      "print \"log p(s):         \", cc.log_p(s, f)"
     ],
     "language": "python",
     "metadata": {},
     "outputs": [
      {
       "output_type": "stream",
       "stream": "stdout",
       "text": [
        "-402.794956066\n",
        "log p(max_state):  -402.694835178\n",
        "log p(s):          -1626.43439463\n"
       ]
      }
     ],
     "prompt_number": 14
    },
    {
     "cell_type": "code",
     "collapsed": false,
     "input": [
      "print max_state[400:500]\n",
      "print f[400:500]\n",
      "print cc.p_next_state[:, 7, 7]\n",
      "print find_evidence(7, 44, ws.discrete_skin['trn'])"
     ],
     "language": "python",
     "metadata": {},
     "outputs": [
      {
       "output_type": "stream",
       "stream": "stdout",
       "text": [
        "[ 5  5  5  5  5  5  5  5  5  5  5  6  7 44 45 46 46 47 47 48 49 50 51 52 53\n",
        " 54 55 56 57 58 59 60 60 60 60 60 60 60 60 61 62 68 69 69 69 69 69 69 69 69\n",
        " 69 69 69 69 69 69 69 69 69 69 70 70 70 71 72 77 77 77 77 77 77 77 77 77 77\n",
        " 77 77 77 77 77 77 77 77 77 77 77 77 77 77 77 77 77 77 77 77 77 77 77 77 77]\n",
        "[6 6 6 7 7 6 6 7 6 7 6 7 7 7 6 7 6 7 6 7 7 7 7 7 7 7 7 7 7 7 7 7 7 7 7 7 7\n",
        " 7 7 8 8 8 8 7 7 7 7 7 7 7 7 7 7 7 7 8 7 8 7 7 8 7 7 8 7 8 8 8 8 8 8 8 8 8\n",
        " 8 8 8 8 8 8 8 8 8 8 8 8 8 8 8 8 9 9 8 9 8 9 9 9 9 8]\n",
        "[ 0.     0.     0.     0.     0.     0.     0.     0.239  0.284  0.254\n",
        "  0.134  0.03   0.     0.015  0.     0.     0.015  0.     0.     0.     0.\n",
        "  0.     0.     0.     0.     0.     0.     0.     0.     0.     0.     0.\n",
        "  0.     0.     0.     0.     0.015  0.     0.     0.     0.     0.     0.\n",
        "  0.     0.015  0.     0.     0.     0.     0.     0.     0.     0.     0.\n",
        "  0.     0.     0.     0.     0.     0.     0.     0.     0.     0.     0.\n",
        "  0.     0.     0.     0.     0.     0.     0.     0.     0.     0.     0.\n",
        "  0.     0.     0.     0.     0.     0.     0.     0.     0.     0.     0.\n",
        "  0.     0.     0.     0.     0.     0.     0.     0.     0.     0.     0.\n",
        "  0.     0.     0.     0.     0.     0.     0.     0.     0.     0.   ]\n",
        "[727]\n"
       ]
      }
     ],
     "prompt_number": 24
    },
    {
     "cell_type": "code",
     "collapsed": false,
     "input": [
      "plot(ws.discrete_skin['trn'][:, 727], 'bx')"
     ],
     "language": "python",
     "metadata": {},
     "outputs": [
      {
       "metadata": {},
       "output_type": "pyout",
       "prompt_number": 25,
       "text": [
        "[<matplotlib.lines.Line2D at 0x1934d518>]"
       ]
      },
      {
       "metadata": {},
       "output_type": "display_data",
       "png": "[encoded data removed]",
       "text": [
        "<matplotlib.figure.Figure at 0x27bbb240>"
       ]
      }
     ],
     "prompt_number": 25
    }
   ],
   "metadata": {}
  }
 ]
}