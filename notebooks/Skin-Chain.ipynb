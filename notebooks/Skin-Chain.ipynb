{
 "metadata": {
  "name": "",
  "signature": "sha256:373027a5c9032ee48d848b4fb202a765f883d498f6e20625c423ed47861ee8c7"
 },
 "nbformat": 3,
 "nbformat_minor": 0,
 "worksheets": [
  {
   "cells": [
    {
     "cell_type": "code",
     "collapsed": false,
     "input": [
      "%load_ext autoreload\n",
      "%autoreload 2\n",
      "%load_ext line_profiler\n",
      "\n",
      "import numpy as np\n",
      "import matplotlib.pyplot as plt\n",
      "\n",
      "from ml.apps.skin.timeseries import *\n",
      "from ml.apps.skin.workingset import *\n",
      "from ml.simple.conditional_chain import *\n",
      "from ml.datasets.skin import SkinDataset\n",
      "from ml.common.util import ParameterHistory\n",
      "from ml.common.test import check_gradient, check_directional_gradient\n",
      "from climin.gd import GradientDescent\n",
      "from climin.bfgs import Bfgs, Lbfgs\n",
      "from climin.rmsprop import RmsProp\n",
      "\n",
      "ws = SkinWorkingset(\"raising_small\", (1,1), force_step=0.1, skin_step=0.02, curve_limit=4)\n",
      "#ws = SkinWorkingset(\"bidir_small\", (1,1), force_step=0.1, skin_step=0.02)\n",
      "#ws = SkinWorkingset(\"bidir_small\", (3,3), force_step=0.1, skin_step=0.005, skin_max=1)\n",
      "print \"force states: \", ws.discrete_force_states\n",
      "print \"skin states:  \", ws.discrete_skin_states"
     ],
     "language": "python",
     "metadata": {},
     "outputs": [
      {
       "output_type": "stream",
       "stream": "stdout",
       "text": [
        "common.gpu uses GPU:  False\n",
        "Dataset Z:\\dev\\indentor\\indentor\\apps\\out\\raising_small.skn:"
       ]
      },
      {
       "output_type": "stream",
       "stream": "stdout",
       "text": [
        "\n",
        "     taxel          train   validation   test\n",
        "     1,1            800     100          100"
       ]
      },
      {
       "output_type": "stream",
       "stream": "stdout",
       "text": [
        "\n",
        "     3,2            785      98           98"
       ]
      },
      {
       "output_type": "stream",
       "stream": "stdout",
       "text": [
        "\n",
        "Avg. datapoints per record: 2433"
       ]
      },
      {
       "output_type": "stream",
       "stream": "stdout",
       "text": [
        "\n",
        "Sampling interval:          0.01 s\n",
        "\n",
        "Using taxel  (1, 1)\n",
        "\n",
        "trn: next step:          10404 steps\n",
        "trn: curves:             4"
       ]
      },
      {
       "output_type": "stream",
       "stream": "stdout",
       "text": [
        "\n",
        "val: next step:          10031 steps\n",
        "val: curves:             4\n",
        "tst: next step:          10266 steps\n",
        "tst: curves:             4\n",
        "force states:  253\n",
        "skin states:   108\n"
       ]
      }
     ],
     "prompt_number": 1
    },
    {
     "cell_type": "code",
     "collapsed": false,
     "input": [
      "cc = ConditionalChain(ws.discrete_skin_states, ws.discrete_force_states)\n",
      "cc.train(ws.discrete_skin['trn'], ws.discrete_force['trn'], ws.valid['trn'])"
     ],
     "language": "python",
     "metadata": {},
     "outputs": [],
     "prompt_number": 8
    },
    {
     "cell_type": "code",
     "collapsed": false,
     "input": [
      "cc.p_next_state[:, 5, 4]"
     ],
     "language": "python",
     "metadata": {},
     "outputs": [
      {
       "metadata": {},
       "output_type": "pyout",
       "prompt_number": 7,
       "text": [
        "array([ 0.,  0.,  0.,  0.,  0.,  1.,  0.,  0.,  0.,  0.,  0.,  0.,  0.,\n",
        "        0.,  0.,  0.,  0.,  0.,  0.,  0.,  0.,  0.,  0.,  0.,  0.,  0.,\n",
        "        0.,  0.,  0.,  0.,  0.,  0.,  0.,  0.,  0.,  0.,  0.,  0.,  0.,\n",
        "        0.,  0.,  0.,  0.,  0.,  0.,  0.,  0.,  0.,  0.,  0.,  0.,  0.,\n",
        "        0.,  0.,  0.,  0.,  0.,  0.,  0.,  0.,  0.,  0.,  0.,  0.,  0.,\n",
        "        0.,  0.,  0.,  0.,  0.,  0.,  0.,  0.,  0.,  0.,  0.,  0.,  0.,\n",
        "        0.,  0.,  0.,  0.,  0.,  0.,  0.,  0.,  0.,  0.,  0.,  0.,  0.,\n",
        "        0.,  0.,  0.,  0.,  0.,  0.,  0.,  0.,  0.,  0.,  0.,  0.,  0.,\n",
        "        0.,  0.,  0.,  0.])"
       ]
      }
     ],
     "prompt_number": 7
    },
    {
     "cell_type": "code",
     "collapsed": false,
     "input": [
      "smpl = 1\n",
      "prt = 'trn'\n",
      "\n",
      "f = ws.discrete_force[prt][0:1000, smpl]\n",
      "s = ws.discrete_skin[prt][0:1000, smpl]\n",
      "v = ws.valid[prt][:, smpl]\n",
      "max_v = np.nonzero(v)\n",
      "last_valid = max_v[0][-1]\n",
      "f = f[0:last_valid-10]\n",
      "s = s[0:last_valid-10]\n",
      "\n",
      "max_state, logpmax = cc.most_probable_states(f)\n",
      "\n",
      "figsize(18,10)\n",
      "plt.clf()\n",
      "plt.hold(True)\n",
      "plot(s, 'b')\n",
      "plot(max_state, 'r')"
     ],
     "language": "python",
     "metadata": {},
     "outputs": [
      {
       "metadata": {},
       "output_type": "pyout",
       "prompt_number": 27,
       "text": [
        "[<matplotlib.lines.Line2D at 0x202fe2e8>]"
       ]
      },
      {
       "metadata": {},
       "output_type": "display_data",
       "png": "[encoded data removed]",
       "text": [
        "<matplotlib.figure.Figure at 0x1f8288d0>"
       ]
      }
     ],
     "prompt_number": 27
    },
    {
     "cell_type": "code",
     "collapsed": false,
     "input": [
      "print logpmax\n",
      "print \"log p(max_state): \", cc.log_p(max_state, f)\n",
      "print \"log p(s):         \", cc.log_p(s, f)"
     ],
     "language": "python",
     "metadata": {},
     "outputs": [
      {
       "output_type": "stream",
       "stream": "stdout",
       "text": [
        "nan\n",
        "log p(max_state):  nan\n",
        "log p(s):          -451.147314191\n"
       ]
      }
     ],
     "prompt_number": 35
    },
    {
     "cell_type": "code",
     "collapsed": false,
     "input": [
      "smpl = 0\n",
      "f = ws.discrete_force['trn'][200:300, smpl]\n",
      "s = ws.discrete_skin['trn'][200:300, smpl]\n",
      "\n",
      "#max_state = cc.greedy_next_state(f, s)\n",
      "max_state = cc.greedy_states(f)\n",
      "\n",
      "print max_state\n",
      "\n",
      "plt.clf()\n",
      "plot(max_state, 'r')\n",
      "plt.hold(True)\n",
      "plot(s, 'b')"
     ],
     "language": "python",
     "metadata": {},
     "outputs": [
      {
       "output_type": "stream",
       "stream": "stdout",
       "text": [
        "[ 1  1  1  1  1  1  1  1  1  1  1  1  1  1  1  1  1  1  2  2  2  3  3  5  6\n",
        "  7  8 11 13 15 16 17 19 21 23 25 27 29 31 32 33 34 35 36 37 38 39 40 41 42\n",
        " 43 44 45 46 47 48 49 50 51 52 53 54 55 56 57 58 59 60 61 62 63 63 63 63 63\n",
        " 63 63 63 63 63 63 63 63 63 63 63 63 63 63 63 63 63 63 63 63 63 63 63 64 65]\n"
       ]
      },
      {
       "metadata": {},
       "output_type": "pyout",
       "prompt_number": 37,
       "text": [
        "[<matplotlib.lines.Line2D at 0x21f0b908>]"
       ]
      },
      {
       "metadata": {},
       "output_type": "display_data",
       "png": "[encoded data removed]",
       "text": [
        "<matplotlib.figure.Figure at 0x21956eb8>"
       ]
      }
     ],
     "prompt_number": 37
    }
   ],
   "metadata": {}
  }
 ]
}