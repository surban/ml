{
 "metadata": {
  "name": "orrbm"
 },
 "nbformat": 3,
 "nbformat_minor": 0,
 "worksheets": [
  {
   "cells": [
    {
     "cell_type": "code",
     "collapsed": false,
     "input": [
      "%load_ext autoreload\n",
      "%autoreload 2\n",
      "\n",
      "from rbm.rbm import train_rbm, RestrictedBoltzmannMachine\n",
      "from rbm.config import TrainingConfiguration\n",
      "from rbm.ais import AnnealedImportanceSampler\n",
      "import apps.generate_letters\n",
      "import rbm.util\n",
      "import rbm.sampling\n",
      "import rbm.orrbm\n",
      "import common\n",
      "import common.util\n",
      "import gnumpy as gp\n",
      "import numpy as np\n",
      "import pylab\n",
      "import os\n",
      "\n",
      "gp.expensive_check_probability = 0"
     ],
     "language": "python",
     "metadata": {},
     "outputs": [],
     "prompt_number": 105
    },
    {
     "cell_type": "code",
     "collapsed": false,
     "input": [
      "n_vis=784\n",
      "n_hid=5000\n",
      "init_weight_sigma = 4 * np.sqrt(6. / (n_hid + n_vis))\n",
      "tcfg = TrainingConfiguration(dataset='mnistv',\n",
      "                             n_vis=n_vis, n_hid=n_hid,\n",
      "                             batch_size=20,\n",
      "                             n_gibbs_steps=15,\n",
      "                             epochs=30,\n",
      "                             step_rate=0.1,\n",
      "                             use_pcd=True,\n",
      "                             binarize_data='round',\n",
      "                             initial_momentum=0, final_momentum=0, \n",
      "                             use_final_momentum_from_epoch=0,\n",
      "                             weight_cost=0,\n",
      "                             init_method='uniform', init_weight_sigma=init_weight_sigma, init_bias_sigma=0,\n",
      "                             seed=1)\n",
      "rbm.util.enter_rbm_plot_directory(tcfg)\n",
      "\n",
      "def or_sample(i, j):\n",
      "    return rbm.orrbm.or_sample(tcfg.X[i,:], tcfg.X[j,:])\n"
     ],
     "language": "python",
     "metadata": {},
     "outputs": [
      {
       "output_type": "stream",
       "stream": "stdout",
       "text": [
        "Leaving plot directory C:\\Local\\surban\\dev\\ml\\notebooks\\mnistv-rbm-5000-pcd15-mbs0020-round-sr0.100-m0.00;0.00(00)-c0.0000-iws0.1288-ibs0.0000-0000000001\n",
        "Entered plot directory C:\\Local\\surban\\dev\\ml\\notebooks\\mnistv-rbm-5000-pcd15-mbs0020-round-sr0.100-m0.00;0.00(00)-c0.0000-iws0.1288-ibs0.0000-0000000001\n"
       ]
      }
     ],
     "prompt_number": 108
    },
    {
     "cell_type": "code",
     "collapsed": false,
     "input": [
      "epoch = tcfg.epochs - 1\n",
      "\n",
      "myrbm = RestrictedBoltzmannMachine(20, n_vis, n_hid, 0)\n",
      "rbm.util.load_parameters(myrbm, epoch)"
     ],
     "language": "python",
     "metadata": {},
     "outputs": [
      {
       "output_type": "stream",
       "stream": "stdout",
       "text": [
        "Loading RBM parameters form file weights-29.npz\n"
       ]
      }
     ],
     "prompt_number": 109
    },
    {
     "cell_type": "code",
     "collapsed": false,
     "input": [
      "common.util.ipy_plot_samples(or_sample(2,6))"
     ],
     "language": "python",
     "metadata": {},
     "outputs": [
      {
       "output_type": "pyout",
       "prompt_number": 110,
       "text": [
        "<matplotlib.image.AxesImage at 0x2746cac8>"
       ]
      },
      {
       "output_type": "display_data",
       "png": "[encoded data removed]"
      }
     ],
     "prompt_number": 110
    },
    {
     "cell_type": "code",
     "collapsed": false,
     "input": [
      "i = 5\n",
      "j = 19\n",
      "ors = or_sample(i,j)\n",
      "x, y = rbm.orrbm.or_infer(myrbm, ors, 10, 10, beta=2)\n",
      "common.util.ipy_plot_samples([tcfg.X[i], tcfg.X[j], ors, x, y])"
     ],
     "language": "python",
     "metadata": {},
     "outputs": [
      {
       "output_type": "pyout",
       "prompt_number": 133,
       "text": [
        "<matplotlib.image.AxesImage at 0x29f8cc50>"
       ]
      },
      {
       "output_type": "display_data",
       "png": "[encoded data removed]"
      }
     ],
     "prompt_number": 133
    },
    {
     "cell_type": "code",
     "collapsed": false,
     "input": [],
     "language": "python",
     "metadata": {},
     "outputs": []
    },
    {
     "cell_type": "code",
     "collapsed": false,
     "input": [
      "ors = or_sample(2,6)\n",
      "infered, _ = myrbm.gibbs_sample(ors, 10, beta=2)\n",
      "common.util.ipy_plot_samples(infered)"
     ],
     "language": "python",
     "metadata": {},
     "outputs": [
      {
       "output_type": "pyout",
       "prompt_number": 97,
       "text": [
        "<matplotlib.image.AxesImage at 0x270e4eb8>"
       ]
      },
      {
       "output_type": "display_data",
       "png": "[encoded data removed]"
      }
     ],
     "prompt_number": 97
    },
    {
     "cell_type": "code",
     "collapsed": false,
     "input": [
      "rest, frest = or_rest(ors, infered)\n",
      "common.util.ipy_plot_samples(rest, frest)"
     ],
     "language": "python",
     "metadata": {},
     "outputs": [
      {
       "output_type": "pyout",
       "prompt_number": 98,
       "text": [
        "<matplotlib.image.AxesImage at 0x271139e8>"
       ]
      },
      {
       "output_type": "display_data",
       "png": "[encoded data removed]"
      }
     ],
     "prompt_number": 98
    },
    {
     "cell_type": "code",
     "collapsed": false,
     "input": [],
     "language": "python",
     "metadata": {},
     "outputs": []
    }
   ],
   "metadata": {}
  }
 ]
}