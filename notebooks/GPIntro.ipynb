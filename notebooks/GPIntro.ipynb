{
 "metadata": {
  "name": "",
  "signature": "sha256:c12ae47e4f8aee35a14e7d41ad26d1c6983da557fc4b3c2f74e1e3d16db0094e"
 },
 "nbformat": 3,
 "nbformat_minor": 0,
 "worksheets": [
  {
   "cells": [
    {
     "cell_type": "code",
     "collapsed": false,
     "input": [
      "import numpy as np\n",
      "\n",
      "from ml.simple.vargp import normal_pdf"
     ],
     "language": "python",
     "metadata": {},
     "outputs": [],
     "prompt_number": 5
    },
    {
     "cell_type": "code",
     "collapsed": false,
     "input": [
      "mu = np.asarray([1, 1])\n",
      "sigma = np.asarray([[1, 0],\n",
      "                    [0, 1]])"
     ],
     "language": "python",
     "metadata": {},
     "outputs": [],
     "prompt_number": 4
    },
    {
     "cell_type": "code",
     "collapsed": false,
     "input": [
      "x, y = np.meshgrid(np.linspace())"
     ],
     "language": "python",
     "metadata": {},
     "outputs": []
    }
   ],
   "metadata": {}
  }
 ]
}