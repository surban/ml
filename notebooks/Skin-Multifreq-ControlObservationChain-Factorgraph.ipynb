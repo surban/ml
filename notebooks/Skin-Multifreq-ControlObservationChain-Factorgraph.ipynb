{
 "metadata": {
  "name": "",
  "signature": "sha256:762231c351bcc88015c7f22209ae3ec828087ee7a2748dd641a546a87fc83a03"
 },
 "nbformat": 3,
 "nbformat_minor": 0,
 "worksheets": [
  {
   "cells": [
    {
     "cell_type": "code",
     "collapsed": false,
     "input": [
      "%load_ext autoreload\n",
      "%autoreload 2\n",
      "\n",
      "import numpy as np\n",
      "import matplotlib.pyplot as plt\n",
      "import GPy as gpy\n",
      "import logging\n",
      "\n",
      "import ml.apps.skin.timeseries\n",
      "from ml.apps.skin.timeseries import *\n",
      "from ml.apps.skin.workingset import *\n",
      "from ml.simple.conditional_chain import *\n",
      "from ml.datasets.skin import SkinDataset\n",
      "\n",
      "ml.apps.skin.timeseries.max_force = 10"
     ],
     "language": "python",
     "metadata": {},
     "outputs": [
      {
       "output_type": "stream",
       "stream": "stdout",
       "text": [
        "common.gpu uses GPU:  False\n"
       ]
      }
     ],
     "prompt_number": 1
    },
    {
     "cell_type": "heading",
     "level": 2,
     "metadata": {},
     "source": [
      "Dataset and features selection"
     ]
    },
    {
     "cell_type": "code",
     "collapsed": false,
     "input": [
      "def select_features(ws, skin):    \n",
      "    return ws.select_frequencies([794328, 2511886], skin)\n",
      "\n",
      "force_min = -0.2\n",
      "force_max = 10.0\n",
      "\n",
      "ws_linear_bidir = SkinWorkingset(\"mf_linear_bidir_20\", taxel=(0,6), force_min=force_min, force_max=force_max)\n",
      "ws_linear_raising = SkinWorkingset(\"mf_linear_raising_20\", taxel=(0,6), force_min=force_min, force_max=force_max)\n",
      "ws_random_bidir = SkinWorkingset(\"mf_random_bidir_200\", taxel=(0,6), force_min=force_min, force_max=force_max)\n",
      "ws_hysteresis_100 = SkinWorkingset(\"mf_hysteresis_100\", taxel=(0,6), force_min=force_min, force_max=force_max)"
     ],
     "language": "python",
     "metadata": {},
     "outputs": [
      {
       "output_type": "stream",
       "stream": "stdout",
       "text": [
        "Dataset \\\\brml.tum.de\\dfs\\nthome\\surban\\dev\\indentor\\indentor\\apps\\out\\mf_linear_bidir_20.skn:\n",
        "     taxel          train   validation   test\n",
        "     0,6             16       2            2\n",
        "Avg. datapoints per record: 38\n",
        "Sampling interval:          1 s\n",
        "Stimulus frequencies:       \n",
        "[    0.      794.328  2511.886] kHz\n",
        "\n",
        "Using taxel  (0, 6)\n",
        "\n",
        "trn: curves:             16\n",
        "val: curves:             2\n",
        "tst: curves:             2\n",
        "\n",
        "minimum force:   -0.200000\n",
        "maximum force:   10.000000\n",
        "minimum skin:    -1.656113\n",
        "maximum skin:    4.807952\n",
        "\n",
        "force step:   0.102000\n",
        "skin step:    0.064641\n",
        "\n",
        "Dataset \\\\brml.tum.de\\dfs\\nthome\\surban\\dev\\indentor\\indentor\\apps\\out\\mf_linear_raising_20.skn:\n",
        "     taxel          train   validation   test\n",
        "     0,6             16       2            2\n",
        "Avg. datapoints per record: 19\n",
        "Sampling interval:          1 s\n",
        "Stimulus frequencies:       \n",
        "[    0.      794.328  2511.886] kHz\n",
        "\n",
        "Using taxel  (0, 6)\n",
        "\n",
        "trn: curves:             16\n",
        "val: curves:             2\n",
        "tst: curves:             2\n",
        "\n",
        "minimum force:   -0.200000\n",
        "maximum force:   10.000000\n",
        "minimum skin:    -1.654283\n",
        "maximum skin:    4.797275\n",
        "\n",
        "force step:   0.102000\n",
        "skin step:    0.064516\n",
        "\n",
        "Dataset \\\\brml.tum.de\\dfs\\nthome\\surban\\dev\\indentor\\indentor\\apps\\out\\mf_random_bidir_200.skn:\n",
        "     taxel          train   validation   test\n",
        "     0,6            160      20           20\n",
        "Avg. datapoints per record: 17\n",
        "Sampling interval:          0.625 s\n",
        "Stimulus frequencies:       \n",
        "[    0.      794.328  2511.886] kHz\n",
        "\n",
        "Using taxel  (0, 6)\n",
        "\n",
        "trn: curves:             160"
       ]
      },
      {
       "output_type": "stream",
       "stream": "stdout",
       "text": [
        "\n",
        "val: curves:             20\n",
        "tst: curves:             20\n",
        "\n",
        "minimum force:   -0.200000\n",
        "maximum force:   10.000000\n",
        "minimum skin:    -1.670744\n",
        "maximum skin:    4.812353\n",
        "\n",
        "force step:   0.102000\n",
        "skin step:    0.064831\n",
        "\n",
        "Dataset \\\\brml.tum.de\\dfs\\nthome\\surban\\dev\\indentor\\indentor\\apps\\out\\mf_hysteresis_100.skn:\n",
        "     taxel          train   validation   test\n",
        "     0,6             80      10           10\n",
        "Avg. datapoints per record: 37\n",
        "Sampling interval:          1 s\n",
        "Stimulus frequencies:       \n",
        "[    0.      794.328  2511.886] kHz\n",
        "\n",
        "Using taxel  (0, 6)\n",
        "\n",
        "trn: curves:             80"
       ]
      },
      {
       "output_type": "stream",
       "stream": "stdout",
       "text": [
        "\n",
        "val: curves:             10\n",
        "tst: curves:             10\n",
        "\n",
        "minimum force:   -0.200000\n",
        "maximum force:   10.000000\n",
        "minimum skin:    -1.670612\n",
        "maximum skin:    4.812298\n",
        "\n",
        "force step:   0.102000\n",
        "skin step:    0.064829\n",
        "\n"
       ]
      }
     ],
     "prompt_number": 2
    },
    {
     "cell_type": "heading",
     "level": 2,
     "metadata": {},
     "source": [
      "Model creation"
     ]
    },
    {
     "cell_type": "code",
     "collapsed": false,
     "input": [
      "ws_base = ws_linear_bidir\n",
      "base_obs = select_features(ws_base, ws_base.skin['trn'])\n",
      "n_features = base_obs.shape[0]\n",
      "\n",
      "sc = ControlObservationChain(ws_base.discrete_force_states, ws_base.discrete_force_states)"
     ],
     "language": "python",
     "metadata": {},
     "outputs": [],
     "prompt_number": 3
    },
    {
     "cell_type": "heading",
     "level": 2,
     "metadata": {},
     "source": [
      "Training of observation -> state model"
     ]
    },
    {
     "cell_type": "code",
     "collapsed": false,
     "input": [
      "# select training curves\n",
      "ws_obs_trn = ws_hysteresis_100\n",
      "n_trn_points = 15\n",
      "\n",
      "states = ws_obs_trn.discrete_force['trn']\n",
      "observations = select_features(ws_obs_trn, ws_obs_trn.skin['trn'])\n",
      "valid = ws_obs_trn.valid['trn']\n",
      "\n",
      "print \"available training points: \", states.shape[1]\n",
      "if n_trn_points > states.shape[1]:\n",
      "    np.random.seed(100)\n",
      "    selector = np.random.choice(states.shape[1], n_trn_points, replace=False)\n",
      "    states = states[..., selector]\n",
      "    observations = observations[..., selector]\n",
      "    valid = valid[..., selector]\n",
      "print \"used training points:      \", states.shape[1]"
     ],
     "language": "python",
     "metadata": {},
     "outputs": [
      {
       "output_type": "stream",
       "stream": "stdout",
       "text": [
        "available training points:  80\n",
        "used training points:       80\n"
       ]
      }
     ],
     "prompt_number": 4
    },
    {
     "cell_type": "code",
     "collapsed": false,
     "input": [
      "plt_smpl = 5\n",
      "figsize(8,4)\n",
      "plt.plot(ws_base.from_discrete_force(states[:, plt_smpl]), 'k-', label=\"force\")\n",
      "for f in range(observations.shape[0]):\n",
      "    plt.plot(10 * observations[f, :, plt_smpl], 'x', label=str(f))\n",
      "plt.legend()"
     ],
     "language": "python",
     "metadata": {},
     "outputs": [
      {
       "metadata": {},
       "output_type": "pyout",
       "prompt_number": 5,
       "text": [
        "<matplotlib.legend.Legend at 0x1ac4e668>"
       ]
      },
      {
       "metadata": {},
       "output_type": "display_data",
       "png": "[encoded data removed]",
       "text": [
        "<matplotlib.figure.Figure at 0x18d14fd0>"
       ]
      }
     ]
    },
    {
     "cell_type": "code",
     "collapsed": false,
     "input": [
      "# train\n",
      "sc.train_observations(states, observations, valid,                      \n",
      "                      kernel=lambda: gpy.kern.rbf(n_features),\n",
      "                      optimize_restarts=10)  \n",
      "print sc.gp_states_given_observations"
     ],
     "language": "python",
     "metadata": {},
     "outputs": []
    },
    {
     "cell_type": "heading",
     "level": 4,
     "metadata": {},
     "source": [
      "Evaluation"
     ]
    },
    {
     "cell_type": "code",
     "collapsed": false,
     "input": [
      "def evaluate_on_ws(sc, ws, prt, phase=False):\n",
      "    n_plot_samples = 30\n",
      "\n",
      "    force = ws.force[prt]\n",
      "    skin = select_features(ws, ws.skin[prt])\n",
      "    valid = ws.valid[prt]\n",
      "\n",
      "    p_force_discr, p_force_conf_discr = iterate_over_samples(sc.infer_states, valid, skin)\n",
      "    p_force = ws.from_discrete_force(p_force_discr)\n",
      "    p_force_conf = p_force_conf_discr * ws.force_step\n",
      "    print \"MSE: \", multistep_error(p_force, force, valid, mean_err=True)\n",
      "    \n",
      "    ml.apps.skin.timeseries.max_force = 10\n",
      "    if phase:\n",
      "        plot_multicurve_error(force[:, 0:n_plot_samples], p_force[:, 0:n_plot_samples], valid[:, 0:n_plot_samples])\n",
      "    else:\n",
      "        plot_multicurve_time(force[:, 0:n_plot_samples], None, valid[:, 0:n_plot_samples], \n",
      "                             force_predicted=p_force[:, 0:n_plot_samples], force_predicted_conf=p_force_conf[:, 0:n_plot_samples])    \n",
      "        \n",
      "figsize(16, 8)\n",
      "evaluate_on_ws(sc, ws_hysteresis_100, 'trn')"
     ],
     "language": "python",
     "metadata": {},
     "outputs": []
    },
    {
     "cell_type": "heading",
     "level": 2,
     "metadata": {},
     "source": [
      "Training of state -> state model using data with hysteresis"
     ]
    },
    {
     "cell_type": "code",
     "collapsed": false,
     "input": [
      "ws_hys_trn = ws_hysteresis_100\n",
      "\n",
      "discrete_force = ws_hys_trn.discrete_force['trn']\n",
      "observations = select_features(ws_hys_trn, ws_hys_trn.skin['trn'])\n",
      "valid = ws_hys_trn.valid['trn']\n",
      "\n",
      "states, _ = iterate_over_samples(sc.infer_states, valid, observations)\n",
      "states = np.asarray(states, dtype='int')\n",
      "\n",
      "sc.train_transitions(states, discrete_force, valid, \n",
      "                     mngful_dist=4, \n",
      "                     kernel=lambda: gpy.kern.rbf(1) + gpy.kern.linear(1), \n",
      "                     optimize_restarts=3)                     \n",
      "\n",
      "sc.check_normalization()"
     ],
     "language": "python",
     "metadata": {},
     "outputs": []
    },
    {
     "cell_type": "heading",
     "level": 4,
     "metadata": {},
     "source": [
      "Evaluation: states from inputs"
     ]
    },
    {
     "cell_type": "code",
     "collapsed": false,
     "input": [
      "logging.getLogger().setLevel(logging.WARN)\n",
      "ws_hys_tst = ws_hysteresis_100\n",
      "prt = 'val'\n",
      "\n",
      "discrete_force = ws_hys_tst.discrete_force[prt]\n",
      "observations = select_features(ws_hys_tst, ws_hys_tst.skin[prt])\n",
      "valid = ws_hys_tst.valid[prt]\n",
      "\n",
      "states, _ = iterate_over_samples(sc.infer_states, valid, observations)\n",
      "p_states, p_log_p = iterate_over_samples(sc.most_probable_states_given_inputs, valid, discrete_force) \n",
      "\n",
      "print \"MSE: \", multistep_error(ws_hys_tst.from_discrete_force(p_states), \n",
      "                               ws_hys_tst.from_discrete_force(states), valid, mean_err=True)\n",
      "print p_log_p[0]\n",
      "\n",
      "n_plot_smpls = 42\n",
      "figsize(18,14)\n",
      "ml.apps.skin.timeseries.max_force = 10\n",
      "force_real = ws_hys_tst.from_discrete_force(discrete_force[:, 0:n_plot_smpls])\n",
      "plot_multicurve_time(ws_hys_tst.from_discrete_force(states[:, 0:n_plot_smpls]), None, valid[:, 0:n_plot_smpls], \n",
      "                     force_predicted=ws_hys_tst.from_discrete_force(p_states[:, 0:n_plot_smpls]), \n",
      "                     force_real=force_real,\n",
      "                     timestep=ws_hys_tst.ds.timestep)"
     ],
     "language": "python",
     "metadata": {},
     "outputs": []
    },
    {
     "cell_type": "heading",
     "level": 4,
     "metadata": {},
     "source": [
      "Evaluation: states from inputs using FactorGraph"
     ]
    },
    {
     "cell_type": "code",
     "collapsed": false,
     "input": [
      "logging.getLogger().setLevel(logging.WARN)\n",
      "ws_hys_tst = ws_hysteresis_100\n",
      "prt = 'val'\n",
      "\n",
      "discrete_force = ws_hys_tst.discrete_force[prt]\n",
      "observations = select_features(ws_hys_tst, ws_hys_tst.skin[prt])\n",
      "valid = ws_hys_tst.valid[prt]\n",
      "\n",
      "states, _ = iterate_over_samples(sc.infer_states, valid, observations)\n",
      "p_states, p_log_p = iterate_over_samples(sc.fg_most_probable_states_given_inputs, valid, discrete_force) \n",
      "\n",
      "print \"MSE: \", multistep_error(ws_hys_tst.from_discrete_force(p_states), \n",
      "                               ws_hys_tst.from_discrete_force(states), valid, mean_err=True)\n",
      "print p_log_p[0]\n",
      "\n",
      "n_plot_smpls = 42\n",
      "figsize(18,14)\n",
      "ml.apps.skin.timeseries.max_force = 10\n",
      "force_real = ws_hys_tst.from_discrete_force(discrete_force[:, 0:n_plot_smpls])\n",
      "plot_multicurve_time(ws_hys_tst.from_discrete_force(states[:, 0:n_plot_smpls]), None, valid[:, 0:n_plot_smpls], \n",
      "                     force_predicted=ws_hys_tst.from_discrete_force(p_states[:, 0:n_plot_smpls]), \n",
      "                     force_real=force_real,\n",
      "                     timestep=ws_hys_tst.ds.timestep)"
     ],
     "language": "python",
     "metadata": {},
     "outputs": []
    },
    {
     "cell_type": "heading",
     "level": 4,
     "metadata": {},
     "source": [
      "Evalulation: states and inputs from observations"
     ]
    },
    {
     "cell_type": "code",
     "collapsed": false,
     "input": [
      "force = ws_hys_tst.force[prt]\n",
      "observations = select_features(ws_hys_tst, ws_hys_tst.skin[prt])\n",
      "valid = ws_hys_tst.valid[prt]\n",
      "\n",
      "p_states, p_discrete_force, p_log_p = iterate_over_samples(sc.most_probable_states_and_inputs_given_observations, valid, observations) \n",
      "p_force = ws_hys_tst.from_discrete_force(p_discrete_force)\n",
      "p_internal_force = ws_hys_tst.from_discrete_force(p_states)\n",
      "print \"log P: \", p_log_p[0]\n",
      "\n",
      "print \"MSE: \", multistep_error(p_force, force, valid, mean_err=True)\n",
      "\n",
      "n_plot_smpls = 42\n",
      "figsize(18,14)\n",
      "ml.apps.skin.timeseries.max_force = 10\n",
      "plot_multicurve_time(force[:, 0:n_plot_smpls], None, valid[:, 0:n_plot_smpls], \n",
      "                     force_predicted=p_force[:, 0:n_plot_smpls], \n",
      "                     force_real=p_internal_force[:, 0:n_plot_smpls],\n",
      "                     timestep=ws_hys_tst.ds.timestep)"
     ],
     "language": "python",
     "metadata": {},
     "outputs": []
    },
    {
     "cell_type": "heading",
     "level": 4,
     "metadata": {},
     "source": [
      "Evalulation: states and inputs from observations using FactorGraph"
     ]
    },
    {
     "cell_type": "code",
     "collapsed": false,
     "input": [
      "logging.getLogger().setLevel(logging.WARNING)\n",
      "\n",
      "force = ws_hys_tst.force[prt]\n",
      "observations = select_features(ws_hys_tst, ws_hys_tst.skin[prt])\n",
      "valid = ws_hys_tst.valid[prt]\n",
      "\n",
      "p_states, p_discrete_force, p_log_p = iterate_over_samples(sc.fg_most_probable_states_and_inputs_given_observations, \n",
      "                                                           valid, observations) \n",
      "p_force = ws_hys_tst.from_discrete_force(p_discrete_force)\n",
      "p_internal_force = ws_hys_tst.from_discrete_force(p_states)\n",
      "print \"log P: \", p_log_p[0]\n",
      "\n",
      "print \"MSE: \", multistep_error(p_force, force, valid, mean_err=True)\n",
      "\n",
      "n_plot_smpls = 42\n",
      "figsize(18,14)\n",
      "ml.apps.skin.timeseries.max_force = 10\n",
      "plot_multicurve_time(force[:, 0:n_plot_smpls], None, valid[:, 0:n_plot_smpls], \n",
      "                     force_predicted=p_force[:, 0:n_plot_smpls], \n",
      "                     force_real=p_internal_force[:, 0:n_plot_smpls],\n",
      "                     timestep=ws_hys_tst.ds.timestep)"
     ],
     "language": "python",
     "metadata": {},
     "outputs": []
    },
    {
     "cell_type": "heading",
     "level": 4,
     "metadata": {},
     "source": [
      "Evalulation: states and inputs from observations with smoothing using FactorGraph"
     ]
    },
    {
     "cell_type": "code",
     "collapsed": false,
     "input": [
      "logging.getLogger().setLevel(logging.WARNING)\n",
      "\n",
      "force = ws_hys_tst.force[prt]\n",
      "observations = select_features(ws_hys_tst, ws_hys_tst.skin[prt])\n",
      "valid = ws_hys_tst.valid[prt]\n",
      "\n",
      "p_states, p_discrete_force, p_log_p = iterate_over_samples(sc.fg_most_probable_states_and_inputs_given_observations, \n",
      "                                                           valid, observations, loopy_iters=4, smooth_input=15, prepass_non_loopy=True) \n",
      "p_force = ws_hys_tst.from_discrete_force(p_discrete_force)\n",
      "p_internal_force = ws_hys_tst.from_discrete_force(p_states)\n",
      "print \"log P: \", p_log_p[0]\n",
      "\n",
      "print \"MSE: \", multistep_error(p_force, force, valid, mean_err=True)\n",
      "\n",
      "n_plot_smpls = 42\n",
      "figsize(18,14)\n",
      "ml.apps.skin.timeseries.max_force = 10\n",
      "plot_multicurve_time(force[:, 0:n_plot_smpls], None, valid[:, 0:n_plot_smpls], \n",
      "                     force_predicted=p_force[:, 0:n_plot_smpls], \n",
      "                     force_real=p_internal_force[:, 0:n_plot_smpls],\n",
      "                     timestep=ws_hys_tst.ds.timestep)"
     ],
     "language": "python",
     "metadata": {},
     "outputs": []
    },
    {
     "cell_type": "code",
     "collapsed": false,
     "input": [],
     "language": "python",
     "metadata": {},
     "outputs": []
    }
   ],
   "metadata": {}
  }
 ]
}