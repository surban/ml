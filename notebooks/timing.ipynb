{
 "metadata": {
  "name": "timing"
 }, 
 "nbformat": 2, 
 "worksheets": [
  {
   "cells": [
    {
     "cell_type": "code", 
     "collapsed": true, 
     "input": [
      "%load_ext autoreload", 
      "%autoreload 2", 
      "", 
      "from rbm.rbm import train_rbm", 
      "from rbm.config import TrainingConfiguration"
     ], 
     "language": "python", 
     "outputs": [], 
     "prompt_number": 49
    }, 
    {
     "cell_type": "code", 
     "collapsed": true, 
     "input": [
      "tcfg = TrainingConfiguration(dataset='rmnist',", 
      "                             n_vis=784, n_hid=25,", 
      "                             batch_size=100,", 
      "                             n_gibbs_steps=3,", 
      "                             epochs=10,", 
      "                             step_rate=0.05,", 
      "                             use_pcd=False,", 
      "                             binarize_data=True,", 
      "                             initial_momentum=0.5, final_momentum=0.9, ", 
      "                             use_final_momentum_from_epoch=5,", 
      "                             weight_cost=0.0002,", 
      "                             init_weight_sigma=0.01, init_bias_sigma=0,", 
      "                             seed=1)"
     ], 
     "language": "python", 
     "outputs": [], 
     "prompt_number": 59
    }, 
    {
     "cell_type": "code", 
     "collapsed": false, 
     "input": [
      "time rbm = train_rbm(tcfg, print_cost=True)"
     ], 
     "language": "python", 
     "outputs": [
      {
       "output_type": "stream", 
       "stream": "stdout", 
       "text": [
        "Epoch 00: reconstruction cost=-0.014770, pseudo likelihood=-191.630303", 
        "Epoch 01: reconstruction cost=-0.021175, pseudo likelihood=-159.850131"
       ]
      }, 
      {
       "output_type": "stream", 
       "stream": "stdout", 
       "text": [
        "", 
        "Epoch 02: reconstruction cost=-0.017822, pseudo likelihood=-153.064325"
       ]
      }, 
      {
       "output_type": "stream", 
       "stream": "stdout", 
       "text": [
        "", 
        "Epoch 03: reconstruction cost=-0.016230, pseudo likelihood=-149.536424"
       ]
      }
     ], 
     "prompt_number": "*"
    }, 
    {
     "cell_type": "code", 
     "collapsed": false, 
     "input": [
      "rbm"
     ], 
     "language": "python", 
     "outputs": [
      {
       "output_type": "pyout", 
       "prompt_number": 62, 
       "text": [
        "<rbm.rbm.RestrictedBoltzmannMachine at 0x499bb38>"
       ]
      }
     ], 
     "prompt_number": 62
    }, 
    {
     "cell_type": "code", 
     "collapsed": true, 
     "input": [], 
     "language": "python", 
     "outputs": []
    }
   ]
  }
 ]
}