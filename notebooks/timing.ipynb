{
 "metadata": {
  "name": "timing"
 }, 
 "nbformat": 2, 
 "worksheets": [
  {
   "cells": [
    {
     "cell_type": "code", 
     "collapsed": false, 
     "input": [
      "%load_ext autoreload", 
      "%autoreload 2", 
      "", 
      "from rbm.rbm import train_rbm", 
      "from rbm.config import TrainingConfiguration", 
      "import rbm.util", 
      "import gnumpy as gp", 
      "import numpy as np", 
      "gp.expensive_check_probability = 0"
     ], 
     "language": "python", 
     "outputs": [], 
     "prompt_number": 47
    }, 
    {
     "cell_type": "code", 
     "collapsed": false, 
     "input": [
      "tcfg = TrainingConfiguration(dataset='rmnist',", 
      "                             n_vis=784, n_hid=25,", 
      "                             batch_size=100,", 
      "                             n_gibbs_steps=3,", 
      "                             epochs=1,", 
      "                             step_rate=0.05,", 
      "                             use_pcd=False,", 
      "                             binarize_data=True,", 
      "                             initial_momentum=0.5, final_momentum=0.9, ", 
      "                             use_final_momentum_from_epoch=5,", 
      "                             weight_cost=0.0002,", 
      "                             init_weight_sigma=0.01, init_bias_sigma=0,", 
      "                             seed=1)", 
      "rbm.util.enter_rbm_plot_directory(tcfg)"
     ], 
     "language": "python", 
     "outputs": [
      {
       "output_type": "stream", 
       "stream": "stdout", 
       "text": [
        "Writing output into directory rmnist-rbm-025-cd03-mbs0100-bin-sr0.050-m0.50;0.90(05)-c0.0002-iws0.0100-ibs0.0000-0000000001"
       ]
      }
     ], 
     "prompt_number": 12
    }, 
    {
     "cell_type": "code", 
     "collapsed": false, 
     "input": [
      "time rbm = train_rbm(tcfg, print_cost=False)"
     ], 
     "language": "python", 
     "outputs": [
      {
       "output_type": "stream", 
       "stream": "stdout", 
       "text": [
        "CPU times: user 0.90 s, sys: 0.00 s, total: 0.90 s", 
        "Wall time: 0.90 s"
       ]
      }
     ], 
     "prompt_number": 30
    }, 
    {
     "cell_type": "code", 
     "collapsed": false, 
     "input": [
      "gp.expensive_check_probability", 
      "np.show_config()"
     ], 
     "language": "python", 
     "outputs": [
      {
       "output_type": "stream", 
       "stream": "stdout", 
       "text": [
        "lapack_opt_info:", 
        "    libraries = ['mkl_lapack95_lp64', 'mkl_core_dll', 'mkl_intel_lp64_dll', 'mkl_intel_thread_dll']", 
        "    library_dirs = ['C:\\\\Python27\\\\libs']", 
        "    define_macros = [('SCIPY_MKL_H', None)]", 
        "    include_dirs = ['C:\\\\Python27\\\\include']", 
        "blas_opt_info:", 
        "    libraries = ['mkl_core_dll', 'mkl_intel_lp64_dll', 'mkl_intel_thread_dll']", 
        "    library_dirs = ['C:\\\\Python27\\\\libs']", 
        "    define_macros = [('SCIPY_MKL_H', None)]", 
        "    include_dirs = ['C:\\\\Python27\\\\include']", 
        "lapack_mkl_info:", 
        "    libraries = ['mkl_lapack95_lp64', 'mkl_core_dll', 'mkl_intel_lp64_dll', 'mkl_intel_thread_dll']", 
        "    library_dirs = ['C:\\\\Python27\\\\libs']", 
        "    define_macros = [('SCIPY_MKL_H', None)]", 
        "    include_dirs = ['C:\\\\Python27\\\\include']", 
        "blas_mkl_info:", 
        "    libraries = ['mkl_core_dll', 'mkl_intel_lp64_dll', 'mkl_intel_thread_dll']", 
        "    library_dirs = ['C:\\\\Python27\\\\libs']", 
        "    define_macros = [('SCIPY_MKL_H', None)]", 
        "    include_dirs = ['C:\\\\Python27\\\\include']", 
        "mkl_info:", 
        "    libraries = ['mkl_core_dll', 'mkl_intel_lp64_dll', 'mkl_intel_thread_dll']", 
        "    library_dirs = ['C:\\\\Python27\\\\libs']", 
        "    define_macros = [('SCIPY_MKL_H', None)]", 
        "    include_dirs = ['C:\\\\Python27\\\\include']"
       ]
      }
     ], 
     "prompt_number": 52
    }, 
    {
     "cell_type": "code", 
     "collapsed": false, 
     "input": [
      "def myloop():", 
      "    for i in range(1000):", 
      "        a=gp.rand((1000,100))    ", 
      "%time myloop()"
     ], 
     "language": "python", 
     "outputs": [
      {
       "output_type": "stream", 
       "stream": "stdout", 
       "text": [
        "CPU times: user 1.33 s, sys: 0.00 s, total: 1.33 s", 
        "Wall time: 1.33 s"
       ]
      }
     ], 
     "prompt_number": 51
    }, 
    {
     "cell_type": "code", 
     "collapsed": false, 
     "input": [
      "def myloop():", 
      "    for i in range(1000):", 
      "        a=np.random.random_sample((1000,100))    ", 
      "%timeit myloop()"
     ], 
     "language": "python", 
     "outputs": [
      {
       "output_type": "stream", 
       "stream": "stdout", 
       "text": [
        "1 loops, best of 3: 1.19 s per loop"
       ]
      }
     ], 
     "prompt_number": 55
    }
   ]
  }
 ]
}