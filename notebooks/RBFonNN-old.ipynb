{
 "metadata": {
  "name": "RBFonNN-old"
 },
 "nbformat": 3,
 "nbformat_minor": 0,
 "worksheets": [
  {
   "cells": [
    {
     "cell_type": "code",
     "collapsed": false,
     "input": [
      "%load_ext autoreload\n",
      "%autoreload 2\n",
      "\n",
      "import climin\n",
      "import numpy as np\n",
      "import theano\n",
      "import theano.tensor as T\n",
      "\n",
      "import common.util\n",
      "from nn.nn import OneHiddenLayerNN\n",
      "from common.util import floatx\n"
     ],
     "language": "python",
     "metadata": {},
     "outputs": [],
     "prompt_number": 9
    },
    {
     "cell_type": "code",
     "collapsed": false,
     "input": [
      "# load data\n",
      "np.random.seed(100)\n",
      "RX, RZ, VX, VZ, TX, TZ = common.util.load_theano_data('../datasets/boston_split.mat')   "
     ],
     "language": "python",
     "metadata": {},
     "outputs": [],
     "prompt_number": 10
    },
    {
     "cell_type": "code",
     "collapsed": false,
     "input": [
      "# hyperparameters\n",
      "n_targets = RZ.get_value().shape[0]\n",
      "n_features = RX.get_value().shape[0]\n",
      "n_hidden = 110"
     ],
     "language": "python",
     "metadata": {},
     "outputs": [],
     "prompt_number": 11
    },
    {
     "cell_type": "code",
     "collapsed": false,
     "input": [
      "# Theano expressions\n",
      "\n",
      "# variables\n",
      "inputs = T.matrix('inputs')\n",
      "targets = T.matrix('targets')\n",
      "TW = T.matrix('TW')\n",
      "TV = T.matrix('TV')\n",
      "\n",
      "# expressions\n",
      "nn = OneHiddenLayerNN(TW, TV)\n",
      "RL = nn.regression_objective(RX, RZ)\n",
      "VL = nn.regression_objective(VX, VZ)\n",
      "TL = nn.regression_objective(TX, TZ)\n",
      "dLdW = T.grad(RL, nn.W)\n",
      "dLdV = T.grad(RL, nn.V)\n",
      "\n",
      "# functions\n",
      "f_RL = theano.function(inputs=[TW, TV], outputs=RL)\n",
      "f_VL = theano.function(inputs=[TW, TV], outputs=VL)\n",
      "f_TL = theano.function(inputs=[TW, TV], outputs=TL)\n",
      "f_dL = theano.function(inputs=[TW, TV], outputs=[dLdW, dLdV]) \n",
      "    "
     ],
     "language": "python",
     "metadata": {},
     "outputs": [],
     "prompt_number": 12
    },
    {
     "cell_type": "code",
     "collapsed": false,
     "input": [
      "# initialize parameters\n",
      "W = floatx(np.random.random((n_targets, n_hidden)) - 0.5)\n",
      "V = floatx(np.random.random((n_hidden, n_features)) - 0.5)  "
     ],
     "language": "python",
     "metadata": {},
     "outputs": [],
     "prompt_number": 13
    },
    {
     "cell_type": "code",
     "collapsed": false,
     "input": [
      "# test Theano expressions\n",
      "print \"Training loss:   %f\" % f_RL(W, V)\n",
      "print \"Validation loss: %f\" % f_VL(W, V)\n",
      "print \"Test loss:       %f\" % f_TL(W, V)\n",
      "print \"Gradient shape:    \", f_dL(W, V)[0].shape, f_dL(W, V)[1].shape"
     ],
     "language": "python",
     "metadata": {},
     "outputs": [
      {
       "output_type": "stream",
       "stream": "stdout",
       "text": [
        "Training loss:   615.272601\n",
        "Validation loss: 662.528987"
       ]
      },
      {
       "output_type": "stream",
       "stream": "stdout",
       "text": [
        "\n",
        "Test loss:       625.131931"
       ]
      },
      {
       "output_type": "stream",
       "stream": "stdout",
       "text": [
        "\n",
        "Gradient shape:    "
       ]
      },
      {
       "output_type": "stream",
       "stream": "stdout",
       "text": [
        " (1L, 110L) (110L, 13L)\n"
       ]
      }
     ],
     "prompt_number": 14
    },
    {
     "cell_type": "code",
     "collapsed": false,
     "input": [
      "# initialize parameters\n",
      "W = floatx(np.random.random((n_targets, n_hidden)) - 0.5)\n",
      "V = floatx(np.random.random((n_hidden, n_features)) - 0.5)  \n",
      "\n",
      "# optimize parameters\n",
      "pm = common.util.ParameterMerger(W, V)   \n",
      "his = common.util.ParameterHistory()\n",
      "\n",
      "par = pm.flatten(W, V)\n",
      "#opt = climin.Lbfgs(par, pm.make_func(f_RL), pm.make_func(f_dL))\n",
      "opt = climin.Rprop(par, pm.make_func(f_RL), pm.make_func(f_dL))\n",
      "\n",
      "for iter, sts in enumerate(opt):\n",
      "    if iter % 10 == 0:\n",
      "        W, V = pm.unflatten(par)\n",
      "        trn_loss = f_RL(W,V)\n",
      "        val_loss = f_VL(W,V)\n",
      "        tst_loss = f_TL(W,V)\n",
      "        \n",
      "        his.add(iter, par, trn_loss, val_loss, tst_loss)\n",
      "        if his.should_terminate:\n",
      "            break\n",
      "            \n",
      "his.plot()"
     ],
     "language": "python",
     "metadata": {},
     "outputs": [
      {
       "html": [
        "<pre>490: training:   4.16813  validation:  17.31033 (best:  14.95120)  test:  35.97830"
       ],
       "output_type": "display_data"
      },
      {
       "output_type": "display_data",
       "png": "[encoded data removed]"
      }
     ],
     "prompt_number": 37
    },
    {
     "cell_type": "code",
     "collapsed": false,
     "input": [
      "sts"
     ],
     "language": "python",
     "metadata": {},
     "outputs": [
      {
       "output_type": "pyout",
       "prompt_number": 38,
       "text": [
        "{'args': [],\n",
        " 'gradient': array([-0.03346525, -0.08713697, -0.08657753, ...,  0.00049301,\n",
        "        0.01433792,  0.00011455]),\n",
        " 'gradient_m1': array([-0.03346525, -0.08713697, -0.08657753, ...,  0.00049301,\n",
        "        0.01433792,  0.00011455]),\n",
        " 'kwargs': {},\n",
        " 'n_iter': 490,\n",
        " 'step': array([  1.46218160e-05,   1.98096473e-05,   2.60667414e-05, ...,\n",
        "        -6.67795242e-05,  -6.51071107e-05,  -6.97101712e-05])}"
       ]
      }
     ],
     "prompt_number": 38
    },
    {
     "cell_type": "code",
     "collapsed": false,
     "input": [],
     "language": "python",
     "metadata": {},
     "outputs": []
    }
   ],
   "metadata": {}
  }
 ]
}