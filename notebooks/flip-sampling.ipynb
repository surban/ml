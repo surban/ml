{
 "worksheets": [
  {
   "cells": [
    {
     "cell_type": "code",
     "metadata": {},
     "outputs": [
      {
       "output_type": "stream",
       "stream": "stderr",
       "text": [
        "C:\\Python27\\lib\\site-packages\\nose\\util.py:14: DeprecationWarning: The compiler package is deprecated and removed in Python 3.x.\n",
        "  from compiler.consts import CO_GENERATOR\n"
       ]
      }
     ],
     "input": [
      "%load_ext autoreload\n",
      "%autoreload 2\n",
      "\n",
      "import gnumpy as gp\n",
      "import numpy as np\n",
      "import apps.mnist_svm\n",
      "import apps.mnist_orrbm\n",
      "import rbm.orrbm\n",
      "import rbm.util\n",
      "import rbm.rbm\n",
      "import rbm.sampling\n",
      "import common.util\n",
      "import apps.mnist_reference_dropout as ref\n",
      "import pickle\n",
      "import gzip\n",
      "\n",
      "from rbm.config import TrainingConfiguration\n",
      "from rbm.rbm import train_rbm, RestrictedBoltzmannMachine"
     ],
     "language": "python",
     "prompt_number": 1
    },
    {
     "cell_type": "code",
     "metadata": {},
     "outputs": [
      {
       "output_type": "stream",
       "stream": "stdout",
       "text": [
        "gnumpy: failed to use gpu_lock. Using board #0 without knowing whether it is in use or not.\n",
        "Entered plot directory C:\\Local\\surban\\dev\\ml\\notebooks\\mnistv-rbm-5000-pcd15-mbs0020-round-sr0.100-m0.00;0.00(00)-c0.0000-iws0.1288-ibs0.0000-0000000001"
       ]
      },
      {
       "output_type": "stream",
       "stream": "stdout",
       "text": [
        "\n",
        "Loading RBM parameters form file weights-29.npz"
       ]
      },
      {
       "output_type": "stream",
       "stream": "stdout",
       "text": [
        "\n"
       ]
      }
     ],
     "input": [
      "rbm.util.leave_rbm_plot_directory()\n",
      "svc = apps.mnist_svm.load()\n",
      "\n",
      "n_vis=784\n",
      "n_hid=5000\n",
      "init_weight_sigma = 4 * np.sqrt(6. / (n_hid + n_vis))\n",
      "tcfg = TrainingConfiguration(dataset='mnistv',\n",
      "                             n_vis=n_vis, n_hid=n_hid,\n",
      "                             batch_size=20,\n",
      "                             n_gibbs_steps=15,\n",
      "                             epochs=30,\n",
      "                             step_rate=0.1,\n",
      "                             use_pcd=True,\n",
      "                             binarize_data='round',\n",
      "                             initial_momentum=0, final_momentum=0, \n",
      "                             use_final_momentum_from_epoch=0,\n",
      "                             weight_cost=0,\n",
      "                             init_method='uniform', init_weight_sigma=init_weight_sigma, init_bias_sigma=0,\n",
      "                             seed=1)\n",
      "rbm.util.enter_rbm_plot_directory(tcfg)\n",
      "myrbm = RestrictedBoltzmannMachine(20, n_vis, n_hid, 0)\n",
      "rbm.util.load_parameters(myrbm, tcfg.epochs-1)"
     ],
     "language": "python",
     "prompt_number": 2
    },
    {
     "cell_type": "code",
     "metadata": {},
     "outputs": [],
     "input": [
      "X=tcfg.X\n",
      "Z=tcfg.Z"
     ],
     "language": "python",
     "prompt_number": 3
    },
    {
     "cell_type": "code",
     "metadata": {},
     "outputs": [],
     "input": [
      "def flip_sample(rbm, vis_start, iterations, beta=1):\n",
      "    vis = vis_start.copy()\n",
      "    fes = rbm.free_energy(vis)\n",
      "    n_total_flips = 0\n",
      "    \n",
      "    for i in range(iterations):\n",
      "        # flip a bit at random\n",
      "        f = np.random.randint(0, vis.shape[1])\n",
      "        vis_prop = vis.copy()\n",
      "        vis_prop[:,f] = 1-vis[:,f]\n",
      "        \n",
      "        # calculate new free energy and accept change if it is lower\n",
      "        fes_prop = rbm.free_energy(vis_prop, beta=beta)\n",
      "        acc_prop = fes_prop <= fes\n",
      "        n_flips = gp.sum(acc_prop)\n",
      "        n_total_flips += n_flips\n",
      "        \n",
      "        # compose new state\n",
      "        acc_prop_t = gp.tile(acc_prop, (vis.shape[1], 1)).T\n",
      "        vis = acc_prop_t * vis_prop + (1-acc_prop_t) * vis\n",
      "        fes = acc_prop * fes_prop + (1-acc_prop) * fes\n",
      "        \n",
      "    return vis"
     ],
     "language": "python",
     "prompt_number": 6
    },
    {
     "cell_type": "code",
     "metadata": {},
     "outputs": [],
     "input": [
      "iters=1000\n",
      "flip_X=common.util.map(X, 1000, lambda x: flip_sample(myrbm, x, iterations=iters, beta=1))\n",
      "np.savez_compressed(\"flip_%d_X.npz\" % iters, flip_X=gp.as_numpy_array(flip_X))"
     ],
     "language": "python",
     "prompt_number": 7
    },
    {
     "cell_type": "code",
     "metadata": {},
     "outputs": [
      {
       "output_type": "pyout",
       "prompt_number": 8,
       "text": [
        "549.352996"
       ],
       "metadata": {}
      }
     ],
     "input": [
      "gp.memory_in_use() / 1e6"
     ],
     "language": "python",
     "prompt_number": 8
    }
   ]
  }
 ],
 "cells": [],
 "metadata": {
  "name": "flip-sampling"
 },
 "nbformat": 3,
 "nbformat_minor": 0
}