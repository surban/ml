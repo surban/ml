{
 "metadata": {
  "name": "svm-mnist"
 },
 "nbformat": 3,
 "nbformat_minor": 0,
 "worksheets": [
  {
   "cells": [
    {
     "cell_type": "code",
     "collapsed": false,
     "input": [
      "%load_ext autoreload\n",
      "%autoreload 2\n",
      "\n",
      "import gnumpy as gp\n",
      "import numpy as np\n",
      "import apps.mnist_svm\n",
      "import apps.mnist_orrbm\n",
      "import rbm.orrbm\n",
      "import rbm.util\n",
      "import rbm.rbm\n",
      "\n",
      "from rbm.config import TrainingConfiguration\n",
      "from rbm.rbm import train_rbm, RestrictedBoltzmannMachine"
     ],
     "language": "python",
     "metadata": {},
     "outputs": [],
     "prompt_number": 9
    },
    {
     "cell_type": "code",
     "collapsed": false,
     "input": [
      "rbm.util.leave_rbm_plot_directory()\n",
      "\n",
      "OX, TOX, OZ, TOZ = rbm.util.load_or_dataset()\n",
      "svc = apps.mnist_svm.load()\n",
      "\n",
      "n_vis=784\n",
      "n_hid=5000\n",
      "init_weight_sigma = 4 * np.sqrt(6. / (n_hid + n_vis))\n",
      "tcfg = TrainingConfiguration(dataset='mnistv',\n",
      "                             n_vis=n_vis, n_hid=n_hid,\n",
      "                             batch_size=20,\n",
      "                             n_gibbs_steps=15,\n",
      "                             epochs=30,\n",
      "                             step_rate=0.1,\n",
      "                             use_pcd=True,\n",
      "                             binarize_data='round',\n",
      "                             initial_momentum=0, final_momentum=0, \n",
      "                             use_final_momentum_from_epoch=0,\n",
      "                             weight_cost=0,\n",
      "                             init_method='uniform', init_weight_sigma=init_weight_sigma, init_bias_sigma=0,\n",
      "                             seed=1)\n",
      "rbm.util.enter_rbm_plot_directory(tcfg)\n",
      "myrbm = RestrictedBoltzmannMachine(20, n_vis, n_hid, 0)\n",
      "rbm.util.load_parameters(myrbm, tcfg.epochs-1)"
     ],
     "language": "python",
     "metadata": {},
     "outputs": [
      {
       "output_type": "stream",
       "stream": "stdout",
       "text": [
        "Leaving plot directory C:\\Local\\surban\\dev\\ml\\notebooks\\mnistv-rbm-5000-pcd15-mbs0020-round-sr0.100-m0.00;0.00(00)-c0.0000-iws0.1288-ibs0.0000-0000000001\n",
        "Entered plot directory C:\\Local\\surban\\dev\\ml\\notebooks\\mnistv-rbm-5000-pcd15-mbs0020-round-sr0.100-m0.00;0.00(00)-c0.0000-iws0.1288-ibs0.0000-0000000001"
       ]
      },
      {
       "ename": "AttributeError",
       "evalue": "'module' object has no attribute 'rbm'",
       "output_type": "pyerr",
       "traceback": [
        "\u001b[1;31m---------------------------------------------------------------------------\u001b[0m\n\u001b[1;31mAttributeError\u001b[0m                            Traceback (most recent call last)",
        "\u001b[1;32m<ipython-input-12-b2f03aab3f15>\u001b[0m in \u001b[0;36m<module>\u001b[1;34m()\u001b[0m\n\u001b[0;32m     21\u001b[0m                              seed=1)\n\u001b[0;32m     22\u001b[0m \u001b[0mrbm\u001b[0m\u001b[1;33m.\u001b[0m\u001b[0mutil\u001b[0m\u001b[1;33m.\u001b[0m\u001b[0menter_rbm_plot_directory\u001b[0m\u001b[1;33m(\u001b[0m\u001b[0mtcfg\u001b[0m\u001b[1;33m)\u001b[0m\u001b[1;33m\u001b[0m\u001b[0m\n\u001b[1;32m---> 23\u001b[1;33m \u001b[0mmyrbm\u001b[0m \u001b[1;33m=\u001b[0m \u001b[0mrbm\u001b[0m\u001b[1;33m.\u001b[0m\u001b[0mrbm\u001b[0m\u001b[1;33m.\u001b[0m\u001b[0mRestrictedBoltzmannMachine\u001b[0m\u001b[1;33m(\u001b[0m\u001b[1;36m20\u001b[0m\u001b[1;33m,\u001b[0m \u001b[0mn_vis\u001b[0m\u001b[1;33m,\u001b[0m \u001b[0mn_hid\u001b[0m\u001b[1;33m,\u001b[0m \u001b[1;36m0\u001b[0m\u001b[1;33m)\u001b[0m\u001b[1;33m\u001b[0m\u001b[0m\n\u001b[0m\u001b[0;32m     24\u001b[0m \u001b[0mrbm\u001b[0m\u001b[1;33m.\u001b[0m\u001b[0mutil\u001b[0m\u001b[1;33m.\u001b[0m\u001b[0mload_parameters\u001b[0m\u001b[1;33m(\u001b[0m\u001b[0mmyrbm\u001b[0m\u001b[1;33m,\u001b[0m \u001b[0mtcfg\u001b[0m\u001b[1;33m.\u001b[0m\u001b[0mepochs\u001b[0m\u001b[1;33m-\u001b[0m\u001b[1;36m1\u001b[0m\u001b[1;33m)\u001b[0m\u001b[1;33m\u001b[0m\u001b[0m\n",
        "\u001b[1;31mAttributeError\u001b[0m: 'module' object has no attribute 'rbm'"
       ]
      },
      {
       "output_type": "stream",
       "stream": "stdout",
       "text": [
        "\n"
       ]
      }
     ],
     "prompt_number": 12
    },
    {
     "cell_type": "code",
     "collapsed": false,
     "input": [
      "iters = 10\n",
      "gibbs_steps = 10\n",
      "beta = 2\n",
      "err = apps.mnist_orrbm.or_performance(myrbm, svc, OX, OZ, iters, gibbs_steps, beta)\n",
      "\n",
      "print \"Error: %g\" % err"
     ],
     "language": "python",
     "metadata": {},
     "outputs": []
    }
   ],
   "metadata": {}
  }
 ]
}