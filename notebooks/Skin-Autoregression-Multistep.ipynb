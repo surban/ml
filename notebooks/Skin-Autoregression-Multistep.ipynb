{
 "metadata": {
  "name": ""
 },
 "nbformat": 3,
 "nbformat_minor": 0,
 "worksheets": [
  {
   "cells": [
    {
     "cell_type": "code",
     "collapsed": false,
     "input": [
      "%load_ext autoreload\n",
      "%autoreload 2\n",
      "\n",
      "import numpy as np\n",
      "import matplotlib.pyplot as plt\n",
      "\n",
      "from ml.apps.skin.timeseries import *\n",
      "from ml.simple.table import *\n",
      "from ml.datasets.skin import SkinDataset\n",
      "from ml.common.util import ParameterHistory\n",
      "from ml.common.test import check_gradient, check_directional_gradient\n",
      "from climin.gd import GradientDescent\n",
      "from climin.bfgs import Bfgs, Lbfgs\n",
      "from climin.rmsprop import RmsProp"
     ],
     "language": "python",
     "metadata": {},
     "outputs": [
      {
       "output_type": "stream",
       "stream": "stdout",
       "text": [
        "common.gpu uses GPU:  False\n"
       ]
      },
      {
       "output_type": "stream",
       "stream": "stderr",
       "text": [
        "[autoreload of cutils_ext failed: Traceback (most recent call last):\n",
        "  File \"C:\\Anaconda\\lib\\site-packages\\IPython\\extensions\\autoreload.py\", line 229, in check\n",
        "    superreload(m, reload, self.old_objects)\n",
        "ImportError: No module named cutils_ext\n",
        "]\n"
       ]
      }
     ],
     "prompt_number": 1
    },
    {
     "cell_type": "code",
     "collapsed": false,
     "input": [
      "force_min = 0\n",
      "force_step = 0.1\n",
      "force_max = 25\n",
      "skin_min = 0\n",
      "skin_step = 0.02\n",
      "skin_max = 2\n",
      "\n",
      "ds = SkinDataset(\"raising_small\")\n",
      "ds.print_statistics()"
     ],
     "language": "python",
     "metadata": {},
     "outputs": [
      {
       "output_type": "stream",
       "stream": "stdout",
       "text": [
        "Dataset Z:\\dev\\indentor\\indentor\\apps\\out\\raising_small.skn:\n",
        "     taxel          train   validation   test\n",
        "     1,1            800     100          100\n",
        "     3,2            785      98           98\n",
        "Avg. datapoints per record: 2433"
       ]
      },
      {
       "output_type": "stream",
       "stream": "stdout",
       "text": [
        "\n",
        "Sampling interval:          0.01 s\n",
        "\n"
       ]
      }
     ],
     "prompt_number": 2
    },
    {
     "cell_type": "code",
     "collapsed": false,
     "input": [
      "taxel = (1,1)\n",
      "n_curves = None\n",
      "\n",
      "print \"One step prediction:\"\n",
      "X, Z = build_nextstep_data(ds, 'train', taxel, n_curves=n_curves)\n",
      "print \"Trainingset size: %d steps\" % X.shape[1]\n",
      "\n",
      "Xval, Zval = build_nextstep_data(ds, 'validation', taxel)\n",
      "print \"Validationset size: %d steps\" % Xval.shape[1]\n",
      "\n",
      "Xtst, Ztst = build_nextstep_data(ds, 'test', taxel)\n",
      "print \"Testset size: %d steps\" % Xtst.shape[1]\n",
      "print\n",
      "\n",
      "print \"Multistep prediction:\"\n",
      "train_curves = ds.record('train', taxel)\n",
      "force, skin, valid = build_multicurve(train_curves)\n",
      "print \"Training curves: \", force.shape[1]\n",
      "\n",
      "val_curves = ds.record('validation', taxel)\n",
      "val_force, val_skin, val_valid = build_multicurve(val_curves)\n",
      "print \"Validation curves: \", val_force.shape[1]\n",
      "\n",
      "test_curves = ds.record('test', taxel, range(42))\n",
      "test_force, test_skin, test_valid = build_multicurve(test_curves)\n",
      "print \"Test curves: \", test_force.shape[1]"
     ],
     "language": "python",
     "metadata": {},
     "outputs": [
      {
       "output_type": "stream",
       "stream": "stdout",
       "text": [
        "One step prediction:\n",
        "Trainingset size: 1945207 steps"
       ]
      },
      {
       "output_type": "stream",
       "stream": "stdout",
       "text": [
        "\n",
        "Validationset size: 246044 steps"
       ]
      },
      {
       "output_type": "stream",
       "stream": "stdout",
       "text": [
        "\n",
        "Testset size: 244160 steps"
       ]
      },
      {
       "output_type": "stream",
       "stream": "stdout",
       "text": [
        "\n",
        "\n"
       ]
      },
      {
       "output_type": "stream",
       "stream": "stdout",
       "text": [
        "Multistep prediction:\n",
        "Training curves: "
       ]
      },
      {
       "output_type": "stream",
       "stream": "stdout",
       "text": [
        " 800\n",
        "Validation curves: "
       ]
      },
      {
       "output_type": "stream",
       "stream": "stdout",
       "text": [
        " 100\n",
        "Test curves: "
       ]
      },
      {
       "output_type": "stream",
       "stream": "stdout",
       "text": [
        " 42\n"
       ]
      }
     ],
     "prompt_number": 3
    },
    {
     "cell_type": "heading",
     "level": 3,
     "metadata": {},
     "source": [
      "Pretraining using matrix inversion"
     ]
    },
    {
     "cell_type": "code",
     "collapsed": false,
     "input": [
      "tr = SmoothTableRegression([force_min, skin_min], \n",
      "                           [force_step, skin_step], \n",
      "                           [force_max, skin_max])\n",
      "print \"Number of weights: %d\" % tr.weight_matrix.size\n",
      "\n",
      "start_weights = np.load(\"skin-table-start-weights.npz\")['optimal_weights']\n",
      "tr.weights = start_weights.copy()\n",
      "\n",
      "def one_step_training_error(w):\n",
      "    Z_p = tr.predict(X)\n",
      "    return 0.5 * np.mean((Z - Z_p)**2)\n",
      "\n",
      "def one_step_validation_error(w):\n",
      "    Zval_p = tr.predict(Xval)\n",
      "    return 0.5 * np.mean((Zval - Zval_p)**2)\n",
      "\n",
      "def one_step_test_error(w):\n",
      "    Ztst_p = tr.predict(Xtst)\n",
      "    return 0.5 * np.mean((Ztst - Ztst_p)**2)\n",
      "\n",
      "def multi_step_training_error(w):\n",
      "    skin_p = multistep_predict(tr.predict, force, valid, skin[0, :])\n",
      "    return multistep_error(skin_p, skin, valid, mean_err=True)        \n",
      "\n",
      "def multi_step_validation_error(w):\n",
      "    val_skin_p = multistep_predict(tr.predict, val_force, val_valid, val_skin[0, :])\n",
      "    return multistep_error(val_skin_p, val_skin, val_valid, mean_err=True)        \n",
      "\n",
      "def multi_step_test_error(w):\n",
      "    test_skin_p = multistep_predict(tr.predict, test_force, test_valid, test_skin[0, :])\n",
      "    return multistep_error(test_skin_p, test_skin, test_valid, mean_err=True)    \n",
      "\n",
      "def failed_training_curves(w):\n",
      "    skin_p = multistep_predict(tr.predict, force, valid, skin[0, :])    \n",
      "    return np.sum(multistep_error_per_sample(skin_p, skin, valid) > 100)\n",
      "\n",
      "def failed_validation_curves(w):\n",
      "    val_skin_p = multistep_predict(tr.predict, val_force, val_valid, val_skin[0, :])\n",
      "    return np.sum(multistep_error_per_sample(val_skin_p, val_skin, val_valid) > 100)\n",
      "\n",
      "def failed_test_curves(w):\n",
      "    test_skin_p = multistep_predict(tr.predict, test_force, test_valid, test_skin[0, :])\n",
      "    return np.sum(multistep_error_per_sample(test_skin_p, test_skin, test_valid) > 100)\n",
      "\n",
      "print \"training:   next step: %.7f;  all steps: %.5f   failed curves: %d\" % (one_step_training_error(tr.weights), multi_step_training_error(tr.weights), failed_training_curves(tr.weights))\n",
      "print \"validation: next step: %.7f;  all steps: %.5f;  failed curves: %d\" % (one_step_validation_error(tr.weights), multi_step_validation_error(tr.weights), failed_validation_curves(tr.weights))\n",
      "print \"test:       next step: %.7f;  all steps: %.5f;  failed curves: %d\" % (one_step_test_error(tr.weights), multi_step_test_error(tr.weights), failed_test_curves(tr.weights))"
     ],
     "language": "python",
     "metadata": {},
     "outputs": [
      {
       "output_type": "stream",
       "stream": "stdout",
       "text": [
        "Number of weights: 26416\n",
        "training:   next step: 0.0000090;  all steps: 0.19162   failed curves: 152"
       ]
      },
      {
       "output_type": "stream",
       "stream": "stdout",
       "text": [
        "\n",
        "validation: next step: 0.0000147;  all steps: 0.16122;  failed curves: 15"
       ]
      },
      {
       "output_type": "stream",
       "stream": "stdout",
       "text": [
        "\n",
        "test:       next step: 0.0002046;  all steps: 0.15630;  failed curves: 6"
       ]
      },
      {
       "output_type": "stream",
       "stream": "stdout",
       "text": [
        "\n"
       ]
      }
     ],
     "prompt_number": 4
    },
    {
     "cell_type": "heading",
     "level": 3,
     "metadata": {},
     "source": [
      "Training using iterative gradient algorithms"
     ]
    },
    {
     "cell_type": "code",
     "collapsed": false,
     "input": [
      "all_valid = np.all(valid, axis=1)\n",
      "last_valid = np.nonzero(all_valid)[0][-1]\n",
      "print \"last all samples valid step: %d / %d\" % (last_valid, valid.shape[0])"
     ],
     "language": "python",
     "metadata": {},
     "outputs": [
      {
       "output_type": "stream",
       "stream": "stdout",
       "text": [
        "last all samples valid step: 1513 / 3018\n"
       ]
      }
     ],
     "prompt_number": 5
    },
    {
     "cell_type": "code",
     "collapsed": false,
     "input": [
      "steps = 30\n",
      "target_err = 0.02\n",
      "\n",
      "start_step = 0\n",
      "\n",
      "def error_wrapper(w):\n",
      "    tr.weights = w\n",
      "    f = force[start_step:start_step+steps, :]\n",
      "    v = valid[start_step:start_step+steps, :]\n",
      "    s = skin[start_step:start_step+steps, :]\n",
      "    s_p = multistep_predict(tr.predict, f, v, s[0, :])\n",
      "    return multistep_error(s_p, s, v)    \n",
      "\n",
      "def gradient_wrapper(w):\n",
      "    tr.weights = w\n",
      "    f = force[start_step:start_step+steps, :]\n",
      "    v = valid[start_step:start_step+steps, :]\n",
      "    s = skin[start_step:start_step+steps, :]\n",
      "    return multistep_gradient(tr.predict_and_gradient, f, s, v)\n",
      "\n",
      "print \"error_wrapper:    \", error_wrapper(tr.weights)\n",
      "print \"gradient_wrapper: \", gradient_wrapper(tr.weights).shape"
     ],
     "language": "python",
     "metadata": {},
     "outputs": [
      {
       "output_type": "stream",
       "stream": "stdout",
       "text": [
        "error_wrapper:     0.0197434868996\n",
        "gradient_wrapper: "
       ]
      },
      {
       "output_type": "stream",
       "stream": "stdout",
       "text": [
        " (26416L,)\n"
       ]
      }
     ],
     "prompt_number": 6
    },
    {
     "cell_type": "code",
     "collapsed": false,
     "input": [
      "his_os = ParameterHistory(show_progress=False)\n",
      "his_ms = ParameterHistory(min_iters=100000)\n",
      "figsize(10,5)\n",
      "\n",
      "tr.weights = start_weights.copy()\n",
      "opt = RmsProp(tr.weights, gradient_wrapper, steprate=1e-5)\n",
      "for iter, info in enumerate(opt):\n",
      "    start_step = (start_step + steps - 1) % last_valid\n",
      "    \n",
      "    if iter % 100 == 0:      \n",
      "        #his_os.add(iter, tr.weights, \n",
      "        #           one_step_training_error(tr.weights), one_step_validation_error(tr.weights), one_step_test_error(tr.weights))\n",
      "        #his_ms.add(iter, tr.weights, \n",
      "        #           multi_step_training_error(tr.weights), multi_step_validation_error(tr.weights), multi_step_test_error(tr.weights))       \n",
      "        his_ms.add(iter, tr.weights, \n",
      "                   failed_training_curves(tr.weights), failed_validation_curves(tr.weights), failed_test_curves(tr.weights))  \n",
      "        \n",
      "        plt.clf()\n",
      "        his_ms.plot(final=False)\n",
      "        plt.show()\n",
      "        \n",
      "        #print \"%5d: one step: %.5f;  multi step: %.5f\" % \\\n",
      "        #    (iter, one_step_validation_error(tr.weights), multi_step_validation_error(tr.weights))\n",
      "\n",
      "    if his_ms.should_terminate:\n",
      "        break"
     ],
     "language": "python",
     "metadata": {},
     "outputs": [
      {
       "html": [
        "<pre>100000: training:   7.00000  validation:   2.00000 (best:   1.00000)  test:   0.00000"
       ],
       "metadata": {},
       "output_type": "display_data"
      },
      {
       "metadata": {},
       "output_type": "display_data",
       "png": "[encoded data removed]",
       "text": [
        "<matplotlib.figure.Figure at 0x9f89828>"
       ]
      }
     ],
     "prompt_number": 7
    },
    {
     "cell_type": "heading",
     "level": 1,
     "metadata": {},
     "source": [
      "Multistep prediction"
     ]
    },
    {
     "cell_type": "code",
     "collapsed": false,
     "input": [
      "test_skin_p = multistep_predict(tr.predict, test_force, test_valid, test_skin[0, :])\n",
      "figsize(20,15)\n",
      "plot_multicurve_time(test_force, test_skin, test_valid, test_skin_p, timestep=ds.timestep)"
     ],
     "language": "python",
     "metadata": {},
     "outputs": []
    },
    {
     "cell_type": "code",
     "collapsed": false,
     "input": [
      "tr_one = SmoothTableRegression([force_min, skin_min], \n",
      "                               [force_step, skin_step], \n",
      "                               [force_max, skin_max])\n",
      "tr_one.weights = start_weights.copy()\n",
      "\n",
      "test_skin_p = multistep_predict(tr_one.predict, test_force, test_valid, test_skin[0, :])\n",
      "figsize(20,15)\n",
      "plot_multicurve_time(test_force, test_skin, test_valid, test_skin_p, timestep=ds.timestep)"
     ],
     "language": "python",
     "metadata": {},
     "outputs": []
    },
    {
     "cell_type": "code",
     "collapsed": false,
     "input": [],
     "language": "python",
     "metadata": {},
     "outputs": []
    }
   ],
   "metadata": {}
  }
 ]
}