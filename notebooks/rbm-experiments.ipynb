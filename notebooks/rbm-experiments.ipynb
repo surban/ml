{
 "metadata": {
  "name": "rbm-experiments"
 },
 "nbformat": 3,
 "nbformat_minor": 0,
 "worksheets": [
  {
   "cells": [
    {
     "cell_type": "code",
     "collapsed": false,
     "input": [
      "%load_ext autoreload\n",
      "%autoreload 2\n",
      "\n",
      "import gnumpy as gp\n",
      "import numpy as np\n",
      "import apps.mnist_svm\n",
      "import apps.mnist_orrbm\n",
      "import rbm.orrbm\n",
      "import rbm.util\n",
      "import rbm.rbm\n",
      "import rbm.sampling\n",
      "import common.util\n",
      "import apps.mnist_reference_dropout as ref\n",
      "import pickle\n",
      "import gzip\n",
      "\n",
      "from rbm.config import TrainingConfiguration\n",
      "from rbm.rbm import train_rbm, RestrictedBoltzmannMachine"
     ],
     "language": "python",
     "metadata": {},
     "outputs": [],
     "prompt_number": 4
    },
    {
     "cell_type": "code",
     "collapsed": false,
     "input": [
      "rbm.util.leave_rbm_plot_directory()\n",
      "svc = apps.mnist_svm.load()\n",
      "\n",
      "n_vis=784\n",
      "n_hid=5000\n",
      "init_weight_sigma = 4 * np.sqrt(6. / (n_hid + n_vis))\n",
      "tcfg = TrainingConfiguration(dataset='mnistv',\n",
      "                             n_vis=n_vis, n_hid=n_hid,\n",
      "                             batch_size=20,\n",
      "                             n_gibbs_steps=15,\n",
      "                             epochs=30,\n",
      "                             step_rate=0.1,\n",
      "                             use_pcd=True,\n",
      "                             binarize_data='round',\n",
      "                             initial_momentum=0, final_momentum=0, \n",
      "                             use_final_momentum_from_epoch=0,\n",
      "                             weight_cost=0,\n",
      "                             init_method='uniform', init_weight_sigma=init_weight_sigma, init_bias_sigma=0,\n",
      "                             seed=1)\n",
      "rbm.util.enter_rbm_plot_directory(tcfg)\n",
      "myrbm = RestrictedBoltzmannMachine(20, n_vis, n_hid, 0)\n",
      "rbm.util.load_parameters(myrbm, tcfg.epochs-1)\n",
      "\n",
      "X=tcfg.X\n",
      "Z=tcfg.Z"
     ],
     "language": "python",
     "metadata": {},
     "outputs": [
      {
       "output_type": "stream",
       "stream": "stdout",
       "text": [
        "Leaving plot directory C:\\Local\\surban\\dev\\ml\\notebooks\\mnistv-rbm-5000-pcd15-mbs0020-round-sr0.100-m0.00;0.00(00)-c0.0000-iws0.1288-ibs0.0000-0000000001\n",
        "Entered plot directory C:\\Local\\surban\\dev\\ml\\notebooks\\mnistv-rbm-5000-pcd15-mbs0020-round-sr0.100-m0.00;0.00(00)-c0.0000-iws0.1288-ibs0.0000-0000000001"
       ]
      },
      {
       "output_type": "stream",
       "stream": "stdout",
       "text": [
        "\n",
        "Loading RBM parameters form file weights-29.npz"
       ]
      },
      {
       "output_type": "stream",
       "stream": "stdout",
       "text": [
        "\n"
       ]
      }
     ],
     "prompt_number": 7
    },
    {
     "cell_type": "heading",
     "level": 1,
     "metadata": {},
     "source": [
      "Calculate all free energies of one digit class"
     ]
    },
    {
     "cell_type": "code",
     "collapsed": false,
     "input": [
      "digit = 4\n",
      "\n",
      "nX = gp.as_numpy_array(X)\n",
      "nZ = gp.as_numpy_array(Z)\n",
      "isDigit = (nZ == digit)\n",
      "ndX = nX[isDigit, :]\n",
      "ndZ = nZ[isDigit]\n",
      "dX = gp.as_garray(ndX)\n",
      "dZ = gp.as_garray(ndZ)\n",
      "\n",
      "dfe = common.util.map(dX, 1000, myrbm.free_energy)\n",
      "dfe = gp.as_numpy_array(dfe)\n",
      "plt.hist(dfe, 50)"
     ],
     "language": "python",
     "metadata": {},
     "outputs": [
      {
       "output_type": "pyout",
       "prompt_number": 8,
       "text": [
        "(array([  1,   3,   1,   6,  15,  18,  36,  49,  59,  76, 109, 121, 152,\n",
        "       175, 183, 192, 207, 206, 205, 191, 200, 190, 198, 197, 211, 205,\n",
        "       194, 189, 181, 149, 154, 145, 135,  91,  77,  81,  45,  61,  37,\n",
        "        35,  26,  15,  15,   7,   5,   2,   2,   4,   1,   2]),\n",
        " array([-430.52011108, -427.40238342, -424.28465576, -421.1669281 ,\n",
        "       -418.04920044, -414.93147278, -411.81374512, -408.69601746,\n",
        "       -405.57828979, -402.46056213, -399.34283447, -396.22510681,\n",
        "       -393.10737915, -389.98965149, -386.87192383, -383.75419617,\n",
        "       -380.63646851, -377.51874084, -374.40101318, -371.28328552,\n",
        "       -368.16555786, -365.0478302 , -361.93010254, -358.81237488,\n",
        "       -355.69464722, -352.57691956, -349.45919189, -346.34146423,\n",
        "       -343.22373657, -340.10600891, -336.98828125, -333.87055359,\n",
        "       -330.75282593, -327.63509827, -324.51737061, -321.39964294,\n",
        "       -318.28191528, -315.16418762, -312.04645996, -308.9287323 ,\n",
        "       -305.81100464, -302.69327698, -299.57554932, -296.45782166,\n",
        "       -293.34009399, -290.22236633, -287.10463867, -283.98691101,\n",
        "       -280.86918335, -277.75145569, -274.63372803]),\n",
        " <a list of 50 Patch objects>)"
       ]
      },
      {
       "output_type": "display_data",
       "png": "[encoded data removed]"
      }
     ],
     "prompt_number": 8
    },
    {
     "cell_type": "heading",
     "level": 1,
     "metadata": {},
     "source": [
      "Calculate path from one digit to another digit of same class"
     ]
    },
    {
     "cell_type": "code",
     "collapsed": false,
     "input": [
      "def argmedian(x):\n",
      "    if len(x) % 2 != 1:\n",
      "        x = x[0:len(x)-1]\n",
      "    m = np.median(x)\n",
      "    mpos = np.where(x == m)[0]\n",
      "    return mpos[0]\n",
      "\n",
      "def find_greedy_lowest_energy_path(myrbm, x, y, beta=1):\n",
      "    x = gp.as_numpy_array(x)\n",
      "    y = gp.as_numpy_array(y)\n",
      "\n",
      "    fe_min = float('inf')\n",
      "    fe_max = -float('inf')\n",
      "        \n",
      "    fes = []\n",
      "    xs = []\n",
      "    n_diffs = np.count_nonzero(x != y)\n",
      "    i = 0\n",
      "    while not np.all(x == y):\n",
      "        i += 1\n",
      "        common.progress.status(i, n_diffs, 'Finding path')\n",
      "        \n",
      "        x, fe = do_lowest_energy_step(myrbm, x, y, beta)\n",
      "        fes.append(fe)\n",
      "        xs.append(x)\n",
      "        \n",
      "    return fes, np.array(xs)\n",
      "\n",
      "def do_lowest_energy_step(myrbm, x, y, beta):   \n",
      "    # calculate difference and possible flip positions\n",
      "    cand_pos = np.nonzero(x != y)[0]\n",
      "       \n",
      "    # calculate flip candidates\n",
      "    cands = np.zeros((len(cand_pos), len(x)))\n",
      "    for i, pos in enumerate(cand_pos):\n",
      "        cands[i, :] = x\n",
      "        cands[i, pos] = 1 - x[pos]\n",
      "        \n",
      "    # calculate free energy of candidates\n",
      "    fes = gp.as_numpy_array(myrbm.free_energy(gp.as_garray(cands), beta=beta))\n",
      "    cand_min = np.argmin(fes)\n",
      "    #cand_min = np.argmax(fes)\n",
      "    #cand_min = argmedian(fes)\n",
      "    \n",
      "    return cands[cand_min, :], fes[cand_min]\n",
      "\n",
      "def anim_path(fe_path, x_path):\n",
      "    for i in range(len(fe_path)):\n",
      "        plt.clf();\n",
      "        plt.subplot(2,1,1)\n",
      "        plt.plot(fe_path)    \n",
      "        plt.axvline(i)\n",
      "        plt.subplot(2,1,2)\n",
      "        common.util.ipy_plot_samples(x_path[i,:])\n",
      "        plt.savefig('fepath%03d.png' % i)\n",
      "\n",
      "\n",
      "# test\n",
      "i = 0\n",
      "j = 12\n",
      "#j = 10  # bad bad bad\n",
      "#j = 11  # same class\n",
      "print \"%d -> %d\" % (Z[i], Z[j])\n",
      "\n",
      "fe_path, x_path = find_greedy_lowest_energy_path(myrbm, X[i,:], X[j,:], beta=1)\n",
      "x_min = x_path[np.argmin(fe_path), :]\n",
      "x_max = x_path[np.argmax(fe_path), :]"
     ],
     "language": "python",
     "metadata": {},
     "outputs": [
      {
       "output_type": "stream",
       "stream": "stdout",
       "text": [
        "5 -> 3\n"
       ]
      }
     ],
     "prompt_number": 9
    },
    {
     "cell_type": "code",
     "collapsed": false,
     "input": [
      "plt.plot(fe_path)    \n",
      "plt.figure()\n",
      "common.util.ipy_plot_samples(x_min)\n",
      "#plt.figure()\n",
      "#common.util.ipy_plot_samples(x_path[30,:])"
     ],
     "language": "python",
     "metadata": {},
     "outputs": [
      {
       "output_type": "pyout",
       "prompt_number": 10,
       "text": [
        "<matplotlib.image.AxesImage at 0x45e99d68>"
       ]
      },
      {
       "output_type": "display_data",
       "png": "[encoded data removed]"
      },
      {
       "output_type": "display_data",
       "png": "[encoded data removed]"
      }
     ],
     "prompt_number": 10
    },
    {
     "cell_type": "code",
     "collapsed": false,
     "input": [
      "anim_path(fe_path, x_path)"
     ],
     "language": "python",
     "metadata": {},
     "outputs": []
    },
    {
     "cell_type": "heading",
     "level": 1,
     "metadata": {},
     "source": [
      "Clustering by flip sampling"
     ]
    },
    {
     "cell_type": "code",
     "collapsed": false,
     "input": [
      "iters=1000\n",
      "#flip_X=common.util.map(X, 1000, lambda x: flip_sample(myrbm, x, iterations=iters, beta=1))\n",
      "flip_X = gp.as_garray(np.load(\"flip_%d_X.npz\" % iters)['flip_X'])"
     ],
     "language": "python",
     "metadata": {},
     "outputs": []
    },
    {
     "cell_type": "code",
     "collapsed": false,
     "input": [
      "flip_stab = rbm.sampling.generation_accuracy(\"Flip\", ref_predict, myrbm, \n",
      "                                              X, Z, ref_Z, \n",
      "                                              gen_X=flip_X, store_samples=False)\n",
      "figsize(10,5)\n",
      "rbm.sampling.plot_stability([id_stab, flip_stab])"
     ],
     "language": "python",
     "metadata": {},
     "outputs": []
    },
    {
     "cell_type": "code",
     "collapsed": false,
     "input": [
      "flip_X = gp.as_numpy_array(flip_X)\n",
      "digit = 4\n",
      "isDigit = (Z == digit)\n",
      "dfX = flip_X[isDigit, :]\n",
      "dX = gp.as_numpy_array(X)[isDigit, :]"
     ],
     "language": "python",
     "metadata": {},
     "outputs": []
    },
    {
     "cell_type": "code",
     "collapsed": false,
     "input": [
      "figsize(20,5)\n",
      "common.util.ipy_plot_samples(dX[0:20,:])\n",
      "plt.figure()\n",
      "common.util.ipy_plot_samples(dfX[0:20,:])"
     ],
     "language": "python",
     "metadata": {},
     "outputs": []
    },
    {
     "cell_type": "code",
     "collapsed": false,
     "input": [
      "i=0\n",
      "j=5\n",
      "fe_path, x_path = find_greedy_lowest_energy_path(myrbm, dfX[i,:], dfX[j,:], beta=1)\n",
      "x_min = x_path[np.argmin(fe_path), :]\n",
      "x_max = x_path[np.argmax(fe_path), :]\n",
      "plt.plot(fe_path)    "
     ],
     "language": "python",
     "metadata": {},
     "outputs": []
    },
    {
     "cell_type": "code",
     "collapsed": false,
     "input": [
      "anim_path(fe_path, x_path)"
     ],
     "language": "python",
     "metadata": {},
     "outputs": []
    }
   ],
   "metadata": {}
  }
 ]
}