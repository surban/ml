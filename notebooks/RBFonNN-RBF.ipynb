{
 "metadata": {
  "name": "RBFonNN-RBF"
 },
 "nbformat": 3,
 "nbformat_minor": 0,
 "worksheets": [
  {
   "cells": [
    {
     "cell_type": "code",
     "collapsed": false,
     "input": [
      "%load_ext autoreload\n",
      "%autoreload 2\n",
      "\n",
      "import climin\n",
      "import numpy as np\n",
      "import theano\n",
      "import theano.tensor as T\n",
      "import breze.util\n",
      "\n",
      "import common.util\n",
      "from nn.nn import OneHiddenLayerNN, StackedRBF\n",
      "from common.util import floatx\n",
      "from math import floor"
     ],
     "language": "python",
     "metadata": {},
     "outputs": [
      {
       "output_type": "stream",
       "stream": "stdout",
       "text": [
        "gnumpy: failed to import cudamat. Using npmat instead. No GPU will be used.\n"
       ]
      }
     ],
     "prompt_number": 1
    },
    {
     "cell_type": "code",
     "collapsed": false,
     "input": [
      "# load data\n",
      "np.random.seed(100)\n",
      "RX, RZ, VX, VZ, TX, TZ = common.util.load_theano_data('../datasets/boston_split.mat')   "
     ],
     "language": "python",
     "metadata": {},
     "outputs": [],
     "prompt_number": 2
    },
    {
     "cell_type": "heading",
     "level": 2,
     "metadata": {},
     "source": [
      "Proposal: RBF on sigmoid layer"
     ]
    },
    {
     "cell_type": "code",
     "collapsed": false,
     "input": [
      "# check kernel\n",
      "x=np.array([[11, 21, 31], [12, 22, 32]]);\n",
      "y=np.array([[101, 201],   [102, 202]]);\n",
      "\n",
      "tx = T.matrix('x')\n",
      "ty = T.matrix('y')\n",
      "f_kernel_matrix = theano.function([tx, ty], StackedRBF.kernel_matrix(tx, ty, 100))\n",
      "\n",
      "K = f_kernel_matrix(x, y)\n",
      "print K\n"
     ],
     "language": "python",
     "metadata": {},
     "outputs": [
      {
       "output_type": "stream",
       "stream": "stdout",
       "text": [
        "[[ 0.44485807  0.02705185]\n",
        " [ 0.52729242  0.0391639 ]\n",
        " [ 0.61262639  0.05557621]]\n"
       ]
      }
     ],
     "prompt_number": 3
    },
    {
     "cell_type": "code",
     "collapsed": false,
     "input": [
      "# hyperparameters\n",
      "n_targets = RZ.get_value().shape[0]\n",
      "n_features = RX.get_value().shape[0]\n",
      "n_samples = RX.get_value().shape[1]\n",
      "n_hidden = 20\n",
      "n_pivots = int(n_samples / 2)"
     ],
     "language": "python",
     "metadata": {},
     "outputs": [],
     "prompt_number": 27
    },
    {
     "cell_type": "code",
     "collapsed": false,
     "input": [
      "# Theano expressions\n",
      "\n",
      "# parameters\n",
      "ps = breze.util.ParameterSet(P=(n_hidden, n_pivots),\n",
      "                             W=(n_targets, n_pivots),\n",
      "                             V=(n_hidden, n_features),\n",
      "                             l=1)\n",
      "\n",
      "# expressions\n",
      "srbf = StackedRBF(ps.P, ps.W, ps.V, ps.l)\n",
      "RL = srbf.regression_objective(RX, RZ)\n",
      "\n",
      "# functions\n",
      "f_RL = theano.function(inputs=[ps.flat], outputs=RL)\n",
      "f_VL = theano.function(inputs=[ps.flat], outputs=srbf.regression_objective(VX, VZ))\n",
      "f_TL = theano.function(inputs=[ps.flat], outputs=srbf.regression_objective(TX, TZ))\n",
      "f_dRL = theano.function(inputs=[ps.flat], outputs=T.grad(RL, ps.flat)) "
     ],
     "language": "python",
     "metadata": {},
     "outputs": [],
     "prompt_number": 28
    },
    {
     "cell_type": "code",
     "collapsed": false,
     "input": [
      "# initialize parameters\n",
      "ps.data[:] = np.random.random(ps.data.shape) - 0.5\n",
      "ps['l'] = 2;\n",
      "\n",
      "# test Theano expressions\n",
      "print \"Training loss:   %f\" % f_RL(ps.data)\n",
      "print \"Validation loss: %f\" % f_VL(ps.data)\n",
      "print \"Test loss:       %f\" % f_TL(ps.data)\n",
      "print \"Gradient shape:    \", f_dRL(ps.data).shape"
     ],
     "language": "python",
     "metadata": {},
     "outputs": [
      {
       "output_type": "stream",
       "stream": "stdout",
       "text": [
        "Training loss:   674.881212\n",
        "Validation loss: 724.865356"
       ]
      },
      {
       "output_type": "stream",
       "stream": "stdout",
       "text": [
        "\n",
        "Test loss:       683.731242"
       ]
      },
      {
       "output_type": "stream",
       "stream": "stdout",
       "text": [
        "\n",
        "Gradient shape:    "
       ]
      },
      {
       "output_type": "stream",
       "stream": "stdout",
       "text": [
        " (3999L,)\n"
       ]
      }
     ],
     "prompt_number": 29
    },
    {
     "cell_type": "code",
     "collapsed": false,
     "input": [
      "# initialize \n",
      "ps.data[:] = np.random.random(ps.data.shape) - 0.5\n",
      "ps['l'] = 100;\n",
      "his = common.util.ParameterHistory(max_missed_val_improvements=100)\n",
      "\n",
      "# optimize \n",
      "opt = climin.Lbfgs(ps.data, f_RL, f_dRL)\n",
      "#opt = climin.Rprop(ps.data, f_RL, f_dRL)\n",
      "#opt = climin.GradientDescent(ps.data, f_dRL, steprate=0.0001)\n",
      "\n",
      "\n",
      "for iter, sts in enumerate(opt):\n",
      "    if iter % 10 == 0:\n",
      "        trn_loss = f_RL(ps.data)\n",
      "        val_loss = f_VL(ps.data)\n",
      "        tst_loss = f_TL(ps.data)\n",
      "        \n",
      "        his.add(iter, ps.data, trn_loss, val_loss, tst_loss)\n",
      "        if his.should_terminate:\n",
      "            break\n",
      "            \n",
      "        #print \"l = \", ps['l']\n",
      "            \n",
      "ps.data[:] = his.best_pars\n",
      "his.plot()"
     ],
     "language": "python",
     "metadata": {},
     "outputs": [
      {
       "html": [
        "<pre>480: training:  64.24178  validation:  71.31287 (best:  71.31287)  test:  80.76984"
       ],
       "output_type": "display_data"
      }
     ],
     "prompt_number": "*"
    },
    {
     "cell_type": "code",
     "collapsed": false,
     "input": [
      "ps['l']"
     ],
     "language": "python",
     "metadata": {},
     "outputs": [
      {
       "output_type": "pyout",
       "prompt_number": 31,
       "text": [
        "array([ 44.53371894])"
       ]
      }
     ],
     "prompt_number": 31
    }
   ],
   "metadata": {}
  }
 ]
}