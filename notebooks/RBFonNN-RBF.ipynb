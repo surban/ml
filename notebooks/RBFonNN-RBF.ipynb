{
 "metadata": {
  "name": "RBFonNN-RBF"
 },
 "nbformat": 3,
 "nbformat_minor": 0,
 "worksheets": [
  {
   "cells": [
    {
     "cell_type": "code",
     "collapsed": false,
     "input": [
      "%load_ext autoreload\n",
      "%autoreload 2\n",
      "\n",
      "import climin\n",
      "import numpy as np\n",
      "import gnumpy as gp\n",
      "import theano\n",
      "import theano.tensor as T\n",
      "import breze.util\n",
      "\n",
      "import common.util\n",
      "from nn.nn import OneHiddenLayerNN, StackedRBF\n",
      "from common.util import floatx\n",
      "from common.gpu import function\n",
      "from math import floor"
     ],
     "language": "python",
     "metadata": {},
     "outputs": [
      {
       "output_type": "stream",
       "stream": "stderr",
       "text": [
        "Using gpu device 0: GeForce GTX 560 Ti\n",
        "[autoreload of cutils_ext failed: Traceback (most recent call last):\n",
        "  File \"C:\\Python27\\lib\\site-packages\\IPython\\extensions\\autoreload.py\", line 243, in check\n",
        "    superreload(m, reload, self.old_objects)\n",
        "ImportError: No module named cutils_ext\n",
        "]"
       ]
      },
      {
       "output_type": "stream",
       "stream": "stdout",
       "text": [
        "gnumpy: failed to use gpu_lock. Using board #0 without knowing whether it is in use or not.\n"
       ]
      },
      {
       "output_type": "stream",
       "stream": "stderr",
       "text": [
        "\n"
       ]
      }
     ],
     "prompt_number": 1
    },
    {
     "cell_type": "code",
     "collapsed": false,
     "input": [
      "# load data\n",
      "np.random.seed(100)\n",
      "#RX, RZ, VX, VZ, TX, TZ = common.util.load_theano_data('../datasets/boston_split.mat')   \n",
      "RX, RZ, VX, VZ, TX, TZ = common.util.load_theano_data('../datasets/abalone_split.mat') "
     ],
     "language": "python",
     "metadata": {},
     "outputs": [],
     "prompt_number": 2
    },
    {
     "cell_type": "heading",
     "level": 2,
     "metadata": {},
     "source": [
      "Proposal: RBF on sigmoid layer"
     ]
    },
    {
     "cell_type": "code",
     "collapsed": false,
     "input": [
      "# check kernel\n",
      "x=np.array([[11, 21, 31], [12, 22, 32]]);\n",
      "y=np.array([[101, 201],   [102, 202]]);\n",
      "l=np.array([[100]])\n",
      "\n",
      "x=gp.as_garray(x)\n",
      "y=gp.as_garray(y)\n",
      "l=gp.as_garray(l)\n",
      "\n",
      "tx = T.matrix('x')\n",
      "ty = T.matrix('y')\n",
      "tl = T.matrix('l')\n",
      "f_kernel_matrix = function([tx, ty, tl], StackedRBF.kernel_matrix(tx, ty, tl))\n",
      "\n",
      "K = f_kernel_matrix(x, y, l)\n",
      "print K\n"
     ],
     "language": "python",
     "metadata": {},
     "outputs": [
      {
       "output_type": "stream",
       "stream": "stdout",
       "text": [
        "garray([[ 0.44485807,  0.02705185],\n",
        "        [ 0.52729243,  0.03916389],\n",
        "        [ 0.61262643,  0.05557621]])\n"
       ]
      }
     ],
     "prompt_number": 3
    },
    {
     "cell_type": "code",
     "collapsed": false,
     "input": [
      "# hyperparameters\n",
      "n_targets = RZ.get_value().shape[0]\n",
      "n_features = RX.get_value().shape[0]\n",
      "n_samples = RX.get_value().shape[1]\n",
      "n_hidden = 50\n",
      "#n_pivots = int(n_samples / 2)\n",
      "n_pivots = 200"
     ],
     "language": "python",
     "metadata": {},
     "outputs": [],
     "prompt_number": 4
    },
    {
     "cell_type": "code",
     "collapsed": false,
     "input": [
      "# Theano expressions\n",
      "\n",
      "# parameters\n",
      "ps = breze.util.ParameterSet(P=(n_hidden, n_pivots),\n",
      "                             W=(n_targets, n_pivots),\n",
      "                             V=(n_hidden, n_features),\n",
      "                             l=(1,1))\n",
      "\n",
      "# expressions\n",
      "srbf = StackedRBF(ps.P, ps.W, ps.V, ps.l)\n",
      "RL = srbf.regression_objective(RX, RZ)\n",
      "\n",
      "# functions\n",
      "f_RL = function(inputs=[ps.flat], outputs=RL)\n",
      "f_VL = function(inputs=[ps.flat], outputs=srbf.regression_objective(VX, VZ))\n",
      "f_TL = function(inputs=[ps.flat], outputs=srbf.regression_objective(TX, TZ))\n",
      "f_dRL = function(inputs=[ps.flat], outputs=T.grad(RL, ps.flat)) "
     ],
     "language": "python",
     "metadata": {},
     "outputs": [],
     "prompt_number": 5
    },
    {
     "cell_type": "code",
     "collapsed": false,
     "input": [
      "# initialize parameters\n",
      "ps.data[:] = np.random.random(ps.data.shape) - 0.5\n",
      "ps['l'] = 2;\n",
      "\n",
      "# test Theano expressions\n",
      "print \"Training loss:   %f\" % gp.as_numpy_array(f_RL(ps.data))\n",
      "print \"Validation loss: %f\" % gp.as_numpy_array(f_VL(ps.data))\n",
      "print \"Test loss:       %f\" % gp.as_numpy_array(f_TL(ps.data))\n",
      "gr = f_dRL(ps.data)\n",
      "print \"Gradient shape:    \", gr.shape"
     ],
     "language": "python",
     "metadata": {},
     "outputs": [
      {
       "output_type": "stream",
       "stream": "stdout",
       "text": [
        "Training loss:   1.372840\n",
        "Validation loss: 1.449431"
       ]
      },
      {
       "output_type": "stream",
       "stream": "stdout",
       "text": [
        "\n",
        "Test loss:       1.290911"
       ]
      },
      {
       "output_type": "stream",
       "stream": "stdout",
       "text": [
        "\n",
        "Gradient shape:    "
       ]
      },
      {
       "output_type": "stream",
       "stream": "stdout",
       "text": [
        " (10701,)\n"
       ]
      }
     ],
     "prompt_number": 6
    },
    {
     "cell_type": "code",
     "collapsed": false,
     "input": [
      "# initialize \n",
      "ps.data[:] = np.random.random(ps.data.shape) - 0.5\n",
      "ps['l'] = 100;\n",
      "his = common.util.ParameterHistory(max_missed_val_improvements=100)\n",
      "\n",
      "# optimize \n",
      "#opt = climin.Lbfgs(ps.data, f_RL, f_dRL)\n",
      "opt = climin.Rprop(ps.data, f_RL, f_dRL)\n",
      "#opt = climin.GradientDescent(ps.data, f_dRL, steprate=0.0001)\n",
      "\n",
      "\n",
      "for iter, sts in enumerate(opt):\n",
      "    if iter % 10 == 0:\n",
      "        trn_loss = gp.as_numpy_array(f_RL(ps.data))\n",
      "        val_loss = gp.as_numpy_array(f_VL(ps.data))\n",
      "        tst_loss = gp.as_numpy_array(f_TL(ps.data))\n",
      "        \n",
      "        his.add(iter, ps.data, trn_loss, val_loss, tst_loss)\n",
      "        if his.should_terminate:\n",
      "            break\n",
      "            \n",
      "        #print \"l = \", ps['l']\n",
      "            \n",
      "ps.data[:] = his.best_pars\n",
      "his.plot()"
     ],
     "language": "python",
     "metadata": {},
     "outputs": [
      {
       "html": [
        "<pre>1270: training:   0.32631  validation:   0.42222 (best:   0.41087)  test:   0.37927"
       ],
       "output_type": "display_data"
      },
      {
       "output_type": "stream",
       "stream": "stdout",
       "text": [
        "best iteration:   260  best validation test loss:   0.41087  best test loss:   0.39346\n"
       ]
      },
      {
       "output_type": "display_data",
       "png": "[encoded data removed]"
      }
     ],
     "prompt_number": 9
    },
    {
     "cell_type": "code",
     "collapsed": false,
     "input": [
      "ps['l']"
     ],
     "language": "python",
     "metadata": {},
     "outputs": []
    }
   ],
   "metadata": {}
  }
 ]
}