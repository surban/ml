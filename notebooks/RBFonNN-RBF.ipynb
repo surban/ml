{
 "metadata": {
  "name": "RBFonNN-RBF"
 },
 "nbformat": 3,
 "nbformat_minor": 0,
 "worksheets": [
  {
   "cells": [
    {
     "cell_type": "code",
     "collapsed": false,
     "input": [
      "%load_ext autoreload\n",
      "%autoreload 2\n",
      "\n",
      "import climin\n",
      "import numpy as np\n",
      "import gnumpy as gp\n",
      "import theano\n",
      "import theano.tensor as T\n",
      "import breze.util\n",
      "\n",
      "import common.util\n",
      "from nn.nn import OneHiddenLayerNN, StackedRBF\n",
      "from common.util import floatx\n",
      "from math import floor"
     ],
     "language": "python",
     "metadata": {},
     "outputs": [],
     "prompt_number": 2
    },
    {
     "cell_type": "code",
     "collapsed": false,
     "input": [
      "# load data\n",
      "np.random.seed(100)\n",
      "#RX, RZ, VX, VZ, TX, TZ = common.util.load_theano_data('../datasets/boston_split.mat')   \n",
      "RX, RZ, VX, VZ, TX, TZ = common.util.load_theano_data('../datasets/abalone_split.mat') "
     ],
     "language": "python",
     "metadata": {},
     "outputs": [],
     "prompt_number": 3
    },
    {
     "cell_type": "heading",
     "level": 2,
     "metadata": {},
     "source": [
      "Proposal: RBF on sigmoid layer"
     ]
    },
    {
     "cell_type": "code",
     "collapsed": false,
     "input": [
      "# check kernel\n",
      "x=np.array([[11, 21, 31], [12, 22, 32]]);\n",
      "y=np.array([[101, 201],   [102, 202]]);\n",
      "l=np.array([[100]])\n",
      "\n",
      "x=gp.as_garray(x)\n",
      "y=gp.as_garray(y)\n",
      "l=gp.as_garray(l)\n",
      "\n",
      "tx = T.matrix('x')\n",
      "ty = T.matrix('y')\n",
      "tl = T.matrix('l')\n",
      "f_kernel_matrix = theano.function([tx, ty], StackedRBF.kernel_matrix(tx, ty, tl))\n",
      "\n",
      "K = f_kernel_matrix(x, y, l)\n",
      "print K\n"
     ],
     "language": "python",
     "metadata": {},
     "outputs": [
      {
       "ename": "NameError",
       "evalue": "name 'gp' is not defined",
       "output_type": "pyerr",
       "traceback": [
        "\u001b[1;31m---------------------------------------------------------------------------\u001b[0m\n\u001b[1;31mNameError\u001b[0m                                 Traceback (most recent call last)",
        "\u001b[1;32m<ipython-input-5-c27f0bf76863>\u001b[0m in \u001b[0;36m<module>\u001b[1;34m()\u001b[0m\n\u001b[0;32m      4\u001b[0m \u001b[0ml\u001b[0m\u001b[1;33m=\u001b[0m\u001b[0mnp\u001b[0m\u001b[1;33m.\u001b[0m\u001b[0marray\u001b[0m\u001b[1;33m(\u001b[0m\u001b[1;33m[\u001b[0m\u001b[1;33m[\u001b[0m\u001b[1;36m100\u001b[0m\u001b[1;33m]\u001b[0m\u001b[1;33m]\u001b[0m\u001b[1;33m)\u001b[0m\u001b[1;33m\u001b[0m\u001b[0m\n\u001b[0;32m      5\u001b[0m \u001b[1;33m\u001b[0m\u001b[0m\n\u001b[1;32m----> 6\u001b[1;33m \u001b[0mx\u001b[0m\u001b[1;33m=\u001b[0m\u001b[0mgp\u001b[0m\u001b[1;33m.\u001b[0m\u001b[0mas_garray\u001b[0m\u001b[1;33m(\u001b[0m\u001b[0mx\u001b[0m\u001b[1;33m)\u001b[0m\u001b[1;33m\u001b[0m\u001b[0m\n\u001b[0m\u001b[0;32m      7\u001b[0m \u001b[0my\u001b[0m\u001b[1;33m=\u001b[0m\u001b[0mgp\u001b[0m\u001b[1;33m.\u001b[0m\u001b[0mas_garray\u001b[0m\u001b[1;33m(\u001b[0m\u001b[0my\u001b[0m\u001b[1;33m)\u001b[0m\u001b[1;33m\u001b[0m\u001b[0m\n\u001b[0;32m      8\u001b[0m \u001b[0ml\u001b[0m\u001b[1;33m=\u001b[0m\u001b[0mgp\u001b[0m\u001b[1;33m.\u001b[0m\u001b[0mas_garray\u001b[0m\u001b[1;33m(\u001b[0m\u001b[0ml\u001b[0m\u001b[1;33m)\u001b[0m\u001b[1;33m\u001b[0m\u001b[0m\n",
        "\u001b[1;31mNameError\u001b[0m: name 'gp' is not defined"
       ]
      }
     ],
     "prompt_number": 5
    },
    {
     "cell_type": "code",
     "collapsed": false,
     "input": [
      "# hyperparameters\n",
      "n_targets = RZ.get_value().shape[0]\n",
      "n_features = RX.get_value().shape[0]\n",
      "n_samples = RX.get_value().shape[1]\n",
      "n_hidden = 50\n",
      "#n_pivots = int(n_samples / 2)\n",
      "n_pivots = 200"
     ],
     "language": "python",
     "metadata": {},
     "outputs": [],
     "prompt_number": 52
    },
    {
     "cell_type": "code",
     "collapsed": false,
     "input": [
      "# Theano expressions\n",
      "\n",
      "# parameters\n",
      "ps = breze.util.ParameterSet(P=(n_hidden, n_pivots),\n",
      "                             W=(n_targets, n_pivots),\n",
      "                             V=(n_hidden, n_features),\n",
      "                             l=1)\n",
      "\n",
      "# expressions\n",
      "srbf = StackedRBF(ps.P, ps.W, ps.V, ps.l)\n",
      "RL = srbf.regression_objective(RX, RZ)\n",
      "\n",
      "# functions\n",
      "f_RL = theano.function(inputs=[ps.flat], outputs=RL)\n",
      "f_VL = theano.function(inputs=[ps.flat], outputs=srbf.regression_objective(VX, VZ))\n",
      "f_TL = theano.function(inputs=[ps.flat], outputs=srbf.regression_objective(TX, TZ))\n",
      "f_dRL = theano.function(inputs=[ps.flat], outputs=T.grad(RL, ps.flat)) "
     ],
     "language": "python",
     "metadata": {},
     "outputs": [],
     "prompt_number": 53
    },
    {
     "cell_type": "code",
     "collapsed": false,
     "input": [
      "# initialize parameters\n",
      "ps.data[:] = np.random.random(ps.data.shape) - 0.5\n",
      "ps['l'] = 2;\n",
      "\n",
      "# test Theano expressions\n",
      "print \"Training loss:   %f\" % f_RL(ps.data)\n",
      "print \"Validation loss: %f\" % f_VL(ps.data)\n",
      "print \"Test loss:       %f\" % f_TL(ps.data)\n",
      "print \"Gradient shape:    \", f_dRL(ps.data).shape"
     ],
     "language": "python",
     "metadata": {},
     "outputs": [
      {
       "output_type": "stream",
       "stream": "stdout",
       "text": [
        "Training loss:   1.372840\n",
        "Validation loss: 1.449431"
       ]
      },
      {
       "output_type": "stream",
       "stream": "stdout",
       "text": [
        "\n",
        "Test loss:       1.290911"
       ]
      },
      {
       "output_type": "stream",
       "stream": "stdout",
       "text": [
        "\n",
        "Gradient shape:    "
       ]
      },
      {
       "output_type": "stream",
       "stream": "stdout",
       "text": [
        " (10701L,)\n"
       ]
      }
     ],
     "prompt_number": "*"
    },
    {
     "cell_type": "code",
     "collapsed": false,
     "input": [
      "# initialize \n",
      "ps.data[:] = np.random.random(ps.data.shape) - 0.5\n",
      "ps['l'] = 100;\n",
      "his = common.util.ParameterHistory(max_missed_val_improvements=100)\n",
      "\n",
      "# optimize \n",
      "#opt = climin.Lbfgs(ps.data, f_RL, f_dRL)\n",
      "opt = climin.Rprop(ps.data, f_RL, f_dRL)\n",
      "#opt = climin.GradientDescent(ps.data, f_dRL, steprate=0.0001)\n",
      "\n",
      "\n",
      "for iter, sts in enumerate(opt):\n",
      "    if iter % 10 == 0:\n",
      "        trn_loss = f_RL(ps.data)\n",
      "        val_loss = f_VL(ps.data)\n",
      "        tst_loss = f_TL(ps.data)\n",
      "        \n",
      "        his.add(iter, ps.data, trn_loss, val_loss, tst_loss)\n",
      "        if his.should_terminate:\n",
      "            break\n",
      "            \n",
      "        #print \"l = \", ps['l']\n",
      "            \n",
      "ps.data[:] = his.best_pars\n",
      "his.plot()"
     ],
     "language": "python",
     "metadata": {},
     "outputs": [
      {
       "html": [
        "<pre>100: training:   0.40387  validation:   0.42212 (best:   0.42212)  test:   0.40856"
       ],
       "output_type": "display_data"
      }
     ],
     "prompt_number": "*"
    },
    {
     "cell_type": "code",
     "collapsed": false,
     "input": [
      "ps['l']"
     ],
     "language": "python",
     "metadata": {},
     "outputs": [],
     "prompt_number": "*"
    }
   ],
   "metadata": {}
  }
 ]
}