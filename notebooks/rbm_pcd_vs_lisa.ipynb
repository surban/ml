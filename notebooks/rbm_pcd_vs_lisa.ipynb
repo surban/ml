{
 "metadata": {
  "name": "rbm_pcd_vs_lisa"
 },
 "nbformat": 3,
 "nbformat_minor": 0,
 "worksheets": [
  {
   "cells": [
    {
     "cell_type": "code",
     "collapsed": true,
     "input": [
      "%load_ext autoreload\n",
      "%autoreload 2\n",
      "\n",
      "from rbm.rbm import train_rbm, RestrictedBoltzmannMachine\n",
      "from rbm.config import TrainingConfiguration\n",
      "from rbm.ais import AnnealedImportanceSampler\n",
      "import rbm.util\n",
      "import rbm.sampling\n",
      "import common\n",
      "import gnumpy as gp\n",
      "import numpy as np\n",
      "import pylab\n",
      "\n",
      "gp.expensive_check_probability = 0"
     ],
     "language": "python",
     "metadata": {},
     "outputs": [],
     "prompt_number": 59
    },
    {
     "cell_type": "code",
     "collapsed": false,
     "input": [
      "n_vis=784\n",
      "n_hid=500\n",
      "init_weight_sigma = 4 * np.sqrt(6. / (n_hid + n_vis))\n",
      "tcfg = TrainingConfiguration(dataset='mnistv',\n",
      "                             n_vis=n_vis, n_hid=n_hid,\n",
      "                             batch_size=20,\n",
      "                             n_gibbs_steps=15,\n",
      "                             epochs=15,\n",
      "                             step_rate=0.1,\n",
      "                             use_pcd=True,\n",
      "                             binarize_data=False,\n",
      "                             initial_momentum=0, final_momentum=0, \n",
      "                             use_final_momentum_from_epoch=0,\n",
      "                             weight_cost=0,\n",
      "                             init_method='uniform', init_weight_sigma=init_weight_sigma, init_bias_sigma=0,\n",
      "                             seed=1)\n",
      "rbm.util.enter_rbm_plot_directory(tcfg)"
     ],
     "language": "python",
     "metadata": {},
     "outputs": [
      {
       "output_type": "stream",
       "stream": "stdout",
       "text": [
        "Writing output into directory mnistv-rbm-500-pcd15-mbs0020-sr0.100-m0.00;0.00(00)-c0.0000-iws0.2734-ibs0.0000-0000000001\n"
       ]
      }
     ],
     "prompt_number": 50
    },
    {
     "cell_type": "heading",
     "level": 2,
     "metadata": {},
     "source": [
      "Train my RBM"
     ]
    },
    {
     "cell_type": "code",
     "collapsed": false,
     "input": [
      "common.show_progress = True\n",
      "myrbm = train_rbm(tcfg, print_cost=False)\n",
      "common.show_progress = False"
     ],
     "language": "python",
     "metadata": {},
     "outputs": [
      {
       "output_type": "stream",
       "stream": "stdout",
       "text": [
        "Epoch 00 completed\n",
        "Epoch 01 completed"
       ]
      },
      {
       "output_type": "stream",
       "stream": "stdout",
       "text": [
        "\n",
        "Epoch 02 completed"
       ]
      },
      {
       "output_type": "stream",
       "stream": "stdout",
       "text": [
        "\n",
        "Epoch 03 completed"
       ]
      },
      {
       "output_type": "stream",
       "stream": "stdout",
       "text": [
        "\n",
        "Epoch 04 completed"
       ]
      },
      {
       "output_type": "stream",
       "stream": "stdout",
       "text": [
        "\n",
        "Epoch 05 completed"
       ]
      },
      {
       "output_type": "stream",
       "stream": "stdout",
       "text": [
        "\n",
        "Epoch 06 completed"
       ]
      },
      {
       "output_type": "stream",
       "stream": "stdout",
       "text": [
        "\n",
        "Epoch 07 completed"
       ]
      },
      {
       "output_type": "stream",
       "stream": "stdout",
       "text": [
        "\n",
        "Epoch 08 completed"
       ]
      },
      {
       "output_type": "stream",
       "stream": "stdout",
       "text": [
        "\n",
        "Epoch 09 completed"
       ]
      },
      {
       "output_type": "stream",
       "stream": "stdout",
       "text": [
        "\n",
        "Epoch 10 completed"
       ]
      },
      {
       "output_type": "stream",
       "stream": "stdout",
       "text": [
        "\n",
        "Epoch 11 completed"
       ]
      },
      {
       "output_type": "stream",
       "stream": "stdout",
       "text": [
        "\n",
        "Epoch 12 completed"
       ]
      },
      {
       "output_type": "stream",
       "stream": "stdout",
       "text": [
        "\n",
        "Epoch 13 completed"
       ]
      },
      {
       "output_type": "stream",
       "stream": "stdout",
       "text": [
        "\n",
        "Epoch 14 completed"
       ]
      },
      {
       "output_type": "stream",
       "stream": "stdout",
       "text": [
        "\n",
        "Training took 730 s\n"
       ]
      }
     ],
     "prompt_number": 8
    },
    {
     "cell_type": "heading",
     "level": 2,
     "metadata": {},
     "source": [
      "Compare with Deep Learning RBM"
     ]
    },
    {
     "cell_type": "code",
     "collapsed": false,
     "input": [
      "epoch = tcfg.epochs - 1\n",
      "\n",
      "myrbm = RestrictedBoltzmannMachine(20, n_vis, n_hid, 0)\n",
      "rbm.util.load_parameters(myrbm, \"weights-%02i.npz\" % epoch)\n",
      "refrbm = RestrictedBoltzmannMachine(20, n_vis, n_hid, 0)\n",
      "rbm.util.load_parameters(refrbm, r\"c:\\local\\surban\\dev\\deeplearningtutorials\\code\\rbm_plots\\ref-weights-%02i.npz\" % epoch)"
     ],
     "language": "python",
     "metadata": {},
     "outputs": [
      {
       "output_type": "stream",
       "stream": "stdout",
       "text": [
        "Loading RBM parameters form file weights-14.npz\n",
        "Loading RBM parameters form file c:\\local\\surban\\dev\\deeplearningtutorials\\code\\rbm_plots\\ref-weights-14.npz"
       ]
      },
      {
       "output_type": "stream",
       "stream": "stdout",
       "text": [
        "\n"
       ]
      }
     ],
     "prompt_number": 51
    },
    {
     "cell_type": "code",
     "collapsed": false,
     "input": [
      "betas = np.concatenate((np.linspace(0.0, 0.5,   500, endpoint=False),\n",
      "                        np.linspace(0.5, 0.9,  4000, endpoint=False),\n",
      "                        np.linspace(0.9, 1.0, 10000)))\n",
      "\n",
      "for r in (myrbm, refrbm):\n",
      "    ais = AnnealedImportanceSampler(r)\n",
      "    ais.init_using_dataset(tcfg.X)\n",
      "    r.log_pf, r.log_pf_low, r.log_pf_high = ais.log_partition_function(betas=betas, ais_runs=100)"
     ],
     "language": "python",
     "metadata": {},
     "outputs": [
      {
       "output_type": "stream",
       "stream": "stdout",
       "text": [
        "AIS took 52 s\n",
        "AIS took 51 s"
       ]
      },
      {
       "output_type": "stream",
       "stream": "stdout",
       "text": [
        "\n"
       ]
      }
     ],
     "prompt_number": 29
    },
    {
     "cell_type": "code",
     "collapsed": false,
     "input": [
      "myrbm_ll = gp.mean(myrbm.normalized_log_p_vis(tcfg.X))\n",
      "refrbm_ll = gp.mean(refrbm.normalized_log_p_vis(tcfg.X))\n",
      "print \"myrbm:   <log P> = %g\" % myrbm_ll\n",
      "print \"refrbm:  <log P> = %g\" % refrbm_ll"
     ],
     "language": "python",
     "metadata": {},
     "outputs": [
      {
       "output_type": "stream",
       "stream": "stdout",
       "text": [
        "myrbm:   <log P> = -117.172\n",
        "refrbm:  <log P> = -117.176\n"
       ]
      }
     ],
     "prompt_number": 30
    },
    {
     "cell_type": "heading",
     "level": 2,
     "metadata": {},
     "source": [
      "Plot Samples"
     ]
    },
    {
     "cell_type": "code",
     "collapsed": false,
     "input": [
      "epoch = 14\n",
      "n_chains = 100\n",
      "init_number = 300\n",
      "init_vis = tcfg.TX[init_number:n_chains+init_number,:]\n",
      "steps_in_between = 1000"
     ],
     "language": "python",
     "metadata": {},
     "outputs": [],
     "prompt_number": 62
    },
    {
     "cell_type": "code",
     "collapsed": false,
     "input": [
      "myrbm = RestrictedBoltzmannMachine(20, n_vis, n_hid, 0)\n",
      "rbm.util.load_parameters(myrbm, \"weights-%02i.npz\" % epoch)\n",
      "refrbm = RestrictedBoltzmannMachine(20, n_vis, n_hid, 0)\n",
      "rbm.util.load_parameters(refrbm, r\"c:\\local\\surban\\dev\\deeplearningtutorials\\code\\rbm_plots\\ref-weights-%02i.npz\" % epoch)"
     ],
     "language": "python",
     "metadata": {},
     "outputs": [
      {
       "output_type": "stream",
       "stream": "stdout",
       "text": [
        "Loading RBM parameters form file weights-14.npz\n",
        "Loading RBM parameters form file c:\\local\\surban\\dev\\deeplearningtutorials\\code\\rbm_plots\\ref-weights-14.npz"
       ]
      },
      {
       "output_type": "stream",
       "stream": "stdout",
       "text": [
        "\n"
       ]
      }
     ],
     "prompt_number": 63
    },
    {
     "cell_type": "code",
     "collapsed": false,
     "input": [
      "mysamples = myrbm.sample_vis_3d(n_chains, 20, steps_in_between, sample_probabilities=True, init_vis=init_vis)"
     ],
     "language": "python",
     "metadata": {},
     "outputs": [],
     "prompt_number": 64
    },
    {
     "cell_type": "code",
     "collapsed": false,
     "input": [
      "print \"Mixing quality: %g\" % rbm.sampling.mixing_quality(mysamples)"
     ],
     "language": "python",
     "metadata": {},
     "outputs": [
      {
       "output_type": "stream",
       "stream": "stdout",
       "text": [
        "Mixing quality: 3.91796\n"
       ]
      }
     ],
     "prompt_number": 65
    },
    {
     "cell_type": "code",
     "collapsed": false,
     "input": [
      "#figsize(17,17)\n",
      "#myimg = rbm.util.plot_samples(init_vis, mysamples)\n",
      "#pylab.imshow(myimg, cmap='gray')"
     ],
     "language": "python",
     "metadata": {},
     "outputs": [],
     "prompt_number": 66
    },
    {
     "cell_type": "code",
     "collapsed": false,
     "input": [
      "refsamples = refrbm.sample_vis_3d(n_chains, 20, steps_in_between, sample_probabilities=True, init_vis=init_vis)"
     ],
     "language": "python",
     "metadata": {},
     "outputs": [],
     "prompt_number": 67
    },
    {
     "cell_type": "code",
     "collapsed": false,
     "input": [
      "print \"Mixing quality: %g\" % rbm.sampling.mixing_quality(refsamples)"
     ],
     "language": "python",
     "metadata": {},
     "outputs": [
      {
       "output_type": "stream",
       "stream": "stdout",
       "text": [
        "Mixing quality: 4.11506\n"
       ]
      }
     ],
     "prompt_number": 68
    },
    {
     "cell_type": "code",
     "collapsed": false,
     "input": [
      "#figsize(17,17)\n",
      "#refimg = rbm.util.plot_samples(init_vis, refsamples)\n",
      "#pylab.imshow(refimg, cmap='gray')"
     ],
     "language": "python",
     "metadata": {},
     "outputs": [],
     "prompt_number": 69
    },
    {
     "cell_type": "code",
     "collapsed": false,
     "input": [],
     "language": "python",
     "metadata": {},
     "outputs": []
    }
   ],
   "metadata": {}
  }
 ]
}