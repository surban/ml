{
 "metadata": {
  "name": "ShiftNet"
 },
 "nbformat": 3,
 "nbformat_minor": 0,
 "worksheets": [
  {
   "cells": [
    {
     "cell_type": "code",
     "collapsed": false,
     "input": [
      "%load_ext autoreload\n",
      "%autoreload 2\n",
      "\n",
      "import climin\n",
      "import numpy as np\n",
      "import theano\n",
      "import theano.tensor as T\n",
      "import breze.util\n",
      "\n",
      "import common.util\n",
      "from nn.shift import *\n",
      "from common.complex import *\n",
      "from common.util import floatx\n",
      "from math import floor\n",
      "\n",
      "theano.config.compute_test_value = 'ignore'\n",
      "np.set_printoptions(precision=3, suppress=True)"
     ],
     "language": "python",
     "metadata": {},
     "outputs": [
      {
       "output_type": "stream",
       "stream": "stdout",
       "text": [
        "gnumpy: failed to import cudamat. Using npmat instead. No GPU will be used.\n"
       ]
      }
     ],
     "prompt_number": 1
    },
    {
     "cell_type": "code",
     "collapsed": false,
     "input": [
      "# hyperparameters\n",
      "x_len = 5\n",
      "s_len = x_len\n",
      "n_samples = 10000"
     ],
     "language": "python",
     "metadata": {},
     "outputs": [],
     "prompt_number": 2
    },
    {
     "cell_type": "code",
     "collapsed": false,
     "input": [
      "# parameters\n",
      "ps = breze.util.ParameterSet(**FourierShiftNet.parameter_shapes(x_len, s_len))\n",
      "\n",
      "# inputs\n",
      "x = T.matrix('x')\n",
      "x.tag.test_value = np.random.random((x_len, n_samples))\n",
      "s = T.matrix('s')\n",
      "s.tag.test_value = np.random.random((s_len, n_samples))\n",
      "t = T.matrix('t')\n",
      "t.tag.test_value = np.random.random((x_len, n_samples))\n",
      "\n",
      "# functions\n",
      "fsn = FourierShiftNet(**ps.vars)\n",
      "f_output = theano.function(inputs=[ps.flat,x,s], outputs=fsn.output(x,s))\n",
      "\n",
      "loss = T.mean((fsn.output(x,s) - t)**2)\n",
      "f_loss = theano.function(inputs=[ps.flat,x,s,t], outputs=loss)\n",
      "f_dloss = theano.function(inputs=[ps.flat,x,s,t], outputs=T.grad(loss, ps.flat))"
     ],
     "language": "python",
     "metadata": {},
     "outputs": [],
     "prompt_number": 3
    },
    {
     "cell_type": "code",
     "collapsed": false,
     "input": [
      "# generate data\n",
      "trn_inputs, trn_shifts, trn_targets = generate_data(x_len, s_len, n_samples)\n",
      "val_inputs, val_shifts, val_targets = generate_data(x_len, s_len, n_samples)\n",
      "tst_inputs, tst_shifts, tst_targets = generate_data(x_len, s_len, n_samples)"
     ],
     "language": "python",
     "metadata": {},
     "outputs": [],
     "prompt_number": 9
    },
    {
     "cell_type": "heading",
     "level": 3,
     "metadata": {},
     "source": [
      "Optimal solution"
     ]
    },
    {
     "cell_type": "code",
     "collapsed": false,
     "input": [
      "ps['x_to_xhat_re'][:], ps['x_to_xhat_im'][:], \\\n",
      "ps['s_to_shat_re'][:], ps['s_to_shat_im'][:], \\\n",
      "ps['Xhat_to_Yhat_re'][:], ps['Xhat_to_Yhat_im'][:], \\\n",
      "ps['Shat_to_Yhat_re'][:], ps['Shat_to_Yhat_im'][:], \\\n",
      "ps['yhat_to_y_re'][:], ps['yhat_to_y_im'][:] = fsn.optimal_weights(x_len, s_len)"
     ],
     "language": "python",
     "metadata": {},
     "outputs": [],
     "prompt_number": 10
    },
    {
     "cell_type": "code",
     "collapsed": false,
     "input": [
      "# check Fourier transformation\n",
      "print np_cdot(ps['yhat_to_y_re'], ps['yhat_to_y_im'], ps['x_to_xhat_re'], ps['x_to_xhat_im'])\n",
      "print np_cdot(ps['yhat_to_y_re'], ps['yhat_to_y_im'], ps['s_to_shat_re'], ps['s_to_shat_im'])"
     ],
     "language": "python",
     "metadata": {},
     "outputs": [
      {
       "output_type": "stream",
       "stream": "stdout",
       "text": [
        "(array([[ 1., -0., -0.,  0.,  0.],\n",
        "       [-0.,  1., -0.,  0.,  0.],\n",
        "       [-0., -0.,  1., -0., -0.],\n",
        "       [ 0.,  0., -0.,  1., -0.],\n",
        "       [ 0.,  0., -0., -0.,  1.]]), array([[ 0.,  0., -0., -0., -0.],\n",
        "       [ 0.,  0., -0., -0., -0.],\n",
        "       [ 0.,  0.,  0., -0., -0.],\n",
        "       [ 0.,  0.,  0., -0., -0.],\n",
        "       [ 0.,  0.,  0., -0.,  0.]]))\n",
        "(array([[ 1., -0., -0.,  0.,  0.],\n",
        "       [-0.,  1., -0.,  0.,  0.],\n",
        "       [-0., -0.,  1., -0., -0.],\n",
        "       [ 0.,  0., -0.,  1., -0.],\n",
        "       [ 0.,  0., -0., -0.,  1.]]), array([[ 0.,  0., -0., -0., -0.],\n",
        "       [ 0.,  0., -0., -0., -0.],\n",
        "       [ 0.,  0.,  0., -0., -0.],\n",
        "       [ 0.,  0.,  0., -0., -0.],\n",
        "       [ 0.,  0.,  0., -0.,  0.]]))"
       ]
      },
      {
       "output_type": "stream",
       "stream": "stdout",
       "text": [
        "\n"
       ]
      }
     ],
     "prompt_number": 11
    },
    {
     "cell_type": "code",
     "collapsed": false,
     "input": [
      "# check multiplication\n",
      "xhat_re = T.matrix('xhat_re')\n",
      "xhat_im = T.matrix('xhat_im')\n",
      "shat_re = T.matrix('shat_re')\n",
      "shat_im = T.matrix('shat_im')\n",
      "f_mul_test = theano.function(inputs=[ps.flat, xhat_re, xhat_im, shat_re, shat_im], outputs=fsn.mult_test(xhat_re, xhat_im, shat_re, shat_im))\n",
      "xhat_re_n = np.arange(5)[:,np.newaxis] + 1\n",
      "xhat_im_n = np.zeros_like(xhat_re_n) + 1\n",
      "shat_re_n = np.zeros_like(xhat_re_n) \n",
      "shat_im_n = np.ones_like(shat_re_n)\n",
      "f_mul_test(ps.data, xhat_re_n, xhat_im_n, shat_re_n, shat_im_n)"
     ],
     "language": "python",
     "metadata": {},
     "outputs": [
      {
       "output_type": "pyout",
       "prompt_number": 12,
       "text": [
        "[array([[-1.],\n",
        "       [-1.],\n",
        "       [-1.],\n",
        "       [-1.],\n",
        "       [-1.]]),\n",
        " array([[ 1.],\n",
        "       [ 2.],\n",
        "       [ 3.],\n",
        "       [ 4.],\n",
        "       [ 5.]])]"
       ]
      }
     ],
     "prompt_number": 12
    },
    {
     "cell_type": "code",
     "collapsed": false,
     "input": [
      "# check output \n",
      "x_n = np.arange(5)[:,np.newaxis] + 1\n",
      "s_n = np.zeros_like(x_n)\n",
      "s_n[1,0] = 1;\n",
      "print s_n\n",
      "\n",
      "print f_output(ps.data, x_n, s_n)"
     ],
     "language": "python",
     "metadata": {},
     "outputs": [
      {
       "output_type": "stream",
       "stream": "stdout",
       "text": [
        "[[0]\n",
        " [1]\n",
        " [0]\n",
        " [0]\n",
        " [0]]\n",
        "[[ 5.]\n",
        " [ 1.]\n",
        " [ 2.]\n",
        " [ 3.]\n",
        " [ 4.]]"
       ]
      },
      {
       "output_type": "stream",
       "stream": "stdout",
       "text": [
        "\n"
       ]
      }
     ],
     "prompt_number": 14
    },
    {
     "cell_type": "code",
     "collapsed": false,
     "input": [
      "# check loss\n",
      "f_loss(ps.data, trn_inputs, trn_shifts, trn_targets)"
     ],
     "language": "python",
     "metadata": {},
     "outputs": [
      {
       "output_type": "pyout",
       "prompt_number": 16,
       "text": [
        "array(4.699465085040821e-33)"
       ]
      }
     ],
     "prompt_number": 16
    },
    {
     "cell_type": "heading",
     "level": 3,
     "metadata": {},
     "source": [
      "Training "
     ]
    },
    {
     "cell_type": "code",
     "collapsed": false,
     "input": [
      "ps.data[:] = np.random.random(ps.data.shape) - 0.5\n",
      "his = common.util.ParameterHistory(max_missed_val_improvements=10)\n",
      "\n",
      "f_trn_loss = lambda p: f_loss(p, trn_inputs, trn_shifts, trn_targets)\n",
      "f_trn_dloss = lambda p: f_dloss(p, trn_inputs, trn_shifts, trn_targets)\n",
      "\n",
      "# optimizer\n",
      "#opt = climin.Lbfgs(ps.data, f_RL, f_dRL)\n",
      "opt = climin.Rprop(ps.data, f_trn_loss, f_trn_dloss)\n",
      "#opt = climin.GradientDescent(ps.data, f_trn_dloss, steprate=0.0001)\n",
      "\n",
      "for iter, sts in enumerate(opt):\n",
      "    if iter % 10 == 0:\n",
      "        trn_loss = f_loss(ps.data, trn_inputs, trn_shifts, trn_targets)\n",
      "        val_loss = f_loss(ps.data, val_inputs, val_shifts, val_targets)\n",
      "        tst_loss = f_loss(ps.data, tst_inputs, tst_shifts, tst_targets)\n",
      "        \n",
      "        his.add(iter, ps.data, trn_loss, val_loss, tst_loss)\n",
      "        if his.should_terminate:\n",
      "            break\n",
      "           \n",
      "            \n",
      "ps.data[:] = his.best_pars\n",
      "his.plot()"
     ],
     "language": "python",
     "metadata": {},
     "outputs": [
      {
       "html": [
        "<pre>3560: training:   0.00000  validation:   0.00000 (best:   0.00000)  test:   0.00000"
       ],
       "output_type": "display_data"
      },
      {
       "output_type": "stream",
       "stream": "stdout",
       "text": [
        "best iteration:  3450  best validation test loss:   0.00000  best test loss:   0.00000\n"
       ]
      },
      {
       "output_type": "display_data",
       "png": "[encoded data removed]"
      }
     ],
     "prompt_number": 18
    },
    {
     "cell_type": "code",
     "collapsed": false,
     "input": [
      "# check with simple patterns\n",
      "sim_inputs, sim_shifts, sim_targets = generate_data(x_len, s_len, 3, binary=True)\n",
      "sim_results = f_output(ps.data, sim_inputs, sim_shifts)\n",
      "\n",
      "print \"input:   \"\n",
      "print sim_inputs\n",
      "print \"shift:   \"\n",
      "print sim_shifts\n",
      "print \"targets: \"\n",
      "print sim_targets\n",
      "print \"results: \"\n",
      "print sim_results"
     ],
     "language": "python",
     "metadata": {},
     "outputs": [
      {
       "output_type": "stream",
       "stream": "stdout",
       "text": [
        "input:   \n",
        "[[ 1.  1.  1.]\n",
        " [ 1.  1.  0.]\n",
        " [ 0.  1.  0.]\n",
        " [ 1.  1.  0.]\n",
        " [ 0.  1.  0.]]"
       ]
      },
      {
       "output_type": "stream",
       "stream": "stdout",
       "text": [
        "\n",
        "shift:   "
       ]
      },
      {
       "output_type": "stream",
       "stream": "stdout",
       "text": [
        "\n",
        "[[ 0.  0.  0.]\n",
        " [ 0.  0.  0.]\n",
        " [ 1.  0.  0.]\n",
        " [ 0.  0.  0.]\n",
        " [ 0.  1.  1.]]"
       ]
      }
     ],
     "prompt_number": "*"
    },
    {
     "cell_type": "code",
     "collapsed": false,
     "input": [],
     "language": "python",
     "metadata": {},
     "outputs": []
    }
   ],
   "metadata": {}
  }
 ]
}