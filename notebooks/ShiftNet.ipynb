{
 "metadata": {
  "name": "ShiftNet"
 },
 "nbformat": 3,
 "nbformat_minor": 0,
 "worksheets": [
  {
   "cells": [
    {
     "cell_type": "code",
     "collapsed": false,
     "input": [
      "%load_ext autoreload\n",
      "%autoreload 2\n",
      "\n",
      "import climin\n",
      "import numpy as np\n",
      "import theano\n",
      "import theano.tensor as T\n",
      "import breze.util\n",
      "\n",
      "import common.util\n",
      "from nn.shift import *\n",
      "from common.util import floatx\n",
      "from math import floor\n",
      "\n",
      "theano.config.compute_test_value = 'raise'"
     ],
     "language": "python",
     "metadata": {},
     "outputs": [
      {
       "output_type": "stream",
       "stream": "stdout",
       "text": [
        "gnumpy: failed to import cudamat. Using npmat instead. No GPU will be used.\n"
       ]
      }
     ],
     "prompt_number": 1
    },
    {
     "cell_type": "code",
     "collapsed": false,
     "input": [
      "# hyperparameters\n",
      "x_len = 5\n",
      "s_len = x_len\n",
      "n_samples = 10000"
     ],
     "language": "python",
     "metadata": {},
     "outputs": [],
     "prompt_number": 2
    },
    {
     "cell_type": "code",
     "collapsed": false,
     "input": [
      "# parameters\n",
      "ps = breze.util.ParameterSet(**FourierShiftNet.parameter_shapes(x_len, s_len))\n",
      "\n",
      "# inputs\n",
      "x = T.matrix('x')\n",
      "x.tag.test_value = np.random.random((x_len, n_samples))\n",
      "s = T.matrix('s')\n",
      "s.tag.test_value = np.random.random((s_len, n_samples))\n",
      "t = T.matrix('t')\n",
      "t.tag.test_value = np.random.random((x_len, n_samples))\n",
      "\n",
      "# functions\n",
      "fsn = FourierShiftNet(**ps.vars)\n",
      "f_output = theano.function(inputs=[ps.flat,x,s], outputs=fsn.output(x,s))\n",
      "\n",
      "loss = T.mean((fsn.output(x,s) - t)**2)\n",
      "f_loss = theano.function(inputs=[ps.flat,x,s,t], outputs=loss)\n",
      "f_dloss = theano.function(inputs=[ps.flat,x,s,t], outputs=T.grad(loss, ps.flat))"
     ],
     "language": "python",
     "metadata": {},
     "outputs": [],
     "prompt_number": 3
    },
    {
     "cell_type": "code",
     "collapsed": false,
     "input": [
      "# generate data\n",
      "trn_inputs, trn_shifts, trn_targets = generate_data(x_len, s_len, n_samples)\n",
      "val_inputs, val_shifts, val_targets = generate_data(x_len, s_len, n_samples)\n",
      "tst_inputs, tst_shifts, tst_targets = generate_data(x_len, s_len, n_samples)"
     ],
     "language": "python",
     "metadata": {},
     "outputs": [],
     "prompt_number": 4
    },
    {
     "cell_type": "heading",
     "level": 3,
     "metadata": {},
     "source": [
      "Optimal solution"
     ]
    },
    {
     "cell_type": "code",
     "collapsed": false,
     "input": [
      "ps['x_to_xhat_re'][:], ps['x_to_xhat_im'][:], \\\n",
      "ps['s_to_shat_re'][:], ps['s_to_shat_im'][:], \\\n",
      "ps['Xhat_to_Yhat_re'][:], ps['Xhat_to_Yhat_im'][:], \\\n",
      "ps['Shat_to_Yhat_re'][:], ps['Shat_to_Yhat_im'][:], \\\n",
      "ps['yhat_to_y_re'][:], ps['yhat_to_y_im'][:] = fsn.optimal_weights(x_len, s_len)"
     ],
     "language": "python",
     "metadata": {},
     "outputs": [],
     "prompt_number": 23
    },
    {
     "cell_type": "code",
     "collapsed": false,
     "input": [
      "f_loss(ps.data, tst_inputs, tst_shifts, tst_targets)"
     ],
     "language": "python",
     "metadata": {},
     "outputs": [
      {
       "output_type": "pyout",
       "prompt_number": 24,
       "text": [
        "array(0.16476876513743852)"
       ]
      }
     ],
     "prompt_number": 24
    },
    {
     "cell_type": "code",
     "collapsed": false,
     "input": [
      "ps['s_to_shat_im']"
     ],
     "language": "python",
     "metadata": {},
     "outputs": [
      {
       "output_type": "pyout",
       "prompt_number": 22,
       "text": [
        "array([[ 0.        ,  0.        ,  0.        ,  0.        ,  0.        ],\n",
        "       [ 0.        , -0.95105652, -0.58778525,  0.58778525,  0.95105652],\n",
        "       [ 0.        , -0.58778525,  0.95105652, -0.95105652,  0.58778525],\n",
        "       [ 0.        ,  0.58778525, -0.95105652,  0.95105652, -0.58778525],\n",
        "       [ 0.        ,  0.95105652,  0.58778525, -0.58778525, -0.95105652]])"
       ]
      }
     ],
     "prompt_number": 22
    },
    {
     "cell_type": "code",
     "collapsed": false,
     "input": [
      "fsn.optimal_weights(x_len, s_len)[2]"
     ],
     "language": "python",
     "metadata": {},
     "outputs": [
      {
       "output_type": "pyout",
       "prompt_number": 18,
       "text": [
        "array([[ 1.        ,  1.        ,  1.        ,  1.        ,  1.        ],\n",
        "       [ 1.        ,  0.30901699, -0.80901699, -0.80901699,  0.30901699],\n",
        "       [ 1.        , -0.80901699,  0.30901699,  0.30901699, -0.80901699],\n",
        "       [ 1.        , -0.80901699,  0.30901699,  0.30901699, -0.80901699],\n",
        "       [ 1.        ,  0.30901699, -0.80901699, -0.80901699,  0.30901699]])"
       ]
      }
     ],
     "prompt_number": 18
    },
    {
     "cell_type": "heading",
     "level": 3,
     "metadata": {},
     "source": [
      "Training "
     ]
    },
    {
     "cell_type": "code",
     "collapsed": false,
     "input": [
      "ps.data[:] = np.random.random(ps.data.shape) - 0.5\n",
      "his = common.util.ParameterHistory(max_missed_val_improvements=100)\n",
      "\n",
      "f_trn_loss = lambda p: f_loss(p, trn_inputs, trn_shifts, trn_targets)\n",
      "f_trn_dloss = lambda p: f_dloss(p, trn_inputs, trn_shifts, trn_targets)\n",
      "\n",
      "# optimizer\n",
      "#opt = climin.Lbfgs(ps.data, f_RL, f_dRL)\n",
      "opt = climin.Rprop(ps.data, f_trn_loss, f_trn_dloss)\n",
      "#opt = climin.GradientDescent(ps.data, f_trn_dloss, steprate=0.0001)\n",
      "\n",
      "for iter, sts in enumerate(opt):\n",
      "    if iter % 10 == 0:\n",
      "        trn_loss = f_loss(ps.data, trn_inputs, trn_shifts, trn_targets)\n",
      "        val_loss = f_loss(ps.data, val_inputs, val_shifts, val_targets)\n",
      "        tst_loss = f_loss(ps.data, tst_inputs, tst_shifts, tst_targets)\n",
      "        \n",
      "        his.add(iter, ps.data, trn_loss, val_loss, tst_loss)\n",
      "        if his.should_terminate:\n",
      "            break\n",
      "           \n",
      "            \n",
      "ps.data[:] = his.best_pars\n",
      "his.plot()"
     ],
     "language": "python",
     "metadata": {},
     "outputs": [
      {
       "html": [
        "<pre>2140: training:   0.04101  validation:   0.04099 (best:   0.04081)  test:   0.04144"
       ],
       "output_type": "display_data"
      },
      {
       "output_type": "stream",
       "stream": "stdout",
       "text": [
        "best iteration:  1130  best validation test loss:   0.04081  best test loss:   0.04128\n"
       ]
      },
      {
       "output_type": "display_data",
       "png": "[encoded data removed]"
      }
     ],
     "prompt_number": 6
    },
    {
     "cell_type": "code",
     "collapsed": false,
     "input": [
      "# check with simple patterns\n",
      "sim_inputs, sim_shifts, sim_targets = generate_data(x_len, s_len, 3, binary=True)\n",
      "sim_results = f_output(ps.data, sim_inputs, sim_shifts)"
     ],
     "language": "python",
     "metadata": {},
     "outputs": [],
     "prompt_number": 7
    },
    {
     "cell_type": "code",
     "collapsed": false,
     "input": [
      "sim_inputs"
     ],
     "language": "python",
     "metadata": {},
     "outputs": [
      {
       "output_type": "pyout",
       "prompt_number": 8,
       "text": [
        "array([[ 1.,  0.,  1.],\n",
        "       [ 0.,  1.,  1.],\n",
        "       [ 0.,  1.,  1.],\n",
        "       [ 1.,  1.,  1.],\n",
        "       [ 0.,  1.,  1.]])"
       ]
      }
     ],
     "prompt_number": 8
    },
    {
     "cell_type": "code",
     "collapsed": false,
     "input": [
      "sim_shifts"
     ],
     "language": "python",
     "metadata": {},
     "outputs": [
      {
       "output_type": "pyout",
       "prompt_number": 9,
       "text": [
        "array([[ 0.,  1.,  0.],\n",
        "       [ 1.,  0.,  0.],\n",
        "       [ 0.,  0.,  0.],\n",
        "       [ 0.,  0.,  1.],\n",
        "       [ 0.,  0.,  0.]])"
       ]
      }
     ],
     "prompt_number": 9
    },
    {
     "cell_type": "code",
     "collapsed": false,
     "input": [
      "sim_targets"
     ],
     "language": "python",
     "metadata": {},
     "outputs": [
      {
       "output_type": "pyout",
       "prompt_number": 10,
       "text": [
        "array([[ 1.,  1.,  1.],\n",
        "       [ 0.,  0.,  1.],\n",
        "       [ 1.,  1.,  1.],\n",
        "       [ 0.,  1.,  1.],\n",
        "       [ 0.,  1.,  1.]])"
       ]
      }
     ],
     "prompt_number": 10
    },
    {
     "cell_type": "code",
     "collapsed": false,
     "input": [
      "np.round(sim_results)"
     ],
     "language": "python",
     "metadata": {},
     "outputs": [
      {
       "output_type": "pyout",
       "prompt_number": 11,
       "text": [
        "array([[ 1.,  1.,  1.],\n",
        "       [ 0.,  0.,  1.],\n",
        "       [ 1.,  1.,  1.],\n",
        "       [ 0.,  0.,  1.],\n",
        "       [ 0.,  1.,  1.]])"
       ]
      }
     ],
     "prompt_number": 11
    },
    {
     "cell_type": "code",
     "collapsed": false,
     "input": [],
     "language": "python",
     "metadata": {},
     "outputs": []
    }
   ],
   "metadata": {}
  }
 ]
}