{
 "metadata": {
  "name": "ShiftNet"
 },
 "nbformat": 3,
 "nbformat_minor": 0,
 "worksheets": [
  {
   "cells": [
    {
     "cell_type": "code",
     "collapsed": false,
     "input": [
      "%load_ext autoreload\n",
      "%autoreload 2\n",
      "\n",
      "import climin\n",
      "import numpy as np\n",
      "import theano\n",
      "import theano.tensor as T\n",
      "import breze.util\n",
      "\n",
      "import common.util\n",
      "from nn.shift import *\n",
      "from common.util import floatx\n",
      "from math import floor\n",
      "\n",
      "theano.config.compute_test_value = 'raise'"
     ],
     "language": "python",
     "metadata": {},
     "outputs": [],
     "prompt_number": 4
    },
    {
     "cell_type": "code",
     "collapsed": false,
     "input": [
      "# hyperparameters\n",
      "x_len = 10\n",
      "max_shift = 3\n",
      "n_samples = 10000"
     ],
     "language": "python",
     "metadata": {},
     "outputs": [],
     "prompt_number": 5
    },
    {
     "cell_type": "code",
     "collapsed": false,
     "input": [
      "# parameters\n",
      "ps = breze.util.ParameterSet(**FourierShiftNet.parameter_shapes(x_len, max_shift))\n",
      "\n",
      "# inputs\n",
      "x = T.matrix('x')\n",
      "x.tag.test_value = np.random.random((x_len, n_samples))\n",
      "s = T.matrix('s')\n",
      "s.tag.test_value = np.random.random((max_shift+1, n_samples))\n",
      "t = T.matrix('t')\n",
      "t.tag.test_value = np.random.random((x_len, n_samples))\n",
      "\n",
      "# functions\n",
      "fsn = FourierShiftNet(**ps.vars)\n",
      "f_output = theano.function(inputs=[ps.flat,x,s], outputs=fsn.output(x,s))\n",
      "\n",
      "loss = T.mean((fsn.output(x,s) - t)**2)\n",
      "f_loss = theano.function(inputs=[ps.flat,x,s,t], outputs=loss)\n",
      "f_dloss = theano.function(inputs=[ps.flat,x,s,t], outputs=T.grad(loss, ps.flat))"
     ],
     "language": "python",
     "metadata": {},
     "outputs": [],
     "prompt_number": 6
    },
    {
     "cell_type": "code",
     "collapsed": false,
     "input": [
      "# generate data\n",
      "trn_inputs, trn_shifts, trn_targets = generate_data(x_len, max_shift, n_samples)\n",
      "val_inputs, val_shifts, val_targets = generate_data(x_len, max_shift, n_samples)\n",
      "tst_inputs, tst_shifts, tst_targets = generate_data(x_len, max_shift, n_samples)"
     ],
     "language": "python",
     "metadata": {},
     "outputs": [],
     "prompt_number": 7
    },
    {
     "cell_type": "code",
     "collapsed": false,
     "input": [
      "ps.data[:] = np.random.random(ps.data.shape) - 0.5\n",
      "his = common.util.ParameterHistory(max_missed_val_improvements=100)\n",
      "\n",
      "f_trn_loss = lambda p: f_loss(p, trn_inputs, trn_shifts, trn_targets)\n",
      "f_trn_dloss = lambda p: f_dloss(p, trn_inputs, trn_shifts, trn_targets)\n",
      "\n",
      "# optimizer\n",
      "#opt = climin.Lbfgs(ps.data, f_RL, f_dRL)\n",
      "opt = climin.Rprop(ps.data, f_trn_loss, f_trn_dloss)\n",
      "#opt = climin.GradientDescent(ps.data, f_dRL, steprate=0.0001)\n",
      "\n",
      "for iter, sts in enumerate(opt):\n",
      "    if iter % 10 == 0:\n",
      "        trn_loss = f_loss(ps.data, trn_inputs, trn_shifts, trn_targets)\n",
      "        val_loss = f_loss(ps.data, val_inputs, val_shifts, val_targets)\n",
      "        tst_loss = f_loss(ps.data, tst_inputs, tst_shifts, tst_targets)\n",
      "        \n",
      "        his.add(iter, ps.data, trn_loss, val_loss, tst_loss)\n",
      "        if his.should_terminate:\n",
      "            break\n",
      "           \n",
      "            \n",
      "ps.data[:] = his.best_pars\n",
      "his.plot()"
     ],
     "language": "python",
     "metadata": {},
     "outputs": [
      {
       "html": [
        "<pre>580: training:   0.02957  validation:   0.03069 (best:   0.03069)  test:   0.03050"
       ],
       "output_type": "display_data"
      }
     ],
     "prompt_number": "*"
    },
    {
     "cell_type": "code",
     "collapsed": false,
     "input": [],
     "language": "python",
     "metadata": {},
     "outputs": []
    }
   ],
   "metadata": {}
  }
 ]
}