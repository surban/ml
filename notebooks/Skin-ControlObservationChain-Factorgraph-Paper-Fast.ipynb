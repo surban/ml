{
 "metadata": {
  "name": "",
  "signature": "sha256:fba7c0790c31646a9b27c256f5f3989c4165f0331b2866f63fcafab763c88785"
 },
 "nbformat": 3,
 "nbformat_minor": 0,
 "worksheets": [
  {
   "cells": [
    {
     "cell_type": "code",
     "collapsed": false,
     "input": [
      "%load_ext autoreload\n",
      "%autoreload 2\n",
      "\n",
      "import numpy as np\n",
      "import matplotlib.pyplot as plt\n",
      "import GPy as gpy\n",
      "import logging\n",
      "\n",
      "import ml.apps.skin.timeseries\n",
      "from ml.apps.skin.timeseries import *\n",
      "from ml.apps.skin.workingset import *\n",
      "from ml.simple.conditional_chain import *\n",
      "from ml.datasets.skin import SkinDataset\n",
      "\n",
      "ml.apps.skin.timeseries.max_force = 10"
     ],
     "language": "python",
     "metadata": {},
     "outputs": [
      {
       "output_type": "stream",
       "stream": "stdout",
       "text": [
        "common.gpu uses GPU:  False\n"
       ]
      }
     ],
     "prompt_number": 1
    },
    {
     "cell_type": "heading",
     "level": 2,
     "metadata": {},
     "source": [
      "Dataset and features selection"
     ]
    },
    {
     "cell_type": "code",
     "collapsed": false,
     "input": [
      "def select_features(ws, skin):    \n",
      "    return ws.select_frequencies([794328, 2511886], skin)\n",
      "\n",
      "force_min = -0.2\n",
      "force_max = 10.0\n",
      "\n",
      "ws_random_bidir = SkinWorkingset(\"mf_random_bidir_200\", taxel=(0,6), force_min=force_min, force_max=force_max)\n",
      "ws_hysteresis_100 = SkinWorkingset(\"mf_hysteresis_100\", taxel=(0,6), force_min=force_min, force_max=force_max)"
     ],
     "language": "python",
     "metadata": {},
     "outputs": [
      {
       "output_type": "stream",
       "stream": "stdout",
       "text": [
        "Dataset \\\\brml.tum.de\\dfs\\nthome\\surban\\dev\\indentor\\indentor\\apps\\out\\mf_random_bidir_200.skn:\n",
        "     taxel          train   validation   test\n",
        "     0,6            160      20           20\n",
        "Avg. datapoints per record: 17\n",
        "Sampling interval:          0.625 s\n",
        "Stimulus frequencies:       \n",
        "[    0.      794.328  2511.886] kHz\n",
        "\n",
        "Using taxel  (0, 6)\n",
        "\n",
        "trn: curves:             160"
       ]
      },
      {
       "output_type": "stream",
       "stream": "stdout",
       "text": [
        "\n",
        "val: curves:             20\n",
        "tst: curves:             20\n",
        "\n",
        "total # of curves:  160 / 20 / 20\n",
        "minimum force:   -0.200000\n",
        "maximum force:   10.000000\n",
        "minimum skin:    -1.670744\n",
        "maximum skin:    4.812353\n",
        "\n",
        "force step:   0.102000\n",
        "skin step:    0.064831\n",
        "\n",
        "Dataset \\\\brml.tum.de\\dfs\\nthome\\surban\\dev\\indentor\\indentor\\apps\\out\\mf_hysteresis_100.skn:\n",
        "     taxel          train   validation   test\n",
        "     0,6             80      10           10\n",
        "Avg. datapoints per record: 37\n",
        "Sampling interval:          1 s\n",
        "Stimulus frequencies:       \n",
        "[    0.      794.328  2511.886] kHz\n",
        "\n",
        "Using taxel  (0, 6)\n",
        "\n",
        "trn: curves:             80"
       ]
      },
      {
       "output_type": "stream",
       "stream": "stdout",
       "text": [
        "\n",
        "val: curves:             10\n",
        "tst: curves:             10\n",
        "\n",
        "total # of curves:  80 / 10 / 10\n",
        "minimum force:   -0.200000\n",
        "maximum force:   10.000000\n",
        "minimum skin:    -1.670612\n",
        "maximum skin:    4.812298\n",
        "\n",
        "force step:   0.102000\n",
        "skin step:    0.064829\n",
        "\n"
       ]
      }
     ],
     "prompt_number": 2
    },
    {
     "cell_type": "heading",
     "level": 2,
     "metadata": {},
     "source": [
      "Model creation"
     ]
    },
    {
     "cell_type": "code",
     "collapsed": false,
     "input": [
      "ws_base = ws_hysteresis_100\n",
      "base_obs = select_features(ws_base, ws_base.skin['trn'])\n",
      "n_features = base_obs.shape[0]\n",
      "\n",
      "sc = ControlObservationChain(ws_base.discrete_force_states, ws_base.discrete_force_states)"
     ],
     "language": "python",
     "metadata": {},
     "outputs": [],
     "prompt_number": 3
    },
    {
     "cell_type": "heading",
     "level": 2,
     "metadata": {},
     "source": [
      "Training of observation -> state model"
     ]
    },
    {
     "cell_type": "code",
     "collapsed": false,
     "input": [
      "# select training curves\n",
      "ws_obs_trn = ws_hysteresis_100\n",
      "n_trn_points = 10\n",
      "\n",
      "states = ws_obs_trn.discrete_force['trn']\n",
      "observations = select_features(ws_obs_trn, ws_obs_trn.skin['trn'])\n",
      "valid = ws_obs_trn.valid['trn']\n",
      "\n",
      "print \"available training points: \", states.shape[1]\n",
      "if n_trn_points < states.shape[1]:\n",
      "    np.random.seed(100)\n",
      "    selector = np.random.choice(states.shape[1], n_trn_points, replace=False)\n",
      "    states = states[..., selector]\n",
      "    observations = observations[..., selector]\n",
      "    valid = valid[..., selector]\n",
      "print \"used training points:      \", states.shape[1]"
     ],
     "language": "python",
     "metadata": {},
     "outputs": [
      {
       "output_type": "stream",
       "stream": "stdout",
       "text": [
        "available training points:  80\n",
        "used training points:       10\n"
       ]
      }
     ],
     "prompt_number": 4
    },
    {
     "cell_type": "code",
     "collapsed": false,
     "input": [
      "plt_smpl = 0\n",
      "figsize(8,4)\n",
      "plt.plot(ws_base.from_discrete_force(states[:, plt_smpl]), 'k-', label=\"force\")\n",
      "for f in range(observations.shape[0]):\n",
      "    plt.plot(10 * observations[f, :, plt_smpl], 'x', label=str(f))\n",
      "plt.legend()"
     ],
     "language": "python",
     "metadata": {},
     "outputs": [
      {
       "metadata": {},
       "output_type": "pyout",
       "prompt_number": 5,
       "text": [
        "<matplotlib.legend.Legend at 0x18c17828>"
       ]
      },
      {
       "metadata": {},
       "output_type": "display_data",
       "png": "[encoded data removed]",
       "text": [
        "<matplotlib.figure.Figure at 0x189bc390>"
       ]
      }
     ]
    },
    {
     "cell_type": "code",
     "collapsed": false,
     "input": [
      "# train\n",
      "sc.train_observations(states, observations, valid,                      \n",
      "                      kernel=lambda: gpy.kern.rbf(n_features),\n",
      "                      optimize_restarts=10)  \n",
      "print sc.gp_states_given_observations"
     ],
     "language": "python",
     "metadata": {},
     "outputs": [
      {
       "output_type": "stream",
       "stream": "stdout",
       "text": [
        "Training on 374 points with 2 input dimensions...\n",
        "Optimization restart 1/10, f = 65.3138290888"
       ]
      },
      {
       "output_type": "stream",
       "stream": "stdout",
       "text": [
        "\n",
        "Optimization restart 2/10, f = 35.0583631916"
       ]
      },
      {
       "output_type": "stream",
       "stream": "stdout",
       "text": [
        "\n",
        "Optimization restart 3/10, f = 87.5164399582"
       ]
      },
      {
       "output_type": "stream",
       "stream": "stdout",
       "text": [
        "\n",
        "Optimization restart 4/10, f = 81.1013471456"
       ]
      }
     ]
    },
    {
     "cell_type": "heading",
     "level": 4,
     "metadata": {},
     "source": [
      "Evaluation"
     ]
    },
    {
     "cell_type": "code",
     "collapsed": false,
     "input": [
      "def evaluate_on_ws(sc, ws, prt, phase=False, n_plot_samples=12, skin_feature=None):\n",
      "    max_force = 10\n",
      "    max_skin = 2\n",
      "\n",
      "    force = ws.force[prt]\n",
      "    skin = select_features(ws, ws.skin[prt])\n",
      "    valid = ws.valid[prt]\n",
      "\n",
      "    p_force_discr, p_force_conf_discr = iterate_over_samples(sc.infer_states, valid, skin, show_progress=False)\n",
      "    p_force = ws.from_discrete_force(p_force_discr)\n",
      "    p_force_conf = p_force_conf_discr * ws.force_step\n",
      "    print \"RMSE: \", sqrt(multistep_error(p_force, force, valid, mean_err=True))\n",
      "        \n",
      "    plot_mc(valid, force, ymax=max_force, ylabel=\"force [N]\", color='k', n_plot_samples=n_plot_samples)    \n",
      "\n",
      "    if not phase:\n",
      "        conf = p_force_conf\n",
      "    plot_mc(valid, p_force, 3*conf, color='r', n_plot_samples=n_plot_samples)\n",
      "    \n",
      "    if skin_feature is not None:\n",
      "        plot_mc(valid, skin[skin_feature, ...], \n",
      "                ymax=max_skin, side='right', ylabel=\"skin [V]\", color='b', y_tick_color='b', n_plot_samples=n_plot_samples)    "
     ],
     "language": "python",
     "metadata": {},
     "outputs": []
    },
    {
     "cell_type": "code",
     "collapsed": false,
     "input": [
      "figsize(16, 8)\n",
      "evaluate_on_ws(sc, ws_obs_trn, 'tst', n_plot_samples=30)"
     ],
     "language": "python",
     "metadata": {},
     "outputs": []
    },
    {
     "cell_type": "code",
     "collapsed": false,
     "input": [
      "figsize(6./2.54, 4./2.54)\n",
      "matplotlib.rcParams.update({'font.size': 7})\n",
      "\n",
      "max_force = 10\n",
      "max_skin = 2\n",
      "\n",
      "force = ws_obs_trn.force['tst'][:, 6:7]\n",
      "skin = select_features(ws_obs_trn, ws_obs_trn.skin['tst'][..., 6:7])\n",
      "valid = ws_obs_trn.valid['tst'][:, 6:7]\n",
      "\n",
      "p_force_discr, p_force_conf_discr = iterate_over_samples(sc.infer_states, valid, skin, show_progress=False)\n",
      "p_force = ws_obs_trn.from_discrete_force(p_force_discr)\n",
      "p_force_conf = p_force_conf_discr * ws_obs_trn.force_step\n",
      "print \"RMSE: \", sqrt(multistep_error(p_force, force, valid, mean_err=True))\n",
      "\n",
      "plot_mc(valid, force, ymax=max_force, ylabel=\"force [N]\", color='k', n_plot_samples=1)    \n",
      "plot_mc(valid, p_force, 3*p_force_conf, color='r', n_plot_samples=1)\n",
      "plt.title(\"\")\n",
      "plt.xlim(0, 45)\n",
      "plt.xticks([0, 10, 20, 30, 40])\n",
      "#plt.legend([\"truth\", \"prediction\"])\n",
      "\n",
      "plt.savefig(r\"Z:\\Documents\\Manuscripts\\2014-Skin\\gp_force.pdf\")"
     ],
     "language": "python",
     "metadata": {},
     "outputs": []
    },
    {
     "cell_type": "code",
     "collapsed": false,
     "input": [
      "figsize(5./2.54, 4./2.54)\n",
      "matplotlib.rcParams.update({'font.size': 7})\n",
      "\n",
      "max_force = 9\n",
      "max_skin = 2\n",
      "\n",
      "force = ws_obs_trn.force['tst'][:, 6:7]\n",
      "skin = select_features(ws_obs_trn, ws_obs_trn.skin['tst'][..., 6:7])\n",
      "valid = ws_obs_trn.valid['tst'][:, 6:7]\n",
      "\n",
      "p_force_discr, p_force_conf_discr = iterate_over_samples(sc.infer_states, valid, skin, show_progress=False)\n",
      "p_force = ws_obs_trn.from_discrete_force(p_force_discr)\n",
      "p_force_conf = p_force_conf_discr * ws_obs_trn.force_step\n",
      "print \"MSE: \", multistep_error(p_force, force, valid, mean_err=True)\n",
      "\n",
      "#plot_mc(valid, force, ymax=max_force, ylabel=\"force [N]\", color='k', n_plot_samples=1)    \n",
      "#plot_mc(valid, p_force, p_force_conf, color='r', n_plot_samples=1)\n",
      "plot_mc(valid, p_force, None, xdata=force, \n",
      "        xmax=max_force, ymax=max_force, \n",
      "        xlabel=\"true force [N]\", ylabel=\"pred. force [N] / state\", \n",
      "        color='k', n_plot_samples=1, conf_pointwise=True)    \n",
      "#plot_mc(valid, p_force, p_force_conf, color='r', n_plot_samples=1)\n",
      "plt.title(\"\")\n",
      "plt.xticks([0, 2, 4, 6, 8])\n",
      "plt.yticks([0, 2, 4, 6, 8])\n",
      "# plt.axis('equal')\n",
      "# plt.xlim(0,10)\n",
      "# plt.ylim(0,10)\n",
      "#plt.legend([\"truth\", \"prediction\"])\n",
      "\n",
      "plt.savefig(r\"Z:\\Documents\\Manuscripts\\2014-Skin\\gp_force_phase.pdf\")"
     ],
     "language": "python",
     "metadata": {},
     "outputs": []
    },
    {
     "cell_type": "heading",
     "level": 2,
     "metadata": {},
     "source": [
      "Training of state -> state model using data with hysteresis (2d GP)"
     ]
    },
    {
     "cell_type": "code",
     "collapsed": false,
     "input": [
      "ws_hys_trn = ws_hysteresis_100\n",
      "\n",
      "discrete_force = ws_hys_trn.discrete_force['trn']\n",
      "observations = select_features(ws_hys_trn, ws_hys_trn.skin['trn'])\n",
      "valid = ws_hys_trn.valid['trn']\n",
      "\n",
      "states, _ = iterate_over_samples(sc.infer_states, valid, observations)\n",
      "states = np.asarray(states, dtype='int')\n",
      "\n",
      "sc.train_all_transitions(states, discrete_force, valid, \n",
      "                         mngful_dist=None, \n",
      "                         kernel=lambda: gpy.kern.rbf(2) + gpy.kern.linear(2), \n",
      "                         optimize_restarts=4, var_normalize_x=True)                     \n",
      "\n",
      "sc.check_normalization()\n",
      "print sc.gp_all_transitions"
     ],
     "language": "python",
     "metadata": {},
     "outputs": []
    },
    {
     "cell_type": "heading",
     "level": 4,
     "metadata": {},
     "source": [
      "Evaluation: states from inputs using FactorGraph"
     ]
    },
    {
     "cell_type": "code",
     "collapsed": false,
     "input": [
      "figsize(10,10)\n",
      "\n",
      "sc.gp_all_transitions.plot_2d(xmin=0, xmax=sc.n_system_states, xstep=1,\n",
      "                              ymin=0, ymax=sc.n_input_values, ystep=1, \n",
      "                              tar_max=sc.n_system_states, cmap='jet', limit_to_std=1.6)\n",
      "plt.xlabel(\"state\")\n",
      "plt.ylabel(\"force\")\n",
      "\n",
      "plt.subplot(2,2,3)\n",
      "sta, psta, inp = sc.get_all_transitions(states, discrete_force, valid)\n",
      "#plt.plot(psta, inp, 'kx')"
     ],
     "language": "python",
     "metadata": {},
     "outputs": []
    },
    {
     "cell_type": "code",
     "collapsed": false,
     "input": [
      "figsize(6./2.54, 4./2.54)\n",
      "matplotlib.rcParams.update({'font.size': 7})\n",
      "\n",
      "xmin = 0\n",
      "xmax = sc.n_system_states\n",
      "pxmax = xmax * ws_hys_trn.force_step\n",
      "xstep = 1\n",
      "ymin = 0\n",
      "ymax = sc.n_input_values\n",
      "pymax = ymax * ws_hys_trn.force_step\n",
      "ystep = 1\n",
      "\n",
      "tar_grid, std_grid, std_gp_grid = sc.gp_all_transitions.prediction_grid_2d(xmin, xmax, xstep, ymin, ymax, ystep)\n",
      "\n",
      "plt.imshow(3 * std_grid.T, interpolation='none', origin='lower', cmap='jet',\n",
      "           extent=(xmin, pxmax, ymin, pymax),\n",
      "           aspect='auto', vmin=0, vmax=6)\n",
      "plt.colorbar()\n",
      "plt.xlim(xmin, pxmax)\n",
      "plt.ylim(ymin, pymax)\n",
      "\n",
      "plt.xlabel(\"$h_{t-1}$\")\n",
      "plt.ylabel(\"$f_t$\")\n",
      "\n",
      "# sta, psta, inp = sc.get_all_transitions(states, discrete_force, valid)\n",
      "# plt.plot(psta * ws_hys_trn.force_step, inp * ws_hys_trn.force_step, 'kx')\n",
      "\n",
      "import matplotlib as mpl\n",
      "ell = mpl.patches.Ellipse(xy=(4.3, 4.6), width=12, height=3.4, angle=47., facecolor='none', linestyle='dotted')\n",
      "plt.gca().add_artist(ell)\n",
      "\n",
      "plt.savefig(r\"Z:\\Documents\\Manuscripts\\2014-Skin\\hgpt_conf.pdf\")"
     ],
     "language": "python",
     "metadata": {},
     "outputs": []
    },
    {
     "cell_type": "code",
     "collapsed": false,
     "input": [
      "ws_hys_tst = ws_hysteresis_100\n",
      "prt = 'val'\n",
      "\n",
      "discrete_force = ws_hys_tst.discrete_force[prt]\n",
      "observations = select_features(ws_hys_tst, ws_hys_tst.skin[prt])\n",
      "valid = ws_hys_tst.valid[prt]\n",
      "\n",
      "states, _ = iterate_over_samples(sc.infer_states, valid, observations)\n",
      "p_states, p_log_p = iterate_over_samples(sc.fg_most_probable_states_given_inputs, valid, discrete_force) \n",
      "\n",
      "print \"RMSE: \", np.sqrt(multistep_error(ws_hys_tst.from_discrete_force(p_states), \n",
      "                                        ws_hys_tst.from_discrete_force(states), valid, mean_err=True))\n",
      "print \"R2:   \", multistep_r2(ws_hys_tst.from_discrete_force(p_states), \n",
      "                             ws_hys_tst.from_discrete_force(states), valid)\n",
      "print p_log_p[0]\n",
      "\n",
      "figsize(18,14)\n",
      "force_real = ws_hys_tst.from_discrete_force(discrete_force)\n",
      "\n",
      "plot_mc(valid, ws_hys_tst.from_discrete_force(states), color='b', label=\"from obs.\",\n",
      "        ylabel=\"force [N]\", ymax=10)\n",
      "plot_mc(valid, ws_hys_tst.from_discrete_force(p_states), color='r', label=\"from inputs\")"
     ],
     "language": "python",
     "metadata": {},
     "outputs": []
    },
    {
     "cell_type": "code",
     "collapsed": false,
     "input": [
      "figsize(6./2.54, 4./2.54)\n",
      "matplotlib.rcParams.update({'font.size': 7})\n",
      "\n",
      "max_force = 10\n",
      "max_skin = 2\n",
      "\n",
      "discrete_force = ws_hys_tst.discrete_force['tst'][:, 6:7]\n",
      "observations = select_features(ws_hys_tst, ws_obs_trn.skin['tst'][..., 6:7])\n",
      "valid = ws_hys_tst.valid['tst'][:, 6:7]\n",
      "\n",
      "states, _ = iterate_over_samples(sc.infer_states, valid, observations)\n",
      "p_states, p_log_p = iterate_over_samples(sc.fg_most_probable_states_given_inputs, valid, discrete_force) \n",
      "\n",
      "print \"MSE: \", multistep_error(ws_hys_tst.from_discrete_force(p_states), \n",
      "                               ws_hys_tst.from_discrete_force(states), valid, mean_err=True)\n",
      "print p_log_p[0]\n",
      "\n",
      "plot_mc(valid, ws_hys_tst.from_discrete_force(states), color='b', label=\"from sensor output\",\n",
      "        ylabel=\"internal state\", ymax=10)\n",
      "plot_mc(valid, ws_hys_tst.from_discrete_force(p_states), color='r', label=\"from force\")\n",
      "\n",
      "plt.title(\"\")\n",
      "plt.xlim(0, 45)\n",
      "plt.xticks([0, 10, 20, 30, 40])\n",
      "#plt.legend([\"truth\", \"prediction\"])\n",
      "plt.legend(loc='lower center', prop={'size':6})\n",
      "\n",
      "plt.savefig(r\"Z:\\Documents\\Manuscripts\\2014-Skin\\state_comp.pdf\")"
     ],
     "language": "python",
     "metadata": {},
     "outputs": []
    },
    {
     "cell_type": "heading",
     "level": 4,
     "metadata": {},
     "source": [
      "Evalulation: states and inputs from observations"
     ]
    },
    {
     "cell_type": "code",
     "collapsed": false,
     "input": [
      "#ws_hys_tst = ws_random_bidir\n",
      "prt = 'val'\n",
      "\n",
      "force = ws_hys_tst.force[prt]\n",
      "observations = select_features(ws_hys_tst, ws_hys_tst.skin[prt])\n",
      "valid = ws_hys_tst.valid[prt]\n",
      "\n",
      "p_states, p_discrete_force, p_log_p = iterate_over_samples(sc.fg_most_probable_states_and_inputs_given_observations, \n",
      "                                                           valid, observations) \n",
      "p_force = ws_hys_tst.from_discrete_force(p_discrete_force)\n",
      "p_internal_force = ws_hys_tst.from_discrete_force(p_states)\n",
      "print \"log P: \", p_log_p[0]\n",
      "\n",
      "print \"RMSE: \", sqrt(multistep_error(p_force, force, valid, mean_err=True))\n",
      "\n",
      "n_plot_smpls = 42\n",
      "figsize(18,14)\n",
      "ml.apps.skin.timeseries.max_force = 10\n",
      "plot_mc(valid, force, color='k', label='truth',\n",
      "        ylabel=\"force [N]\", ymax=10)\n",
      "plot_mc(valid, p_force, color='r', label='predicted')"
     ],
     "language": "python",
     "metadata": {},
     "outputs": []
    },
    {
     "cell_type": "heading",
     "level": 4,
     "metadata": {},
     "source": [
      "Evalulation: states and inputs from observations (online)"
     ]
    },
    {
     "cell_type": "code",
     "collapsed": false,
     "input": [
      "#ws_hys_tst = ws_random_bidir\n",
      "prt = 'val'\n",
      "\n",
      "force = ws_hys_tst.force[prt]\n",
      "observations = select_features(ws_hys_tst, ws_hys_tst.skin[prt])\n",
      "valid = ws_hys_tst.valid[prt]\n",
      "\n",
      "p_states, p_discrete_force = iterate_over_samples(sc.fg_most_probable_states_and_inputs_given_observations_simulate_online, \n",
      "                                                  valid, observations) \n",
      "p_force = ws_hys_tst.from_discrete_force(p_discrete_force)\n",
      "p_internal_force = ws_hys_tst.from_discrete_force(p_states)\n",
      "\n",
      "print \"RMSE: \", sqrt(multistep_error(p_force, force, valid, mean_err=True))\n",
      "\n",
      "n_plot_smpls = 42\n",
      "figsize(18,14)\n",
      "ml.apps.skin.timeseries.max_force = 10\n",
      "plot_mc(valid, force, color='k', label='truth',\n",
      "        ylabel=\"force [N]\", ymax=10)\n",
      "plot_mc(valid, p_force, color='r', label='predicted')"
     ],
     "language": "python",
     "metadata": {},
     "outputs": []
    },
    {
     "cell_type": "heading",
     "level": 4,
     "metadata": {},
     "source": [
      "Evalulation: states and inputs from observations with smoothing"
     ]
    },
    {
     "cell_type": "code",
     "collapsed": false,
     "input": [
      "force = ws_hys_tst.force[prt]\n",
      "observations = select_features(ws_hys_tst, ws_hys_tst.skin[prt])\n",
      "valid = ws_hys_tst.valid[prt]\n",
      "\n",
      "p_states, p_discrete_force, p_log_p = iterate_over_samples(sc.fg_most_probable_states_and_inputs_given_observations, \n",
      "                                                           valid, observations, loopy_iters=4, smooth_input=15, prepass_non_loopy=True) \n",
      "p_force = ws_hys_tst.from_discrete_force(p_discrete_force)\n",
      "p_internal_force = ws_hys_tst.from_discrete_force(p_states)\n",
      "\n",
      "print \"log P: \", p_log_p[0]\n",
      "print \"RMSE: \", sqrt(multistep_error(p_force, force, valid, mean_err=True))\n",
      "\n",
      "n_plot_smpls = 42\n",
      "figsize(18,14)\n",
      "plot_mc(valid, force, color='k', label='truth', \n",
      "        ylabel=\"force [N]\", ymax=10)\n",
      "plot_mc(valid, p_force, color='r', label='predicted')"
     ],
     "language": "python",
     "metadata": {},
     "outputs": []
    },
    {
     "cell_type": "heading",
     "level": 4,
     "metadata": {},
     "source": [
      "Evalulation: states and inputs from observations with smoothing (online)"
     ]
    },
    {
     "cell_type": "code",
     "collapsed": false,
     "input": [
      "#logging.getLogger().setLevel(logging.DEBUG)"
     ],
     "language": "python",
     "metadata": {},
     "outputs": []
    },
    {
     "cell_type": "code",
     "collapsed": false,
     "input": [
      "prt = 'val'\n",
      "\n",
      "force = ws_hys_tst.force[prt]\n",
      "observations = select_features(ws_hys_tst, ws_hys_tst.skin[prt])\n",
      "valid = ws_hys_tst.valid[prt]\n",
      "\n",
      "p_states, p_discrete_force = iterate_over_samples(sc.fg_most_probable_states_and_inputs_given_observations_simulate_online, \n",
      "                                                  valid, observations, smooth_input=15) \n",
      "p_force = ws_hys_tst.from_discrete_force(p_discrete_force)\n",
      "p_internal_force = ws_hys_tst.from_discrete_force(p_states)\n",
      "\n",
      "print \"RMSE: \", sqrt(multistep_error(p_force, force, valid, mean_err=True))\n",
      "\n",
      "n_plot_smpls = 42\n",
      "figsize(18,14)\n",
      "ml.apps.skin.timeseries.max_force = 10\n",
      "plot_mc(valid, force, color='k', label='truth',\n",
      "        ylabel=\"force [N]\", ymax=10)\n",
      "plot_mc(valid, p_force, color='r', label='predicted')"
     ],
     "language": "python",
     "metadata": {},
     "outputs": []
    },
    {
     "cell_type": "code",
     "collapsed": false,
     "input": [],
     "language": "python",
     "metadata": {},
     "outputs": []
    }
   ],
   "metadata": {}
  }
 ]
}