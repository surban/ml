{
 "metadata": {
  "name": "orrbm-plots"
 },
 "nbformat": 3,
 "nbformat_minor": 0,
 "worksheets": [
  {
   "cells": [
    {
     "cell_type": "code",
     "collapsed": false,
     "input": [
      "%load_ext autoreload\n",
      "%autoreload 2\n",
      "\n",
      "from rbm.rbm import train_rbm, RestrictedBoltzmannMachine\n",
      "from rbm.config import TrainingConfiguration\n",
      "from rbm.ais import AnnealedImportanceSampler\n",
      "from common.util import flatten_samples, unflatten_samples_like\n",
      "import apps.mnist_reference_dropout as ref\n",
      "import apps.generate_letters\n",
      "import rbm.util\n",
      "import rbm.sampling\n",
      "import rbm.accuracy\n",
      "import rbm.orrbm\n",
      "import common\n",
      "import common.util\n",
      "import gnumpy as gp\n",
      "import numpy as np\n",
      "import pylab\n",
      "import os\n",
      "import pickle, cPickle\n",
      "import gzip\n",
      "import gc\n"
     ],
     "language": "python",
     "metadata": {},
     "outputs": [
      {
       "output_type": "stream",
       "stream": "stdout",
       "text": [
        "gnumpy: failed to use gpu_lock. Using board #0 without knowing whether it is in use or not.\n"
       ]
      },
      {
       "output_type": "stream",
       "stream": "stderr",
       "text": [
        "Using gpu device 0: GeForce GTX 560 Ti\n"
       ]
      }
     ],
     "prompt_number": 1
    },
    {
     "cell_type": "code",
     "collapsed": false,
     "input": [
      "# configuration\n",
      "cfg = \"xoverlap\"\n",
      "plot_dir = \"../apps/orrbm_shiftstat/\" + cfg\n",
      "os.chdir(plot_dir)"
     ],
     "language": "python",
     "metadata": {},
     "outputs": [],
     "prompt_number": 2
    },
    {
     "cell_type": "code",
     "collapsed": false,
     "input": [
      "with open(\"accuracy.dat\", mode='rb') as data_file:\n",
      "    accs = cPickle.load(data_file)\n",
      "    \n",
      "orrbm_accs = accs['orrbm_accs']\n",
      "direct_accs = accs['direct_accs']\n",
      "    "
     ],
     "language": "python",
     "metadata": {},
     "outputs": [],
     "prompt_number": 4
    },
    {
     "cell_type": "code",
     "collapsed": false,
     "input": [
      "alpha = 0.05\n",
      "\n",
      "overlap = []\n",
      "oacc_lower = []\n",
      "oacc_upper = []\n",
      "oacc_mle = []\n",
      "oacc_raw = []\n",
      "\n",
      "dacc_lower = []\n",
      "dacc_upper = []\n",
      "dacc_mle = []\n",
      "dacc_raw = []\n",
      "\n",
      "poses = sorted(direct_accs.keys())\n",
      "\n",
      "for pos in poses:\n",
      "    overlap.append(pos[0])\n",
      "    \n",
      "    oacc = orrbm_accs[pos]\n",
      "    lower, upper, mle = oacc.accuracy_interval(alpha=alpha)\n",
      "    oacc_lower.append(lower)\n",
      "    oacc_upper.append(min(1, upper))\n",
      "    oacc_mle.append(min(1, mle))\n",
      "    oacc_raw.append(oacc.raw_accuracy)\n",
      "    \n",
      "    dacc = direct_accs[pos]   \n",
      "    lower, upper, mle = dacc.accuracy_interval(alpha=alpha)\n",
      "    dacc_lower.append(lower)\n",
      "    dacc_upper.append(min(1, upper))\n",
      "    dacc_mle.append(min(1, mle))\n",
      "    dacc_raw.append(dacc.raw_accuracy)\n",
      "    \n",
      "\n",
      "oacc_lower = np.asarray(oacc_lower)\n",
      "oacc_upper = np.asarray(oacc_upper)\n",
      "oacc_mle = np.asarray(oacc_mle)\n",
      "    \n",
      "print \"Mean error: \", np.mean(oacc_mle - oacc_lower)\n",
      "    "
     ],
     "language": "python",
     "metadata": {},
     "outputs": [
      {
       "output_type": "stream",
       "stream": "stdout",
       "text": [
        "Mean error:  0.00261004514413\n"
       ]
      }
     ],
     "prompt_number": 43
    },
    {
     "cell_type": "code",
     "collapsed": false,
     "input": [
      "plt.clf()\n",
      "\n",
      "plt.plot(overlap, dacc_raw, 'bx-')\n",
      "#plt.errorbar(overlap, dacc_mle, yerr=[oacc_upper-oacc_mle, oacc_mle-oacc_lower])\n",
      "plt.hold(True)\n",
      "\n",
      "plt.plot(overlap, oacc_raw, 'rx-')\n",
      "\n",
      "plt.ylim(0,1)\n",
      "plt.xlabel('x overlap [px]')\n",
      "plt.ylabel('classification accuracy')\n",
      "plt.legend(['unseparated', 'separated'], loc='lower left')\n",
      "\n",
      "plt.savefig('accuracy.png', dpi=600)"
     ],
     "language": "python",
     "metadata": {},
     "outputs": [
      {
       "output_type": "display_data",
       "png": "[encoded data removed]"
      }
     ],
     "prompt_number": 45
    },
    {
     "cell_type": "code",
     "collapsed": false,
     "input": [],
     "language": "python",
     "metadata": {},
     "outputs": []
    }
   ],
   "metadata": {}
  }
 ]
}