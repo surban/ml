{
 "metadata": {
  "name": ""
 },
 "nbformat": 3,
 "nbformat_minor": 0,
 "worksheets": [
  {
   "cells": [
    {
     "cell_type": "code",
     "collapsed": false,
     "input": [
      "%load_ext autoreload\n",
      "%autoreload 2\n",
      "\n",
      "import numpy as np\n",
      "import matplotlib.pyplot as plt\n",
      "import time\n",
      "\n",
      "from ml.apps.skin.timeseries import *\n",
      "from ml.apps.skin.timeseries_old import *\n",
      "from ml.simple.table import *\n",
      "from ml.datasets.skin import SkinDataset\n",
      "from ml.common.test import check_gradient, check_directional_gradient\n",
      "from climin.gd import GradientDescent"
     ],
     "language": "python",
     "metadata": {},
     "outputs": [
      {
       "output_type": "stream",
       "stream": "stdout",
       "text": [
        "The autoreload extension is already loaded. To reload it, use:\n",
        "  %reload_ext autoreload\n"
       ]
      }
     ],
     "prompt_number": 4
    },
    {
     "cell_type": "code",
     "collapsed": false,
     "input": [
      "force_min = 0\n",
      "force_step = 0.1\n",
      "force_max = 25\n",
      "skin_min = 0\n",
      "skin_step = 0.02\n",
      "skin_max = 2\n",
      "\n",
      "ds = SkinDataset(\"raising_small\")\n",
      "ds.print_statistics()"
     ],
     "language": "python",
     "metadata": {},
     "outputs": [
      {
       "output_type": "stream",
       "stream": "stdout",
       "text": [
        "Dataset Z:\\dev\\indentor\\indentor\\apps\\out\\raising_small.skn:\n",
        "     taxel          train   validation   test\n",
        "     1,1            800     100          100\n",
        "     3,2            785      98           98\n",
        "Avg. datapoints per record: 2433"
       ]
      },
      {
       "output_type": "stream",
       "stream": "stdout",
       "text": [
        "\n",
        "Sampling interval:          0.01 s\n",
        "\n"
       ]
      }
     ],
     "prompt_number": 5
    },
    {
     "cell_type": "code",
     "collapsed": false,
     "input": [
      "taxel = (1,1)\n",
      "n_curves = None\n",
      "\n",
      "X, Z = build_nextstep_data(ds, 'train', taxel, n_curves=n_curves)\n",
      "print \"Trainingset size: %d steps\" % X.shape[1]\n",
      "\n",
      "Xval, Zval = build_nextstep_data(ds, 'validation', taxel)\n",
      "print \"Validationset size: %d steps\" % Xval.shape[1]\n",
      "\n",
      "Xtst, Ztst = build_nextstep_data(ds, 'test', taxel)\n",
      "print \"Testset size: %d steps\" % Xtst.shape[1]\n",
      "\n",
      "test_curves = ds.record('test', (1,1), range(20))\n",
      "test_force, test_skin, test_valid = build_multicurve(test_curves)"
     ],
     "language": "python",
     "metadata": {},
     "outputs": [
      {
       "output_type": "stream",
       "stream": "stdout",
       "text": [
        "Trainingset size: 1945207 steps\n",
        "Validationset size: 246044 steps"
       ]
      },
      {
       "output_type": "stream",
       "stream": "stdout",
       "text": [
        "\n",
        "Testset size: 244160 steps"
       ]
      },
      {
       "output_type": "stream",
       "stream": "stdout",
       "text": [
        "\n"
       ]
      }
     ],
     "prompt_number": 6
    },
    {
     "cell_type": "heading",
     "level": 2,
     "metadata": {},
     "source": [
      "Multistep gradient profiling"
     ]
    },
    {
     "cell_type": "code",
     "collapsed": false,
     "input": [
      "curve = ds.record('train', (1,1))\n",
      "force, skin, valid = build_multicurve(curve)\n",
      "\n",
      "print \"Number of steps:    \", force.shape[0]\n",
      "print \"Number of samples:  \", force.shape[1]\n",
      "\n",
      "tr = SmoothTableRegression([force_min, skin_min], \n",
      "                           [force_step, skin_step], \n",
      "                           [force_max, skin_max])\n",
      "tr.weights = np.random.random(size=tr.weights.shape)\n",
      "tr.sparse = True\n",
      "print \"Number of weights: %d\" % tr.weight_matrix.size"
     ],
     "language": "python",
     "metadata": {},
     "outputs": [
      {
       "output_type": "stream",
       "stream": "stdout",
       "text": [
        "Number of steps:     3018\n",
        "Number of samples:  "
       ]
      },
      {
       "output_type": "stream",
       "stream": "stdout",
       "text": [
        " 800\n",
        "Number of weights: 26416"
       ]
      },
      {
       "output_type": "stream",
       "stream": "stdout",
       "text": [
        "\n"
       ]
      }
     ],
     "prompt_number": 26
    },
    {
     "cell_type": "code",
     "collapsed": false,
     "input": [
      "%timeit skin_p = predict_multistep(tr.predict, force, valid, skin[0, :])"
     ],
     "language": "python",
     "metadata": {},
     "outputs": [
      {
       "output_type": "stream",
       "stream": "stdout",
       "text": [
        "1 loops, best of 3: 2.35 s per loop\n"
       ]
      }
     ],
     "prompt_number": 86
    },
    {
     "cell_type": "code",
     "collapsed": false,
     "input": [
      "%prun -s cumulative skin_p = predict_multistep(tr.predict, force, valid, skin[0, :])"
     ],
     "language": "python",
     "metadata": {},
     "outputs": [
      {
       "output_type": "stream",
       "stream": "stdout",
       "text": [
        "\n"
       ]
      }
     ],
     "prompt_number": 44
    },
    {
     "cell_type": "code",
     "collapsed": false,
     "input": [
      "figsize(5,5)\n",
      "\n",
      "force_big = np.tile(force, (1, 10))\n",
      "skin_big = np.tile(skin, (1, 10))\n",
      "valid_big = np.tile(valid, (1, 10))\n",
      "\n",
      "steps = 20\n",
      "samples = range(0, 8000, 100)\n",
      "times = []\n",
      "for smpls in samples:\n",
      "    st = time.time()\n",
      "    skin_p = predict_multistep(tr.predict, force_big[0:steps, 0:smpls], valid_big[0:steps, 0:smpls], skin_big[0, 0:smpls])\n",
      "    et = time.time()\n",
      "    times.append(et-st)\n",
      "    \n",
      "plot(samples, times)"
     ],
     "language": "python",
     "metadata": {},
     "outputs": [
      {
       "metadata": {},
       "output_type": "pyout",
       "prompt_number": 12,
       "text": [
        "[<matplotlib.lines.Line2D at 0x20572080>]"
       ]
      },
      {
       "metadata": {},
       "output_type": "display_data",
       "png": "[encoded data removed]",
       "text": [
        "<matplotlib.figure.Figure at 0xa293be0>"
       ]
      }
     ],
     "prompt_number": 12
    },
    {
     "cell_type": "code",
     "collapsed": false,
     "input": [
      "start_step = 0\n",
      "test_steps = 50\n",
      "\n",
      "f = force[start_step:start_step+test_steps, :]\n",
      "s = skin[start_step:start_step+test_steps, :]\n",
      "v = valid[start_step:start_step+test_steps, :]\n",
      "\n",
      "%timeit multistep_predict(tr.predict, f, v, s[0, :])\n",
      "%timeit multistep_gradient(tr.predict_and_gradient, f, s, v)"
     ],
     "language": "python",
     "metadata": {},
     "outputs": [
      {
       "output_type": "stream",
       "stream": "stdout",
       "text": [
        "10 loops, best of 3: 30.1 ms per loop\n",
        "1 loops, best of 3: 464 ms per loop"
       ]
      },
      {
       "output_type": "stream",
       "stream": "stdout",
       "text": [
        "\n"
       ]
      }
     ],
     "prompt_number": 27
    },
    {
     "cell_type": "code",
     "collapsed": true,
     "input": [
      "start_step = 2000\n",
      "test_steps = 50\n",
      "\n",
      "f = force[start_step:start_step+test_steps, :]\n",
      "s = skin[start_step:start_step+test_steps, :]\n",
      "v = valid[start_step:start_step+test_steps, :]\n",
      "\n",
      "%timeit multistep_predict(tr.predict, f, v, s[0, :])\n",
      "%timeit multistep_gradient(tr.predict_and_gradient, f, s, v)"
     ],
     "language": "python",
     "metadata": {},
     "outputs": [
      {
       "output_type": "stream",
       "stream": "stdout",
       "text": [
        "10 loops, best of 3: 30.3 ms per loop\n",
        "1 loops, best of 3: 446 ms per loop"
       ]
      },
      {
       "output_type": "stream",
       "stream": "stdout",
       "text": [
        "\n"
       ]
      }
     ],
     "prompt_number": 28
    },
    {
     "cell_type": "code",
     "collapsed": false,
     "input": [
      "np.count_nonzero(~v)"
     ],
     "language": "python",
     "metadata": {},
     "outputs": [
      {
       "metadata": {},
       "output_type": "pyout",
       "prompt_number": 29,
       "text": [
        "7199"
       ]
      }
     ],
     "prompt_number": 29
    },
    {
     "cell_type": "heading",
     "level": 2,
     "metadata": {},
     "source": [
      "Multistep gradient verification"
     ]
    },
    {
     "cell_type": "code",
     "collapsed": false,
     "input": [
      "#tr = SmoothTableRegression([0.4, 0.0], \n",
      "#                           [0.1, 0.1], \n",
      "#                           [0.6, 0.2])\n",
      "\n",
      "test_steps = 10\n",
      "test_samples = 1\n",
      "\n",
      "#print force[0:test_steps, 0:test_samples], skin[0:test_steps, 0:test_samples]\n",
      "\n",
      "gr_dense = multistep_gradient(tr.predict_and_gradient, force[0:test_steps, 0:test_samples], skin[0:test_steps, 0:test_samples], valid[0:test_steps, 0:test_samples])\n",
      "gr_sparse = multistep_gradient_sparse_mat(tr.predict_and_gradient, force[0:test_steps, 0:test_samples], skin[0:test_steps, 0:test_samples], valid[0:test_steps, 0:test_samples])\n",
      "\n",
      "gr_diff = gr_dense - gr_sparse\n",
      "diff = np.sum(np.abs(gr_diff))\n",
      "\n",
      "print \"dense gradient:\"\n",
      "print gr_dense\n",
      "print\n",
      "print \"sparse gradient:\"\n",
      "print gr_sparse\n",
      "print\n",
      "print \"difference:\"\n",
      "print gr_diff\n",
      "print \"sum:\", diff\n"
     ],
     "language": "python",
     "metadata": {},
     "outputs": [
      {
       "output_type": "stream",
       "stream": "stdout",
       "text": [
        "dense gradient:\n",
        "[ 0.  0.  0. ...,  0.  0.  0.]"
       ]
      },
      {
       "output_type": "stream",
       "stream": "stdout",
       "text": [
        "\n",
        "\n"
       ]
      },
      {
       "output_type": "stream",
       "stream": "stdout",
       "text": [
        "sparse gradient:\n",
        "[ 0.  0.  0. ...,  0.  0.  0.]"
       ]
      },
      {
       "output_type": "stream",
       "stream": "stdout",
       "text": [
        "\n",
        "\n"
       ]
      },
      {
       "output_type": "stream",
       "stream": "stdout",
       "text": [
        "difference:\n",
        "[ 0.  0.  0. ...,  0.  0.  0.]"
       ]
      },
      {
       "output_type": "stream",
       "stream": "stdout",
       "text": [
        "\n",
        "sum:"
       ]
      },
      {
       "output_type": "stream",
       "stream": "stdout",
       "text": [
        " 0.0\n"
       ]
      }
     ],
     "prompt_number": 68
    },
    {
     "cell_type": "code",
     "collapsed": false,
     "input": [
      "tr = SmoothTableRegression([force_min, skin_min], \n",
      "                           [2, 0.2], \n",
      "                           [force_max, skin_max])\n",
      "np.random.seed(100)\n",
      "tr.weights = np.random.random(size=tr.weights.shape)\n",
      "#tr.weights = np.zeros(tr._weights.shape)\n",
      "method = 1\n",
      "\n",
      "test_steps = 20\n",
      "test_samples = 30\n",
      "\n",
      "def func_wrapper(w):\n",
      "    tr.weights = w\n",
      "    skin_p = predict_multistep(tr.predict, force[0:test_steps, 0:test_samples], \n",
      "                               valid[0:test_steps, 0:test_samples], skin[0, 0:test_samples])\n",
      "    return multistep_error(skin_p, skin[0:test_steps, 0:test_samples], valid[0:test_steps, 0:test_samples])\n",
      "    \n",
      "def grad_wrapper(w):\n",
      "    tr.weights = w\n",
      "    if method == 1:\n",
      "        return multistep_gradient_sparse_mat(tr.predict_and_gradient, \n",
      "                                             force[0:test_steps, 0:test_samples], skin[0:test_steps, 0:test_samples], \n",
      "                                             valid[0:test_steps, 0:test_samples])\n",
      "    elif method == 2:\n",
      "        return multistep_gradient(tr.predict_and_gradient,\n",
      "                                  force[0:test_steps, 0:test_samples], skin[0:test_steps, 0:test_samples], \n",
      "                                  valid[0:test_steps, 0:test_samples])    \n",
      "    else:\n",
      "        return multistep_gradient_sparse(tr,\n",
      "                                         force[0:test_steps, 0:test_samples], skin[0:test_steps, 0:test_samples], \n",
      "                                         valid[0:test_steps, 0:test_samples])\n",
      "\n",
      "#print func_wrapper(tr._weights)\n",
      "#print grad_wrapper(tr._weights)\n",
      "\n",
      "check_gradient(func_wrapper, grad_wrapper, tr.weights, tolerance=1, always_output=False)\n",
      "\n",
      "#for i in range(tr.weights.size):\n",
      "#    print i\n",
      "#    direction = np.zeros(tr.weights.shape)\n",
      "#    direction[i] = 1\n",
      "#    check_directional_gradient(func_wrapper, grad_wrapper, tr.weights, direction=direction, always_output=False, tolerance=1)"
     ],
     "language": "python",
     "metadata": {},
     "outputs": [],
     "prompt_number": 12
    },
    {
     "cell_type": "code",
     "collapsed": false,
     "input": [],
     "language": "python",
     "metadata": {},
     "outputs": []
    }
   ],
   "metadata": {}
  }
 ]
}