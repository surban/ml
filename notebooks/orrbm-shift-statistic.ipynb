{
 "metadata": {
  "name": "orrbm-shift-statistic"
 },
 "nbformat": 3,
 "nbformat_minor": 0,
 "worksheets": [
  {
   "cells": [
    {
     "cell_type": "code",
     "collapsed": false,
     "input": [
      "%load_ext autoreload\n",
      "%autoreload 2\n",
      "\n",
      "from rbm.rbm import train_rbm, RestrictedBoltzmannMachine\n",
      "from rbm.config import TrainingConfiguration\n",
      "from rbm.ais import AnnealedImportanceSampler\n",
      "from common.util import flatten_samples, unflatten_samples_like\n",
      "import apps.mnist_reference_dropout as ref\n",
      "import apps.generate_letters\n",
      "import rbm.util\n",
      "import rbm.sampling\n",
      "import rbm.accuracy\n",
      "import rbm.orrbm\n",
      "import common\n",
      "import common.util\n",
      "import gnumpy as gp\n",
      "import numpy as np\n",
      "import pylab\n",
      "import os\n",
      "\n",
      "gp.expensive_check_probability = 0"
     ],
     "language": "python",
     "metadata": {},
     "outputs": [],
     "prompt_number": 1
    },
    {
     "cell_type": "code",
     "collapsed": false,
     "input": [
      "n_vis=784\n",
      "n_hid=5000\n",
      "init_weight_sigma = 4 * np.sqrt(6. / (n_hid + n_vis))\n",
      "tcfg = TrainingConfiguration(dataset='mnistv',\n",
      "                             n_vis=n_vis, n_hid=n_hid,\n",
      "                             batch_size=20,\n",
      "                             n_gibbs_steps=15,\n",
      "                             epochs=30,\n",
      "                             step_rate=0.1,\n",
      "                             use_pcd=True,\n",
      "                             binarize_data='round',\n",
      "                             initial_momentum=0, final_momentum=0, \n",
      "                             use_final_momentum_from_epoch=0,\n",
      "                             weight_cost=0,\n",
      "                             init_method='uniform', init_weight_sigma=init_weight_sigma, init_bias_sigma=0,\n",
      "                             seed=1)\n",
      "rbm.util.enter_rbm_plot_directory(tcfg)\n",
      "\n",
      "epoch = tcfg.epochs - 1\n",
      "myrbm = RestrictedBoltzmannMachine(20, n_vis, n_hid, 0)\n",
      "rbm.util.load_parameters(myrbm, epoch)\n",
      "\n",
      "S = tcfg.X.reshape((tcfg.X.shape[0], 28, 28))\n",
      "SZ = tcfg.Z\n",
      "\n",
      "ref_mod = ref.build_model(\"../mnist_dropout_model.npz\")\n",
      "ref_predict = ref.build_predictor(ref_mod)\n",
      "\n",
      "ref_Z=common.util.map(gp.as_numpy_array(tcfg.X), 1000, ref_predict)\n",
      "ref_TZ=common.util.map(gp.as_numpy_array(tcfg.TX), 1000, ref_predict)\n",
      "ref_acc = 1 - common.util.classification_error(ref_Z, tcfg.Z)\n",
      "ref_tacc = 1 - common.util.classification_error(ref_TZ, tcfg.TZ)\n",
      "print \"Reference classification error on whole training set:  %g\" % (1-ref_acc)\n",
      "print \"Reference classification error on whole test set:      %g\" % (1-ref_tacc)"
     ],
     "language": "python",
     "metadata": {},
     "outputs": [
      {
       "output_type": "stream",
       "stream": "stdout",
       "text": [
        "gnumpy: failed to use gpu_lock. Using board #0 without knowing whether it is in use or not.\n",
        "Entered plot directory C:\\Local\\surban\\dev\\ml\\notebooks\\mnistv-rbm-5000-pcd15-mbs0020-round-sr0.100-m0.00;0.00(00)-c0.0000-iws0.1288-ibs0.0000-0000000001"
       ]
      },
      {
       "output_type": "stream",
       "stream": "stdout",
       "text": [
        "\n",
        "Loading RBM parameters form file weights-29.npz"
       ]
      },
      {
       "output_type": "stream",
       "stream": "stdout",
       "text": [
        "\n"
       ]
      },
      {
       "output_type": "stream",
       "stream": "stdout",
       "text": [
        "Reference classification error on whole training set:  0.03306\n",
        "Reference classification error on whole test set:      0.0388"
       ]
      },
      {
       "output_type": "stream",
       "stream": "stdout",
       "text": [
        "\n"
       ]
      }
     ],
     "prompt_number": 2
    },
    {
     "cell_type": "heading",
     "level": 1,
     "metadata": {},
     "source": [
      "Generate dataset"
     ]
    },
    {
     "cell_type": "code",
     "collapsed": false,
     "input": [
      "x_shift = 11\n",
      "y_shift = 0\n",
      "n_samples = 10000\n",
      "X, XZ, ref_XZ, Y, YZ, ref_YZ, O = rbm.orrbm.generate_or_dataset_with_shift(S, SZ, ref_Z, \n",
      "                                                                           x_shift, y_shift, n_samples)"
     ],
     "language": "python",
     "metadata": {},
     "outputs": [],
     "prompt_number": 16
    },
    {
     "cell_type": "code",
     "collapsed": false,
     "input": [
      "common.util.ipy_plot_samples(O[0:10], twod=True)"
     ],
     "language": "python",
     "metadata": {},
     "outputs": [
      {
       "output_type": "pyout",
       "prompt_number": 17,
       "text": [
        "<matplotlib.image.AxesImage at 0x2c60ab00>"
       ]
      },
      {
       "output_type": "display_data",
       "png": "[encoded data removed]"
      }
     ],
     "prompt_number": 17
    },
    {
     "cell_type": "heading",
     "level": 2,
     "metadata": {},
     "source": [
      "Separate dataset"
     ]
    },
    {
     "cell_type": "code",
     "collapsed": false,
     "input": [
      "def tuple_to_array(t):\n",
      "    x = t[0]\n",
      "    y = t[1]\n",
      "    out = np.zeros((x.shape[0], x.shape[1], x.shape[2], 2))\n",
      "    out[:,:,:,0] = gp.as_numpy_array(x)\n",
      "    out[:,:,:,1] = gp.as_numpy_array(y)\n",
      "    return out    "
     ],
     "language": "python",
     "metadata": {},
     "outputs": [],
     "prompt_number": 18
    },
    {
     "cell_type": "code",
     "collapsed": false,
     "input": [
      "iters=20\n",
      "k=10\n",
      "beta=2\n",
      "sep_XY = common.util.map(O, 1000, \n",
      "                         lambda o: tuple_to_array(rbm.orrbm.or_infer_with_shift(myrbm, o, x_shift, y_shift, \n",
      "                                                                                iters, k, beta=beta)),\n",
      "                         force_output_type='numpy')\n",
      "sep_X = sep_XY[:,:,:,0]\n",
      "sep_Y = sep_XY[:,:,:,1]\n",
      "del sep_XY"
     ],
     "language": "python",
     "metadata": {},
     "outputs": [
      {
       "html": [
        "<i></i><meter value=\"6\" min=\"0\" max=\"10\">6 / 10</meter> 0:01:00 left"
       ],
       "output_type": "display_data"
      }
     ],
     "prompt_number": "*"
    },
    {
     "cell_type": "code",
     "collapsed": false,
     "input": [
      "common.util.ipy_plot_samples(sep_X[0:5], twod=True)\n",
      "plt.figure()\n",
      "common.util.ipy_plot_samples(sep_Y[0:5], twod=True)"
     ],
     "language": "python",
     "metadata": {},
     "outputs": [
      {
       "output_type": "pyout",
       "prompt_number": 14,
       "text": [
        "<matplotlib.image.AxesImage at 0x2c5ffe48>"
       ]
      },
      {
       "output_type": "display_data",
       "png": "[encoded data removed]"
      },
      {
       "output_type": "display_data",
       "png": "[encoded data removed]"
      }
     ],
     "prompt_number": 14
    },
    {
     "cell_type": "heading",
     "level": 2,
     "metadata": {},
     "source": [
      "Test ORRBM without noise"
     ]
    },
    {
     "cell_type": "code",
     "collapsed": false,
     "input": [
      "i = 5\n",
      "j = 12\n",
      "x_shift = 8\n",
      "y_shift = 0\n",
      "ors = or_sample_with_shift(i,j,x_shift,y_shift)\n",
      "ors = ors[None, :, :]\n",
      "x, y = rbm.orrbm.or_infer_with_shift(myrbm, ors, x_shift, y_shift, 20, 10, beta=2)\n",
      "\n",
      "common.util.ipy_plot_samples([X2[i], X2[j], x[0], y[0]], twod=True)\n",
      "plt.figure()\n",
      "common.util.ipy_plot_samples(ors, twod=True)\n",
      "\n",
      "zx=ref_predict(gp.as_numpy_array(flatten_samples(x)))\n",
      "zy=ref_predict(gp.as_numpy_array(flatten_samples(y)))\n",
      "print \"x: %d   y: %d\" % (zx, zy)"
     ],
     "language": "python",
     "metadata": {},
     "outputs": [
      {
       "output_type": "stream",
       "stream": "stdout",
       "text": [
        "x: 2   y: 3\n"
       ]
      },
      {
       "output_type": "display_data",
       "png": "[encoded data removed]"
      },
      {
       "output_type": "display_data",
       "png": "[encoded data removed]"
      }
     ],
     "prompt_number": 11
    },
    {
     "cell_type": "heading",
     "level": 2,
     "metadata": {},
     "source": [
      "Intermediate sampling steps of ORRBM"
     ]
    },
    {
     "cell_type": "code",
     "collapsed": false,
     "input": [
      "vis = ors\n",
      "k=10\n",
      "beta=1\n",
      "\n",
      "n_samples = vis.shape[0]\n",
      "height = vis.shape[1] - y_shift\n",
      "width = vis.shape[2] - x_shift\n",
      "          \n",
      "xi = vis.copy()[:,0:height,0:width]\n",
      "xf = 1 - xi\n",
      "\n",
      "yi = vis.copy()[:,y_shift:,x_shift:]\n",
      "yf = 1 - yi\n",
      "\n",
      "common.util.ipy_plot_samples(xi, samples_force=xf, twod=True)"
     ],
     "language": "python",
     "metadata": {},
     "outputs": [
      {
       "output_type": "pyout",
       "prompt_number": 109,
       "text": [
        "<matplotlib.image.AxesImage at 0x2b4c8898>"
       ]
      },
      {
       "output_type": "display_data",
       "png": "[encoded data removed]"
      }
     ],
     "prompt_number": 109
    },
    {
     "cell_type": "code",
     "collapsed": false,
     "input": [
      "xs, _ = myrbm.gibbs_sample(flatten_samples(xi), \n",
      "                           k, vis_force=flatten_samples(xf), beta=beta)\n",
      "xs = unflatten_samples_like(xs, xi)\n",
      "common.util.ipy_plot_samples(xs, samples_force=xf, twod=True)\n",
      "\n",
      "plt.figure()\n",
      "xr, xrf = rbm.orrbm.or_rest(vis[:, 0:height, 0:width], xs)\n",
      "common.util.ipy_plot_samples(xr, samples_force=xrf, twod=True)"
     ],
     "language": "python",
     "metadata": {},
     "outputs": [
      {
       "output_type": "pyout",
       "prompt_number": 110,
       "text": [
        "<matplotlib.image.AxesImage at 0x2b4f72e8>"
       ]
      },
      {
       "output_type": "display_data",
       "png": "[encoded data removed]"
      },
      {
       "output_type": "display_data",
       "png": "[encoded data removed]"
      }
     ],
     "prompt_number": 110
    },
    {
     "cell_type": "code",
     "collapsed": false,
     "input": [
      "yi_by_x = xr[:, y_shift:, x_shift:]\n",
      "yf_by_x = xrf[:, y_shift:, x_shift:]\n",
      "yi[:, 0:height-y_shift, 0:width-x_shift] = yi_by_x\n",
      "yf[:, 0:height-y_shift, 0:width-x_shift] = yf_by_x\n",
      "\n",
      "common.util.ipy_plot_samples(yi, samples_force=yf, twod=True)"
     ],
     "language": "python",
     "metadata": {},
     "outputs": [
      {
       "output_type": "pyout",
       "prompt_number": 111,
       "text": [
        "<matplotlib.image.AxesImage at 0x2b165d30>"
       ]
      },
      {
       "output_type": "display_data",
       "png": "[encoded data removed]"
      }
     ],
     "prompt_number": 111
    },
    {
     "cell_type": "code",
     "collapsed": false,
     "input": [
      "ys, _ = myrbm.gibbs_sample(flatten_samples(yi), \n",
      "                           k, vis_force=flatten_samples(yf), beta=beta)\n",
      "ys = unflatten_samples_like(ys, yi)\n",
      "common.util.ipy_plot_samples(ys, samples_force=yf, twod=True)\n",
      "\n",
      "plt.figure()\n",
      "yr, yrf = rbm.orrbm.or_rest(vis[:, y_shift:, x_shift:], ys)\n",
      "common.util.ipy_plot_samples(yr, samples_force=yrf, twod=True)"
     ],
     "language": "python",
     "metadata": {},
     "outputs": [
      {
       "output_type": "pyout",
       "prompt_number": 106,
       "text": [
        "<matplotlib.image.AxesImage at 0x2af37d68>"
       ]
      },
      {
       "output_type": "display_data",
       "png": "[encoded data removed]"
      },
      {
       "output_type": "display_data",
       "png": "[encoded data removed]"
      }
     ],
     "prompt_number": 106
    },
    {
     "cell_type": "code",
     "collapsed": false,
     "input": [
      "xi_by_y = yr[:, 0:height-y_shift, 0:width-x_shift]\n",
      "xf_by_y = yf[:, 0:height-y_shift, 0:width-x_shift]\n",
      "xi[:, y_shift:, x_shift:] = xi_by_y\n",
      "xf[:, y_shift:, x_shift:] = xf_by_y\n",
      "\n",
      "common.util.ipy_plot_samples(xi, samples_force=xf, twod=True)"
     ],
     "language": "python",
     "metadata": {},
     "outputs": [
      {
       "output_type": "pyout",
       "prompt_number": 112,
       "text": [
        "<matplotlib.image.AxesImage at 0x2b81b2b0>"
       ]
      },
      {
       "output_type": "display_data",
       "png": "[encoded data removed]"
      }
     ],
     "prompt_number": 112
    },
    {
     "cell_type": "heading",
     "level": 2,
     "metadata": {},
     "source": [
      "Generate sample with noise"
     ]
    },
    {
     "cell_type": "code",
     "collapsed": false,
     "input": [
      "x_shift = 11\n",
      "y_shift = 0\n",
      "o = or_sample_with_shift(5, 12, x_shift, y_shift)\n",
      "o = common.util.add_noise(o, 0.03)\n",
      "common.util.ipy_plot_samples(o, twod=True)"
     ],
     "language": "python",
     "metadata": {},
     "outputs": [
      {
       "output_type": "pyout",
       "prompt_number": 4,
       "text": [
        "<matplotlib.image.AxesImage at 0xb26d550>"
       ]
      },
      {
       "output_type": "display_data",
       "png": "[encoded data removed]"
      }
     ],
     "prompt_number": 4
    },
    {
     "cell_type": "code",
     "collapsed": false,
     "input": [
      "i = 5\n",
      "j = 150\n",
      "x_shift = 8\n",
      "y_shift = 0\n",
      "p_noise = 0.03\n",
      "\n",
      "ors = or_sample_with_shift(i,j,x_shift,y_shift)\n",
      "ors = common.util.add_noise(ors, p_noise)\n",
      "ors = ors[None, :, :]\n",
      "x, y = rbm.orrbm.or_infer_with_shift(myrbm, ors, x_shift, y_shift, 20, 10, beta=2)\n",
      "\n",
      "common.util.ipy_plot_samples([X2[i], X2[j], x[0], y[0]], twod=True)\n",
      "plt.figure()\n",
      "common.util.ipy_plot_samples(ors, twod=True)\n",
      "\n",
      "zx=ref_predict(gp.as_numpy_array(flatten_samples(x)))\n",
      "zy=ref_predict(gp.as_numpy_array(flatten_samples(y)))\n",
      "print \"x: %d   y: %d\" % (zx, zy)"
     ],
     "language": "python",
     "metadata": {},
     "outputs": [],
     "prompt_number": "*"
    }
   ],
   "metadata": {}
  }
 ]
}