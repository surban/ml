{
 "metadata": {
  "name": "orrbm-shift-statistic"
 },
 "nbformat": 3,
 "nbformat_minor": 0,
 "worksheets": [
  {
   "cells": [
    {
     "cell_type": "code",
     "collapsed": false,
     "input": [
      "%load_ext autoreload\n",
      "%autoreload 2\n",
      "\n",
      "from rbm.rbm import train_rbm, RestrictedBoltzmannMachine\n",
      "from rbm.config import TrainingConfiguration\n",
      "from rbm.ais import AnnealedImportanceSampler\n",
      "from common.util import flatten_samples, unflatten_samples_like\n",
      "import apps.mnist_reference_dropout as ref\n",
      "import apps.generate_letters\n",
      "import rbm.util\n",
      "import rbm.sampling\n",
      "import rbm.accuracy\n",
      "import rbm.orrbm\n",
      "import common\n",
      "import common.util\n",
      "import gnumpy as gp\n",
      "import numpy as np\n",
      "import pylab\n",
      "import os\n",
      "import pickle\n",
      "import gzip\n",
      "import gc\n",
      "\n",
      "gp.expensive_check_probability = 0"
     ],
     "language": "python",
     "metadata": {},
     "outputs": [],
     "prompt_number": 1
    },
    {
     "cell_type": "code",
     "collapsed": false,
     "input": [
      "n_vis=784\n",
      "n_hid=5000\n",
      "init_weight_sigma = 4 * np.sqrt(6. / (n_hid + n_vis))\n",
      "tcfg = TrainingConfiguration(dataset='mnistv',\n",
      "                             n_vis=n_vis, n_hid=n_hid,\n",
      "                             batch_size=20,\n",
      "                             n_gibbs_steps=15,\n",
      "                             epochs=30,\n",
      "                             step_rate=0.1,\n",
      "                             use_pcd=True,\n",
      "                             binarize_data='round',\n",
      "                             initial_momentum=0, final_momentum=0, \n",
      "                             use_final_momentum_from_epoch=0,\n",
      "                             weight_cost=0,\n",
      "                             init_method='uniform', init_weight_sigma=init_weight_sigma, init_bias_sigma=0,\n",
      "                             seed=1)\n",
      "rbm.util.enter_rbm_plot_directory(tcfg)\n",
      "\n",
      "epoch = tcfg.epochs - 1\n",
      "myrbm = RestrictedBoltzmannMachine(20, n_vis, n_hid, 0)\n",
      "rbm.util.load_parameters(myrbm, epoch)\n",
      "\n",
      "S = tcfg.X.reshape((tcfg.X.shape[0], 28, 28))\n",
      "SZ = tcfg.Z\n",
      "\n",
      "ref_mod = ref.build_model(\"../mnist_dropout_model.npz\")\n",
      "ref_predict = ref.build_predictor(ref_mod)\n",
      "\n",
      "ref_Z=common.util.map(gp.as_numpy_array(tcfg.X), 1000, ref_predict)\n",
      "ref_TZ=common.util.map(gp.as_numpy_array(tcfg.TX), 1000, ref_predict)\n",
      "ref_acc = 1 - common.util.classification_error(ref_Z, tcfg.Z)\n",
      "ref_tacc = 1 - common.util.classification_error(ref_TZ, tcfg.TZ)\n",
      "print \"Reference classification error on whole training set:  %g\" % (1-ref_acc)\n",
      "print \"Reference classification error on whole test set:      %g\" % (1-ref_tacc)"
     ],
     "language": "python",
     "metadata": {},
     "outputs": [
      {
       "output_type": "stream",
       "stream": "stdout",
       "text": [
        "gnumpy: failed to use gpu_lock. Using board #0 without knowing whether it is in use or not.\n",
        "Entered plot directory C:\\Local\\surban\\dev\\ml\\notebooks\\mnistv-rbm-5000-pcd15-mbs0020-round-sr0.100-m0.00;0.00(00)-c0.0000-iws0.1288-ibs0.0000-0000000001"
       ]
      },
      {
       "output_type": "stream",
       "stream": "stdout",
       "text": [
        "\n",
        "Loading RBM parameters form file weights-29.npz"
       ]
      },
      {
       "output_type": "stream",
       "stream": "stdout",
       "text": [
        "\n"
       ]
      },
      {
       "output_type": "stream",
       "stream": "stdout",
       "text": [
        "Reference classification error on whole training set:  0.03306\n",
        "Reference classification error on whole test set:      0.0388"
       ]
      },
      {
       "output_type": "stream",
       "stream": "stdout",
       "text": [
        "\n"
       ]
      }
     ],
     "prompt_number": 2
    },
    {
     "cell_type": "heading",
     "level": 1,
     "metadata": {},
     "source": [
      "Generate dataset"
     ]
    },
    {
     "cell_type": "code",
     "collapsed": false,
     "input": [
      "x_shift = 11\n",
      "y_shift = 0\n",
      "n_samples = 10000\n",
      "X, XZ, ref_XZ, Y, YZ, ref_YZ, O = rbm.orrbm.generate_or_dataset_with_shift(S, SZ, ref_Z, \n",
      "                                                                           x_shift, y_shift, n_samples)"
     ],
     "language": "python",
     "metadata": {},
     "outputs": [],
     "prompt_number": 3
    },
    {
     "cell_type": "code",
     "collapsed": false,
     "input": [
      "common.util.ipy_plot_samples(O[0:10], twod=True)"
     ],
     "language": "python",
     "metadata": {},
     "outputs": [
      {
       "output_type": "pyout",
       "prompt_number": 4,
       "text": [
        "<matplotlib.image.AxesImage at 0xb2b1518>"
       ]
      },
      {
       "output_type": "display_data",
       "png": "[encoded data removed]"
      }
     ],
     "prompt_number": 4
    },
    {
     "cell_type": "heading",
     "level": 2,
     "metadata": {},
     "source": [
      "Separate dataset"
     ]
    },
    {
     "cell_type": "code",
     "collapsed": false,
     "input": [
      "def tuple_to_array(t):\n",
      "    x = t[0]\n",
      "    y = t[1]\n",
      "    out = np.zeros((x.shape[0], x.shape[1], x.shape[2], 2))\n",
      "    out[:,:,:,0] = gp.as_numpy_array(x)\n",
      "    out[:,:,:,1] = gp.as_numpy_array(y)\n",
      "    return out    "
     ],
     "language": "python",
     "metadata": {},
     "outputs": [],
     "prompt_number": 3
    },
    {
     "cell_type": "code",
     "collapsed": false,
     "input": [
      "iters=20\n",
      "k=10\n",
      "beta=2\n",
      "sep_XY = common.util.map(O, 1000, \n",
      "                         lambda o: tuple_to_array(rbm.orrbm.or_infer_with_shift(myrbm, o, x_shift, y_shift, \n",
      "                                                                                iters, k, beta=beta)),\n",
      "                         force_output_type='numpy')\n",
      "sep_X = sep_XY[:,:,:,0]\n",
      "sep_Y = sep_XY[:,:,:,1]\n",
      "del sep_XY"
     ],
     "language": "python",
     "metadata": {},
     "outputs": [],
     "prompt_number": 6
    },
    {
     "cell_type": "code",
     "collapsed": false,
     "input": [
      "common.util.ipy_plot_samples(sep_X[0:5], twod=True)\n",
      "plt.figure()\n",
      "common.util.ipy_plot_samples(sep_Y[0:5], twod=True)"
     ],
     "language": "python",
     "metadata": {},
     "outputs": [
      {
       "output_type": "pyout",
       "prompt_number": 7,
       "text": [
        "<matplotlib.image.AxesImage at 0xb2b1cc0>"
       ]
      },
      {
       "output_type": "display_data",
       "png": "[encoded data removed]"
      },
      {
       "output_type": "display_data",
       "png": "[encoded data removed]"
      }
     ],
     "prompt_number": 7
    },
    {
     "cell_type": "code",
     "collapsed": false,
     "input": [
      "acc = rbm.accuracy.calc_separation_accuracy(\"IGibbs\", ref_predict, myrbm,\n",
      "                                            X, XZ, ref_XZ,\n",
      "                                            Y, YZ, ref_YZ,\n",
      "                                            O,\n",
      "                                            sep_X, sep_Y)\n",
      "plt.figsize(15,3)\n",
      "acc.output_errors(n_plot=20)"
     ],
     "language": "python",
     "metadata": {},
     "outputs": [
      {
       "html": [
        "<table><tr><th>label</th><th>n_samples</th><th>n_success</th><th>classifier_accuracy</th></tr><tr><td>IGibbs</td><td>10000</td><td>9251</td><td>0.96645</td></tr></table>"
       ],
       "output_type": "display_data"
      },
      {
       "output_type": "stream",
       "stream": "stdout",
       "text": [
        "Error probability: 0.00959297 [0.00404803, 0.0151379]\n",
        "Misclassified samples:\n",
        "True labels:       [(6, 7), (0, 3), (5, 2), (5, 0), (8, 7), (5, 6), (3, 9), (9, 3), (8, 9), (7, 2), (3, 4), (2, 9), (8, 4), (8, 9), (0, 7), (6, 4), (4, 5), (9, 2), (8, 3), (1, 0)]\n",
        "Separated labels:  [(0, 7), (0, 8), (3, 2), (8, 0), (2, 7), (5, 0), (2, 9), (9, 9), (8, 7), (9, 2), (3, 1), (2, 8), (8, 0), (5, 9), (0, 9), (0, 4), (9, 5), (4, 2), (9, 3), (8, 0)]\n"
       ]
      },
      {
       "output_type": "display_data",
       "png": "[encoded data removed]"
      },
      {
       "output_type": "display_data",
       "png": "[encoded data removed]"
      }
     ],
     "prompt_number": 13
    },
    {
     "cell_type": "heading",
     "level": 2,
     "metadata": {},
     "source": [
      "Calculate accuracy for different x shifts"
     ]
    },
    {
     "cell_type": "code",
     "collapsed": false,
     "input": [
      "n_samples = 10000\n",
      "y_shift = 0\n",
      "iters=20\n",
      "k=10\n",
      "beta=2\n",
      "\n",
      "accs = {}\n",
      "\n",
      "for x_shift in range(28):\n",
      "    print x_shift\n",
      "    \n",
      "    # generate dataset\n",
      "    X, XZ, ref_XZ, Y, YZ, ref_YZ, O = rbm.orrbm.generate_or_dataset_with_shift(S, SZ, ref_Z, \n",
      "                                                                               x_shift, y_shift, n_samples)   \n",
      "       \n",
      "    # separate\n",
      "    sep_XY = common.util.map(O, 1000, \n",
      "                             lambda o: tuple_to_array(rbm.orrbm.or_infer_with_shift(myrbm, o, x_shift, y_shift, \n",
      "                                                                                    iters, k, beta=beta)),\n",
      "                             force_output_type='numpy')\n",
      "    sep_X = sep_XY[:,:,:,0]\n",
      "    sep_Y = sep_XY[:,:,:,1]\n",
      "    del sep_XY    \n",
      "    \n",
      "    # calculate accuracy\n",
      "    acc = rbm.accuracy.calc_separation_accuracy(\"X %d\" % x_shift, ref_predict, myrbm,\n",
      "                                                X, XZ, ref_XZ,\n",
      "                                                Y, YZ, ref_YZ,\n",
      "                                                O,\n",
      "                                                sep_X, sep_Y)    \n",
      "    \n",
      "    accs[x_shift] = acc\n",
      "    \n",
      "    # cleanup\n",
      "    del sep_X, sep_Y, X, XZ, ref_XZ, Y, YZ, ref_YZ, O\n",
      "    gc.collect()\n",
      "    \n",
      "    \n",
      "with gzip.open(\"or_x_shift.dat\", mode='wb') as f:\n",
      "    pickle.dump(accs, f, pickle.HIGHEST_PROTOCOL)\n",
      "    \n",
      "    "
     ],
     "language": "python",
     "metadata": {},
     "outputs": [
      {
       "output_type": "stream",
       "stream": "stdout",
       "text": [
        "0\n"
       ]
      },
      {
       "output_type": "stream",
       "stream": "stdout",
       "text": [
        "1\n"
       ]
      },
      {
       "output_type": "stream",
       "stream": "stdout",
       "text": [
        "2\n"
       ]
      },
      {
       "output_type": "stream",
       "stream": "stdout",
       "text": [
        "3\n"
       ]
      },
      {
       "output_type": "stream",
       "stream": "stdout",
       "text": [
        "4\n"
       ]
      },
      {
       "output_type": "stream",
       "stream": "stdout",
       "text": [
        "5\n"
       ]
      },
      {
       "output_type": "stream",
       "stream": "stdout",
       "text": [
        "6\n"
       ]
      },
      {
       "html": [
        "<table><tr><th>label</th><th>n_samples</th><th>n_success</th><th>classifier_accuracy</th></tr><tr><td>X 6</td><td>10000</td><td>8508</td><td>0.96665</td></tr></table>"
       ],
       "output_type": "display_data"
      },
      {
       "ename": "MemoryError",
       "evalue": "The GPU failed to allocate the requested 39200000 bytes of memory. This doesn't mean that your program is using too much memory. It does, however, mean that you should reduce the value of gnumpy.max_memory_usage (currently inf), to always have some memory unused (which is necessary to find contiguous large blocks of memory to allocate). Failing to allocate enough memory makes the GPU feel very unwell, so you are advised to restart Python now, or expect to see incoherent error messages and risk causing more serious damage.",
       "output_type": "pyerr",
       "traceback": [
        "\u001b[1;31m---------------------------------------------------------------------------\u001b[0m\n\u001b[1;31mMemoryError\u001b[0m                               Traceback (most recent call last)",
        "\u001b[1;32m<ipython-input-4-a8ec4e735fce>\u001b[0m in \u001b[0;36m<module>\u001b[1;34m()\u001b[0m\n\u001b[0;32m     12\u001b[0m     \u001b[1;31m# generate dataset\u001b[0m\u001b[1;33m\u001b[0m\u001b[1;33m\u001b[0m\u001b[0m\n\u001b[0;32m     13\u001b[0m     X, XZ, ref_XZ, Y, YZ, ref_YZ, O = rbm.orrbm.generate_or_dataset_with_shift(S, SZ, ref_Z, \n\u001b[1;32m---> 14\u001b[1;33m                                                                                x_shift, y_shift, n_samples)   \n\u001b[0m\u001b[0;32m     15\u001b[0m \u001b[1;33m\u001b[0m\u001b[0m\n\u001b[0;32m     16\u001b[0m     \u001b[1;31m# separate\u001b[0m\u001b[1;33m\u001b[0m\u001b[1;33m\u001b[0m\u001b[0m\n",
        "\u001b[1;32mC:\\Local\\surban\\dev\\ml\\rbm\\orrbm.pyc\u001b[0m in \u001b[0;36mgenerate_or_dataset_with_shift\u001b[1;34m(S, SZ, ref_SZ, x_shift, y_shift, n_samples)\u001b[0m\n\u001b[0;32m     37\u001b[0m     \u001b[0mref_YZ\u001b[0m \u001b[1;33m=\u001b[0m \u001b[0mref_SZ\u001b[0m\u001b[1;33m[\u001b[0m\u001b[0msi\u001b[0m\u001b[1;33m[\u001b[0m\u001b[1;33m:\u001b[0m\u001b[1;33m,\u001b[0m\u001b[1;36m1\u001b[0m\u001b[1;33m]\u001b[0m\u001b[1;33m]\u001b[0m\u001b[1;33m\u001b[0m\u001b[0m\n\u001b[0;32m     38\u001b[0m \u001b[1;33m\u001b[0m\u001b[0m\n\u001b[1;32m---> 39\u001b[1;33m     \u001b[0mO\u001b[0m \u001b[1;33m=\u001b[0m \u001b[0mor_sample_with_shift\u001b[0m\u001b[1;33m(\u001b[0m\u001b[0mX\u001b[0m\u001b[1;33m,\u001b[0m \u001b[0mY\u001b[0m\u001b[1;33m,\u001b[0m \u001b[0mx_shift\u001b[0m\u001b[1;33m,\u001b[0m \u001b[0my_shift\u001b[0m\u001b[1;33m)\u001b[0m\u001b[1;33m\u001b[0m\u001b[0m\n\u001b[0m\u001b[0;32m     40\u001b[0m \u001b[1;33m\u001b[0m\u001b[0m\n\u001b[0;32m     41\u001b[0m     \u001b[1;32mreturn\u001b[0m \u001b[0mX\u001b[0m\u001b[1;33m,\u001b[0m \u001b[0mXZ\u001b[0m\u001b[1;33m,\u001b[0m \u001b[0mref_XZ\u001b[0m\u001b[1;33m,\u001b[0m \u001b[0mY\u001b[0m\u001b[1;33m,\u001b[0m \u001b[0mYZ\u001b[0m\u001b[1;33m,\u001b[0m \u001b[0mref_YZ\u001b[0m\u001b[1;33m,\u001b[0m \u001b[0mO\u001b[0m\u001b[1;33m\u001b[0m\u001b[0m\n",
        "\u001b[1;32mC:\\Local\\surban\\dev\\ml\\rbm\\orrbm.pyc\u001b[0m in \u001b[0;36mor_sample_with_shift\u001b[1;34m(x, y, x_shift, y_shift)\u001b[0m\n\u001b[0;32m     61\u001b[0m     \u001b[1;32massert\u001b[0m \u001b[1;36m0\u001b[0m \u001b[1;33m<=\u001b[0m \u001b[0mx_shift\u001b[0m \u001b[1;33m<=\u001b[0m \u001b[0mwidth\u001b[0m \u001b[1;32mand\u001b[0m \u001b[1;36m0\u001b[0m \u001b[1;33m<=\u001b[0m \u001b[0my_shift\u001b[0m \u001b[1;33m<=\u001b[0m \u001b[0mheight\u001b[0m\u001b[1;33m\u001b[0m\u001b[0m\n\u001b[0;32m     62\u001b[0m \u001b[1;33m\u001b[0m\u001b[0m\n\u001b[1;32m---> 63\u001b[1;33m     \u001b[0mo\u001b[0m \u001b[1;33m=\u001b[0m \u001b[0mgp\u001b[0m\u001b[1;33m.\u001b[0m\u001b[0mzeros\u001b[0m\u001b[1;33m(\u001b[0m\u001b[1;33m(\u001b[0m\u001b[0mn_samples\u001b[0m\u001b[1;33m,\u001b[0m \u001b[0mheight\u001b[0m \u001b[1;33m+\u001b[0m \u001b[0my_shift\u001b[0m\u001b[1;33m,\u001b[0m \u001b[0mwidth\u001b[0m \u001b[1;33m+\u001b[0m \u001b[0mx_shift\u001b[0m\u001b[1;33m)\u001b[0m\u001b[1;33m)\u001b[0m\u001b[1;33m\u001b[0m\u001b[0m\n\u001b[0m\u001b[0;32m     64\u001b[0m     \u001b[0mo\u001b[0m\u001b[1;33m[\u001b[0m\u001b[1;33m:\u001b[0m\u001b[1;33m,\u001b[0m\u001b[1;36m0\u001b[0m\u001b[1;33m:\u001b[0m\u001b[0mheight\u001b[0m\u001b[1;33m,\u001b[0m\u001b[1;36m0\u001b[0m\u001b[1;33m:\u001b[0m\u001b[0mwidth\u001b[0m\u001b[1;33m]\u001b[0m \u001b[1;33m=\u001b[0m \u001b[0mx\u001b[0m\u001b[1;33m\u001b[0m\u001b[0m\n\u001b[0;32m     65\u001b[0m     \u001b[0mo\u001b[0m\u001b[1;33m[\u001b[0m\u001b[1;33m:\u001b[0m\u001b[1;33m,\u001b[0m\u001b[0my_shift\u001b[0m\u001b[1;33m:\u001b[0m\u001b[1;33m,\u001b[0m\u001b[0mx_shift\u001b[0m\u001b[1;33m:\u001b[0m\u001b[1;33m]\u001b[0m \u001b[1;33m=\u001b[0m \u001b[0mo\u001b[0m\u001b[1;33m[\u001b[0m\u001b[1;33m:\u001b[0m\u001b[1;33m,\u001b[0m\u001b[0my_shift\u001b[0m\u001b[1;33m:\u001b[0m\u001b[1;33m,\u001b[0m\u001b[0mx_shift\u001b[0m\u001b[1;33m:\u001b[0m\u001b[1;33m]\u001b[0m \u001b[1;33m+\u001b[0m \u001b[0my\u001b[0m\u001b[1;33m\u001b[0m\u001b[0m\n",
        "\u001b[1;32mC:\\Python27\\lib\\site-packages\\gnumpy.pyc\u001b[0m in \u001b[0;36mzeros\u001b[1;34m(shape)\u001b[0m\n\u001b[0;32m    341\u001b[0m  \u001b[1;32mif\u001b[0m \u001b[0m_isSequence\u001b[0m\u001b[1;33m(\u001b[0m\u001b[0mshape\u001b[0m\u001b[1;33m)\u001b[0m \u001b[1;32mor\u001b[0m \u001b[0mtype\u001b[0m\u001b[1;33m(\u001b[0m\u001b[0mshape\u001b[0m\u001b[1;33m)\u001b[0m \u001b[1;33m==\u001b[0m \u001b[0mtypes\u001b[0m\u001b[1;33m.\u001b[0m\u001b[0mGeneratorType\u001b[0m\u001b[1;33m:\u001b[0m \u001b[0mshape\u001b[0m \u001b[1;33m=\u001b[0m \u001b[0mtuple\u001b[0m\u001b[1;33m(\u001b[0m\u001b[0mshape\u001b[0m\u001b[1;33m)\u001b[0m\u001b[1;33m\u001b[0m\u001b[0m\n\u001b[0;32m    342\u001b[0m  \u001b[1;32melse\u001b[0m\u001b[1;33m:\u001b[0m \u001b[0mshape\u001b[0m \u001b[1;33m=\u001b[0m \u001b[1;33m(\u001b[0m\u001b[0mshape\u001b[0m\u001b[1;33m,\u001b[0m\u001b[1;33m)\u001b[0m\u001b[1;33m\u001b[0m\u001b[0m\n\u001b[1;32m--> 343\u001b[1;33m  \u001b[0mret\u001b[0m \u001b[1;33m=\u001b[0m \u001b[0mempty\u001b[0m\u001b[1;33m(\u001b[0m\u001b[0mshape\u001b[0m\u001b[1;33m)\u001b[0m\u001b[1;33m\u001b[0m\u001b[0m\n\u001b[0m\u001b[0;32m    344\u001b[0m  \u001b[0mret\u001b[0m\u001b[1;33m.\u001b[0m\u001b[0m_base\u001b[0m\u001b[1;33m.\u001b[0m\u001b[0massign\u001b[0m\u001b[1;33m(\u001b[0m\u001b[1;36m0\u001b[0m\u001b[1;33m)\u001b[0m\u001b[1;33m\u001b[0m\u001b[0m\n\u001b[0;32m    345\u001b[0m  \u001b[1;32mreturn\u001b[0m \u001b[0mret\u001b[0m\u001b[1;33m\u001b[0m\u001b[0m\n",
        "\u001b[1;32mC:\\Python27\\lib\\site-packages\\gnumpy.pyc\u001b[0m in \u001b[0;36mempty\u001b[1;34m(shape)\u001b[0m\n\u001b[0;32m    336\u001b[0m  \u001b[1;32mif\u001b[0m \u001b[0m_isSequence\u001b[0m\u001b[1;33m(\u001b[0m\u001b[0mshape\u001b[0m\u001b[1;33m)\u001b[0m \u001b[1;32mor\u001b[0m \u001b[0mtype\u001b[0m\u001b[1;33m(\u001b[0m\u001b[0mshape\u001b[0m\u001b[1;33m)\u001b[0m \u001b[1;33m==\u001b[0m \u001b[0mtypes\u001b[0m\u001b[1;33m.\u001b[0m\u001b[0mGeneratorType\u001b[0m\u001b[1;33m:\u001b[0m \u001b[0mshape\u001b[0m \u001b[1;33m=\u001b[0m \u001b[0mtuple\u001b[0m\u001b[1;33m(\u001b[0m\u001b[0mshape\u001b[0m\u001b[1;33m)\u001b[0m\u001b[1;33m\u001b[0m\u001b[0m\n\u001b[0;32m    337\u001b[0m  \u001b[1;32melse\u001b[0m\u001b[1;33m:\u001b[0m \u001b[0mshape\u001b[0m \u001b[1;33m=\u001b[0m \u001b[1;33m(\u001b[0m\u001b[0mshape\u001b[0m\u001b[1;33m,\u001b[0m\u001b[1;33m)\u001b[0m\u001b[1;33m\u001b[0m\u001b[0m\n\u001b[1;32m--> 338\u001b[1;33m  \u001b[1;32mreturn\u001b[0m \u001b[0mgarray\u001b[0m\u001b[1;33m(\u001b[0m\u001b[0m_new_cm\u001b[0m\u001b[1;33m(\u001b[0m\u001b[0m_prodT\u001b[0m\u001b[1;33m(\u001b[0m\u001b[0mshape\u001b[0m\u001b[1;33m)\u001b[0m\u001b[1;33m)\u001b[0m\u001b[1;33m,\u001b[0m \u001b[0mshape\u001b[0m\u001b[1;33m,\u001b[0m \u001b[0mNone\u001b[0m\u001b[1;33m)\u001b[0m\u001b[1;33m\u001b[0m\u001b[0m\n\u001b[0m\u001b[0;32m    339\u001b[0m \u001b[1;33m\u001b[0m\u001b[0m\n\u001b[0;32m    340\u001b[0m \u001b[1;32mdef\u001b[0m \u001b[0mzeros\u001b[0m \u001b[1;33m(\u001b[0m\u001b[0mshape\u001b[0m\u001b[1;33m)\u001b[0m\u001b[1;33m:\u001b[0m\u001b[1;33m\u001b[0m\u001b[0m\n",
        "\u001b[1;32mC:\\Python27\\lib\\site-packages\\gnumpy.pyc\u001b[0m in \u001b[0;36m_new_cm\u001b[1;34m(sizeOrShape)\u001b[0m\n\u001b[0;32m    224\u001b[0m   \u001b[1;32mreturn\u001b[0m \u001b[0mret\u001b[0m\u001b[1;33m\u001b[0m\u001b[0m\n\u001b[0;32m    225\u001b[0m  \u001b[1;32mexcept\u001b[0m \u001b[0m_cudamat\u001b[0m\u001b[1;33m.\u001b[0m\u001b[0mCUDAMatException\u001b[0m\u001b[1;33m,\u001b[0m \u001b[0me\u001b[0m\u001b[1;33m:\u001b[0m \u001b[1;31m# this means that malloc failed\u001b[0m\u001b[1;33m\u001b[0m\u001b[0m\n\u001b[1;32m--> 226\u001b[1;33m   \u001b[1;32mraise\u001b[0m \u001b[0mMemoryError\u001b[0m\u001b[1;33m(\u001b[0m\u001b[1;34m'The GPU failed to allocate the requested %d bytes of memory. This doesn\\'t mean that your program is using too much memory. It does, however, mean that you should reduce the value of gnumpy.max_memory_usage (currently %s), to always have some memory unused (which is necessary to find contiguous large blocks of memory to allocate). Failing to allocate enough memory makes the GPU feel very unwell, so you are advised to restart Python now, or expect to see incoherent error messages and risk causing more serious damage.'\u001b[0m \u001b[1;33m%\u001b[0m \u001b[1;33m(\u001b[0m\u001b[0msize\u001b[0m\u001b[1;33m*\u001b[0m\u001b[1;36m4\u001b[0m\u001b[1;33m,\u001b[0m \u001b[0mstr\u001b[0m\u001b[1;33m(\u001b[0m\u001b[0mmax_memory_usage\u001b[0m\u001b[1;33m)\u001b[0m\u001b[1;33m)\u001b[0m\u001b[1;33m)\u001b[0m\u001b[1;33m\u001b[0m\u001b[0m\n\u001b[0m\u001b[0;32m    227\u001b[0m \u001b[1;33m\u001b[0m\u001b[0m\n\u001b[0;32m    228\u001b[0m \u001b[1;32mdef\u001b[0m \u001b[0mfree_reuse_cache\u001b[0m\u001b[1;33m(\u001b[0m\u001b[0mcompletely\u001b[0m\u001b[1;33m=\u001b[0m\u001b[0mTrue\u001b[0m\u001b[1;33m)\u001b[0m\u001b[1;33m:\u001b[0m\u001b[1;33m\u001b[0m\u001b[0m\n",
        "\u001b[1;31mMemoryError\u001b[0m: The GPU failed to allocate the requested 39200000 bytes of memory. This doesn't mean that your program is using too much memory. It does, however, mean that you should reduce the value of gnumpy.max_memory_usage (currently inf), to always have some memory unused (which is necessary to find contiguous large blocks of memory to allocate). Failing to allocate enough memory makes the GPU feel very unwell, so you are advised to restart Python now, or expect to see incoherent error messages and risk causing more serious damage."
       ]
      },
      {
       "output_type": "stream",
       "stream": "stdout",
       "text": [
        "7\n"
       ]
      }
     ],
     "prompt_number": 4
    },
    {
     "cell_type": "code",
     "collapsed": false,
     "input": [
      "[(n, type(getattr(acc, n))) for n in dir(acc)]"
     ],
     "language": "python",
     "metadata": {},
     "outputs": [
      {
       "output_type": "pyout",
       "prompt_number": 12,
       "text": [
        "[('__class__', type),\n",
        " ('__delattr__', method-wrapper),\n",
        " ('__dict__', dict),\n",
        " ('__doc__', NoneType),\n",
        " ('__format__', builtin_function_or_method),\n",
        " ('__getattribute__', method-wrapper),\n",
        " ('__hash__', method-wrapper),\n",
        " ('__init__', instancemethod),\n",
        " ('__module__', str),\n",
        " ('__new__', builtin_function_or_method),\n",
        " ('__reduce__', builtin_function_or_method),\n",
        " ('__reduce_ex__', builtin_function_or_method),\n",
        " ('__repr__', method-wrapper),\n",
        " ('__setattr__', method-wrapper),\n",
        " ('__sizeof__', builtin_function_or_method),\n",
        " ('__str__', method-wrapper),\n",
        " ('__subclasshook__', builtin_function_or_method),\n",
        " ('__weakref__', NoneType),\n",
        " ('accuracy_interval', instancemethod),\n",
        " ('classifier_accuracy', float),\n",
        " ('comb', numpy.ndarray),\n",
        " ('guilty_samples', numpy.ndarray),\n",
        " ('incorrect_samples', numpy.ndarray),\n",
        " ('label', str),\n",
        " ('n_samples', long),\n",
        " ('n_success', long),\n",
        " ('output_data_line', instancemethod),\n",
        " ('output_errors', instancemethod),\n",
        " ('sep_X', numpy.ndarray),\n",
        " ('sep_XZ', numpy.ndarray),\n",
        " ('sep_Y', numpy.ndarray),\n",
        " ('sep_YZ', numpy.ndarray),\n",
        " ('tag', NoneType),\n",
        " ('tmpl_X', numpy.ndarray),\n",
        " ('tmpl_XZ', numpy.ndarray),\n",
        " ('tmpl_Y', numpy.ndarray),\n",
        " ('tmpl_YZ', numpy.ndarray),\n",
        " ('tmpl_ref_XZ', numpy.ndarray),\n",
        " ('tmpl_ref_YZ', numpy.ndarray)]"
       ]
      }
     ],
     "prompt_number": 12
    },
    {
     "cell_type": "code",
     "collapsed": false,
     "input": [
      "ty"
     ],
     "language": "python",
     "metadata": {},
     "outputs": []
    }
   ],
   "metadata": {}
  }
 ]
}