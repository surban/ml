{
 "metadata": {
  "name": "statsimu"
 },
 "nbformat": 3,
 "nbformat_minor": 0,
 "worksheets": [
  {
   "cells": [
    {
     "cell_type": "code",
     "collapsed": false,
     "input": [
      "%load_ext autoreload\n",
      "%autoreload 2\n",
      "\n",
      "import numpy as np\n",
      "import common.stats as stats\n",
      "import common.util\n",
      "import common.progress\n",
      "\n",
      "from __future__ import division"
     ],
     "language": "python",
     "metadata": {},
     "outputs": [],
     "prompt_number": 4
    },
    {
     "cell_type": "heading",
     "level": 2,
     "metadata": {},
     "source": [
      "Model: Classifier with random error rate"
     ]
    },
    {
     "cell_type": "raw",
     "metadata": {},
     "source": [
      "C -> A <- \\beta (uniform)"
     ]
    },
    {
     "cell_type": "code",
     "collapsed": false,
     "input": [
      "def sample_C():\n",
      "    return np.random.randint(low=0, high=10)\n",
      "\n",
      "def sample_beta():\n",
      "    assert beta0-sigma >= 0\n",
      "    assert beta0+sigma <= 1\n",
      "    return np.random.uniform(low=beta0-sigma, high=beta0+sigma)\n",
      "\n",
      "def sample_A(C, beta):\n",
      "    isequal = np.random.binomial(1, beta)\n",
      "    if isequal:\n",
      "        return C\n",
      "    else:\n",
      "        rnd = C\n",
      "        while rnd == C:\n",
      "            rnd = np.random.randint(low=0, high=10)\n",
      "        return rnd\n",
      "    \n",
      "def sample_all():\n",
      "    C = sample_C()\n",
      "    beta = sample_beta()\n",
      "    A = sample_A(C, beta)\n",
      "    return np.asarray([C, beta, A])\n",
      "    "
     ],
     "language": "python",
     "metadata": {},
     "outputs": [],
     "prompt_number": 161
    },
    {
     "cell_type": "code",
     "collapsed": false,
     "input": [
      "beta0=0.9\n",
      "sigma=0.09\n",
      "\n",
      "sample_beta()"
     ],
     "language": "python",
     "metadata": {},
     "outputs": [
      {
       "output_type": "pyout",
       "prompt_number": 162,
       "text": [
        "0.9511960547178251"
       ]
      }
     ],
     "prompt_number": 162
    },
    {
     "cell_type": "code",
     "collapsed": false,
     "input": [
      "beta0=0.6\n",
      "sigma=0.4\n",
      "n_samples = 1000\n",
      "n_iterations = 1000\n",
      "alpha = 0.05\n",
      "faults = 0\n",
      "p_equal_pms = []\n",
      "\n",
      "for i in range(n_iterations):\n",
      "    if i % 100 == 0:\n",
      "        print \"%d / %d\" % (i, n_iterations)\n",
      "    samples = np.zeros((n_samples, 3))\n",
      "    for n in range(n_samples):\n",
      "        samples[n,:] = sample_all()\n",
      "    n_equal = np.count_nonzero(samples[:,0] == samples[:,2])\n",
      "    _, p_equal_pm = stats.binomial_p(n_equal, n_samples, alpha=alpha)\n",
      "    p_equal_low, p_equal_high = stats.binomial_p_confint(n_equal, n_samples, alpha=alpha)\n",
      "    if not common.util.interval_contains((p_equal_low, p_equal_high), beta0):\n",
      "        faults += 1\n",
      "    p_equal_pms.append(p_equal_pm)\n",
      "\n",
      "print \"p_equal: [%g, %g]\" % (p_equal_low, p_equal_high)   \n",
      "    \n",
      "fault_rate = faults / n_iterations\n",
      "print \"Prediction faults:              %g\" % fault_rate\n",
      "print \"Mean confidence interval size:  %g\" % (2*np.mean(p_equal_pms))\n",
      "    "
     ],
     "language": "python",
     "metadata": {},
     "outputs": [
      {
       "output_type": "stream",
       "stream": "stdout",
       "text": [
        "0 / 1000\n",
        "100 / 1000"
       ]
      },
      {
       "output_type": "stream",
       "stream": "stdout",
       "text": [
        "\n",
        "200 / 1000"
       ]
      },
      {
       "output_type": "stream",
       "stream": "stdout",
       "text": [
        "\n",
        "300 / 1000"
       ]
      },
      {
       "output_type": "stream",
       "stream": "stdout",
       "text": [
        "\n",
        "400 / 1000"
       ]
      },
      {
       "output_type": "stream",
       "stream": "stdout",
       "text": [
        "\n",
        "500 / 1000"
       ]
      },
      {
       "output_type": "stream",
       "stream": "stdout",
       "text": [
        "\n",
        "600 / 1000"
       ]
      },
      {
       "output_type": "stream",
       "stream": "stdout",
       "text": [
        "\n",
        "700 / 1000"
       ]
      },
      {
       "output_type": "stream",
       "stream": "stdout",
       "text": [
        "\n",
        "800 / 1000"
       ]
      },
      {
       "output_type": "stream",
       "stream": "stdout",
       "text": [
        "\n",
        "900 / 1000"
       ]
      },
      {
       "output_type": "stream",
       "stream": "stdout",
       "text": [
        "\n",
        "p_equal: [0.55143, 0.61257]"
       ]
      },
      {
       "output_type": "stream",
       "stream": "stdout",
       "text": [
        "\n",
        "Prediction faults:              0.046"
       ]
      },
      {
       "output_type": "stream",
       "stream": "stdout",
       "text": [
        "\n",
        "Mean confidence interval size:  0.0607105\n"
       ]
      }
     ],
     "prompt_number": 167
    },
    {
     "cell_type": "raw",
     "metadata": {},
     "source": [
      "sigma  predfaults\n",
      "==============\n",
      "0.001  0.042\n",
      "0.01   0.042\n",
      "0.1    0.04\n",
      "0.4    0.054 / 0.044\n"
     ]
    },
    {
     "cell_type": "heading",
     "level": 2,
     "metadata": {},
     "source": [
      "Model: Generator with fixed error rate and classifier with random error rate"
     ]
    },
    {
     "cell_type": "raw",
     "metadata": {},
     "source": [
      "C -> Q -> A <- \\beta (uniform)"
     ]
    },
    {
     "cell_type": "code",
     "collapsed": false,
     "input": [
      "def sample_C():\n",
      "    return np.random.randint(low=0, high=10)\n",
      "\n",
      "def sample_beta():\n",
      "    assert beta0-sigma >= 0\n",
      "    assert beta0+sigma <= 1\n",
      "    return np.random.uniform(low=beta0-sigma, high=beta0+sigma)\n",
      "\n",
      "def sample_Q(C):\n",
      "    isequal = np.random.binomial(1, alpha)\n",
      "    if isequal:\n",
      "        return C\n",
      "    else:\n",
      "        rnd = C\n",
      "        while rnd == C:\n",
      "            rnd = np.random.randint(low=0, high=10)\n",
      "        return rnd    \n",
      "\n",
      "def sample_A(Q, beta):\n",
      "    isequal = np.random.binomial(1, beta)\n",
      "    if isequal:\n",
      "        return Q\n",
      "    else:\n",
      "        rnd = Q\n",
      "        while rnd == Q:\n",
      "            rnd = np.random.randint(low=0, high=10)\n",
      "        return rnd\n",
      "    \n",
      "def sample_all():\n",
      "    C = sample_C()\n",
      "    Q = sample_Q(C)\n",
      "    beta = sample_beta()\n",
      "    A = sample_A(Q, beta)\n",
      "    return np.asarray([C, Q, beta, A])\n",
      "\n",
      "def alpha_from_phat(phat):\n",
      "    return (9*phat + beta0 - 1) / (10*beta0 - 1)\n",
      "    "
     ],
     "language": "python",
     "metadata": {},
     "outputs": [],
     "prompt_number": 2
    },
    {
     "cell_type": "code",
     "collapsed": false,
     "input": [
      "alpha=1-0.02\n",
      "beta0=1-0.0599\n",
      "sigma=0.03\n",
      "n_samples = 50000\n",
      "n_iterations = 2000\n",
      "conf_alpha = 0.05\n",
      "faults = 0\n",
      "\n",
      "for i in range(n_iterations):\n",
      "    if i % 100 == 0:\n",
      "        common.progress.status(i, n_iterations)\n",
      "    samples = np.zeros((n_samples, 4))\n",
      "    for n in range(n_samples):\n",
      "        samples[n,:] = sample_all()\n",
      "    n_equal = np.count_nonzero(samples[:,0] == samples[:,3])\n",
      "    p_equal_low, p_equal_high = stats.binomial_p_confint(n_equal, n_samples, alpha=conf_alpha)\n",
      "    alphahat_low = alpha_from_phat(p_equal_low)\n",
      "    alphahat_high = alpha_from_phat(p_equal_high)\n",
      "\n",
      "    if not common.util.interval_contains((alphahat_low, alphahat_high), alpha):\n",
      "        faults += 1\n",
      "        \n",
      "print \"1-alphahat:        [%g, %g]\" % (1-alphahat_high, 1-alphahat_low)    \n",
      "      \n",
      "fault_rate = faults / n_iterations\n",
      "print \"Prediction faults: %g (should be: %g)\" % (fault_rate, conf_alpha)\n",
      "    "
     ],
     "language": "python",
     "metadata": {},
     "outputs": [
      {
       "output_type": "stream",
       "stream": "stdout",
       "text": [
        "1-alphahat:        [0.016978, 0.0220173]\n",
        "Prediction faults: 0.044 (should be: 0.05)"
       ]
      },
      {
       "output_type": "stream",
       "stream": "stdout",
       "text": [
        "\n"
       ]
      }
     ],
     "prompt_number": 13
    },
    {
     "cell_type": "raw",
     "metadata": {},
     "source": [
      "sigma   faults\n",
      "==============\n",
      "0.0001   0.06\n",
      "0.03     0.058 / 0.061 / 0.052 / 0.056 (=> higher than 0.5)\n",
      "0.2      0.05 / 0.045"
     ]
    }
   ],
   "metadata": {}
  }
 ]
}