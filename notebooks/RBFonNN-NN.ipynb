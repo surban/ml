{
 "metadata": {
  "name": "RBFonNN-NN"
 },
 "nbformat": 3,
 "nbformat_minor": 0,
 "worksheets": [
  {
   "cells": [
    {
     "cell_type": "code",
     "collapsed": false,
     "input": [
      "%load_ext autoreload\n",
      "%autoreload 2\n",
      "\n",
      "import climin\n",
      "import numpy as np\n",
      "import theano\n",
      "import theano.tensor as T\n",
      "import breze.util\n",
      "\n",
      "import common.util\n",
      "from nn.nn import OneHiddenLayerNN, StackedRBF\n",
      "from common.util import floatx\n",
      "from math import floor"
     ],
     "language": "python",
     "metadata": {},
     "outputs": [
      {
       "output_type": "stream",
       "stream": "stdout",
       "text": [
        "gnumpy: failed to import cudamat. Using npmat instead. No GPU will be used.\n"
       ]
      }
     ],
     "prompt_number": 1
    },
    {
     "cell_type": "code",
     "collapsed": false,
     "input": [
      "# load data\n",
      "np.random.seed(100)\n",
      "RX, RZ, VX, VZ, TX, TZ = common.util.load_theano_data('../datasets/boston_split.mat')   "
     ],
     "language": "python",
     "metadata": {},
     "outputs": [],
     "prompt_number": 2
    },
    {
     "cell_type": "heading",
     "level": 2,
     "metadata": {},
     "source": [
      "Reference: neural network with one hidden layer"
     ]
    },
    {
     "cell_type": "code",
     "collapsed": false,
     "input": [
      "# hyperparameters\n",
      "n_targets = RZ.get_value().shape[0]\n",
      "n_features = RX.get_value().shape[0]\n",
      "n_hidden = 50"
     ],
     "language": "python",
     "metadata": {},
     "outputs": [],
     "prompt_number": 8
    },
    {
     "cell_type": "code",
     "collapsed": false,
     "input": [
      "# Theano expressions\n",
      "\n",
      "# parameters\n",
      "ps = breze.util.ParameterSet(W=(n_targets, n_hidden),\n",
      "                             Wb=(n_targets,),\n",
      "                             V=(n_hidden, n_features),\n",
      "                             Vb=(n_hidden,))\n",
      "\n",
      "# expressions\n",
      "nn = OneHiddenLayerNN(ps.W, ps.Wb, ps.V, ps.Vb)\n",
      "RL = nn.regression_objective(RX, RZ)\n",
      "\n",
      "# functions\n",
      "f_RL = theano.function(inputs=[ps.flat], outputs=RL)\n",
      "f_VL = theano.function(inputs=[ps.flat], outputs=nn.regression_objective(VX, VZ))\n",
      "f_TL = theano.function(inputs=[ps.flat], outputs=nn.regression_objective(TX, TZ))\n",
      "f_dRL = theano.function(inputs=[ps.flat], outputs=T.grad(RL, ps.flat)) "
     ],
     "language": "python",
     "metadata": {},
     "outputs": [],
     "prompt_number": 9
    },
    {
     "cell_type": "code",
     "collapsed": false,
     "input": [
      "# initialize parameters\n",
      "ps.data[:] = np.random.random(ps.data.shape) - 0.5\n",
      "\n",
      "# test Theano expressions\n",
      "print \"Training loss:   %f\" % f_RL(ps.data)\n",
      "print \"Validation loss: %f\" % f_VL(ps.data)\n",
      "print \"Test loss:       %f\" % f_TL(ps.data)\n",
      "print \"Gradient shape:    \", f_dRL(ps.data).shape"
     ],
     "language": "python",
     "metadata": {},
     "outputs": [
      {
       "output_type": "stream",
       "stream": "stdout",
       "text": [
        "Training loss:   606.168339\n",
        "Validation loss: 653.926802"
       ]
      },
      {
       "output_type": "stream",
       "stream": "stdout",
       "text": [
        "\n",
        "Test loss:       617.243582"
       ]
      },
      {
       "output_type": "stream",
       "stream": "stdout",
       "text": [
        "\n",
        "Gradient shape:    "
       ]
      },
      {
       "output_type": "stream",
       "stream": "stdout",
       "text": [
        " (1651L,)\n"
       ]
      }
     ],
     "prompt_number": 10
    },
    {
     "cell_type": "code",
     "collapsed": false,
     "input": [
      "# initialize \n",
      "ps.data[:] = np.random.random(ps.data.shape) - 0.5\n",
      "his = common.util.ParameterHistory()\n",
      "\n",
      "# optimize \n",
      "#opt = climin.Lbfgs(par, pm.make_func(f_RL), pm.make_func(f_dL))\n",
      "opt = climin.Rprop(ps.data, f_RL, f_dRL)\n",
      "\n",
      "for iter, sts in enumerate(opt):\n",
      "    if iter % 10 == 0:\n",
      "        trn_loss = f_RL(ps.data)\n",
      "        val_loss = f_VL(ps.data)\n",
      "        tst_loss = f_TL(ps.data)\n",
      "        \n",
      "        his.add(iter, ps.data, trn_loss, val_loss, tst_loss)\n",
      "        if his.should_terminate:\n",
      "            break\n",
      "            \n",
      "ps.data[:] = his.best_pars\n",
      "his.plot()"
     ],
     "language": "python",
     "metadata": {},
     "outputs": [
      {
       "html": [
        "<pre>260: training:   5.98050  validation:  75.10251 (best:  18.79698)  test:  76.25959"
       ],
       "output_type": "display_data"
      },
      {
       "output_type": "stream",
       "stream": "stdout",
       "text": [
        "best iteration:    50  best validation test loss:  18.79698  best test loss:  43.29172\n"
       ]
      },
      {
       "output_type": "display_data",
       "png": "[encoded data removed]"
      }
     ],
     "prompt_number": 13
    }
   ],
   "metadata": {}
  }
 ]
}