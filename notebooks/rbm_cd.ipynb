{
 "metadata": {
  "name": "rbm_cd"
 },
 "nbformat": 3,
 "nbformat_minor": 0,
 "worksheets": [
  {
   "cells": [
    {
     "cell_type": "code",
     "collapsed": true,
     "input": [
      "%load_ext autoreload\n",
      "%autoreload 2\n",
      "\n",
      "from rbm.rbm import train_rbm\n",
      "from rbm.config import TrainingConfiguration\n",
      "from rbm.ais import AnnealedImportanceSampler\n",
      "import rbm.util\n",
      "import gnumpy as gp\n",
      "import numpy as np\n",
      "gp.expensive_check_probability = 0"
     ],
     "language": "python",
     "metadata": {},
     "outputs": [],
     "prompt_number": 1
    },
    {
     "cell_type": "code",
     "collapsed": false,
     "input": [
      "tcfg = TrainingConfiguration(dataset='rmnist',\n",
      "                             n_vis=784, n_hid=500,\n",
      "                             batch_size=100,\n",
      "                             n_gibbs_steps=3,\n",
      "                             epochs=15,\n",
      "                             step_rate=0.05,\n",
      "                             use_pcd=False,\n",
      "                             binarize_data=True,\n",
      "                             initial_momentum=0.5, final_momentum=0.9, \n",
      "                             use_final_momentum_from_epoch=5,\n",
      "                             weight_cost=0.0002,\n",
      "                             init_weight_sigma=0.01, init_bias_sigma=0,\n",
      "                             seed=1)\n",
      "rbm.util.enter_rbm_plot_directory(tcfg)"
     ],
     "language": "python",
     "metadata": {},
     "outputs": [
      {
       "output_type": "stream",
       "stream": "stdout",
       "text": [
        "gnumpy: failed to use gpu_lock. Using board #0 without knowing whether it is in use or not.\n",
        "Writing output into directory rmnist-rbm-500-cd03-mbs0100-bin-sr0.050-m0.50;0.90(05)-c0.0002-iws0.0100-ibs0.0000-0000000001"
       ]
      },
      {
       "output_type": "stream",
       "stream": "stdout",
       "text": [
        "\n"
       ]
      }
     ],
     "prompt_number": "*"
    },
    {
     "cell_type": "code",
     "collapsed": false,
     "input": [
      "myrbm = train_rbm(tcfg, print_cost=False)"
     ],
     "language": "python",
     "metadata": {},
     "outputs": [],
     "prompt_number": "*"
    },
    {
     "cell_type": "code",
     "collapsed": false,
     "input": [
      "ais = AnnealedImportanceSampler(myrbm)\n",
      "ais.init_using_dataset(tcfg.X)\n",
      "betas = np.concatenate((np.linspace(0.0, 0.5,   500, endpoint=False),\n",
      "                        np.linspace(0.5, 0.9,  4000, endpoint=False),\n",
      "                        np.linspace(0.9, 1.0, 10000)))\n",
      "logpf, logpf_low, logpf_high = ais.log_partition_function(betas=betas,\n",
      "                                                          ais_runs=100)\n",
      "myrbm.log_pf = logpf\n",
      "print \"log Z = %g (%g, %g)\" % (logpf, logpf_low, logpf_high)"
     ],
     "language": "python",
     "metadata": {},
     "outputs": [],
     "prompt_number": "*"
    },
    {
     "cell_type": "code",
     "collapsed": false,
     "input": [
      "avg_ll_training = gp.mean(myrbm.normalized_log_p_vis(tcfg.X))\n",
      "avg_ll_test = gp.mean(myrbm.normalized_log_p_vis(tcfg.TX))\n",
      "print \"<log P(training set)>  = %g\" % avg_ll_training\n",
      "print \"<log P(test set)>      = %g\" % avg_ll_test"
     ],
     "language": "python",
     "metadata": {},
     "outputs": [],
     "prompt_number": "*"
    }
   ],
   "metadata": {}
  }
 ]
}