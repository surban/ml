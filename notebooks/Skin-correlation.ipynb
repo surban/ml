{
 "metadata": {
  "name": "",
  "signature": "sha256:e951df5add89e5cc6ad9f9500c2b17fd4e8f4922c8a08e3dee30ecd237a7b485"
 },
 "nbformat": 3,
 "nbformat_minor": 0,
 "worksheets": [
  {
   "cells": [
    {
     "cell_type": "code",
     "collapsed": false,
     "input": [
      "%load_ext autoreload\n",
      "%autoreload 2\n",
      "#%load_ext line_profiler\n",
      "\n",
      "import numpy as np\n",
      "import matplotlib.pyplot as plt\n",
      "from scipy.stats.stats import pearsonr\n",
      "\n",
      "from ml.apps.skin.timeseries import *\n",
      "from ml.apps.skin.workingset import *\n",
      "from ml.datasets.skin import SkinDataset\n",
      "from ml.common.util import ParameterHistory\n",
      "from ml.common.test import check_gradient, check_directional_gradient\n"
     ],
     "language": "python",
     "metadata": {},
     "outputs": [
      {
       "output_type": "stream",
       "stream": "stdout",
       "text": [
        "The autoreload extension is already loaded. To reload it, use:\n",
        "  %reload_ext autoreload\n"
       ]
      }
     ],
     "prompt_number": 11
    },
    {
     "cell_type": "heading",
     "level": 2,
     "metadata": {},
     "source": [
      "Dataset"
     ]
    },
    {
     "cell_type": "code",
     "collapsed": false,
     "input": [
      "#ws = SkinWorkingset(\"raising_small\", (1,1), force_step=0.1, skin_step=0.02, curve_limit=4)\n",
      "ws = SkinWorkingset(\"bidir_tiny\", (1,1))\n",
      "#ws = SkinWorkingset(\"bidir_small\", (3,3), force_step=0.1, skin_step=0.005, skin_max=1)"
     ],
     "language": "python",
     "metadata": {},
     "outputs": [
      {
       "output_type": "stream",
       "stream": "stdout",
       "text": [
        "Dataset \\\\brml.tum.de\\dfs\\nthome\\surban\\dev\\indentor\\indentor\\apps\\out\\bidir_tiny.skn:\n",
        "     taxel          train   validation   test\n",
        "     0,0              8       1            1"
       ]
      },
      {
       "output_type": "stream",
       "stream": "stdout",
       "text": [
        "\n",
        "     0,1              8       1            1\n",
        "     0,2              8       1            1\n",
        "     0,3              8       1            1"
       ]
      },
      {
       "output_type": "stream",
       "stream": "stdout",
       "text": [
        "\n",
        "     0,4              8       1            1\n",
        "     0,5              8       1            1\n",
        "     0,6              8       1            1\n",
        "     0,7              8       1            1\n",
        "     1,0              8       1            1"
       ]
      },
      {
       "output_type": "stream",
       "stream": "stdout",
       "text": [
        "\n",
        "     1,1              8       1            1\n",
        "     1,2              8       1            1\n",
        "     1,3              8       1            1\n",
        "     1,4              8       1            1\n",
        "     1,5              8       1            1\n",
        "     1,6              8       1            1\n",
        "     1,7              8       1            1\n",
        "     2,0              8       1            1"
       ]
      },
      {
       "output_type": "stream",
       "stream": "stdout",
       "text": [
        "\n",
        "     2,1              8       1            1\n",
        "     2,2              8       1            1\n",
        "     2,3              8       1            1\n",
        "     2,4              8       1            1\n",
        "     2,5              8       1            1\n",
        "     2,6              8       1            1\n",
        "     2,7              8       1            1\n",
        "     3,0              8       1            1\n",
        "     3,1              8       1            1"
       ]
      },
      {
       "output_type": "stream",
       "stream": "stdout",
       "text": [
        "\n",
        "     3,2              8       1            1"
       ]
      },
      {
       "output_type": "stream",
       "stream": "stdout",
       "text": [
        "\n",
        "     3,3              8       1            1"
       ]
      },
      {
       "output_type": "stream",
       "stream": "stdout",
       "text": [
        "\n",
        "     3,4              8       1            1"
       ]
      },
      {
       "output_type": "stream",
       "stream": "stdout",
       "text": [
        "\n",
        "     3,5              8       1            1"
       ]
      },
      {
       "output_type": "stream",
       "stream": "stdout",
       "text": [
        "\n",
        "     3,6              8       1            1"
       ]
      },
      {
       "output_type": "stream",
       "stream": "stdout",
       "text": [
        "\n",
        "     3,7              8       1            1"
       ]
      },
      {
       "output_type": "stream",
       "stream": "stdout",
       "text": [
        "\n",
        "     4,0              8       1            1"
       ]
      },
      {
       "output_type": "stream",
       "stream": "stdout",
       "text": [
        "\n",
        "     4,1              8       1            1"
       ]
      },
      {
       "output_type": "stream",
       "stream": "stdout",
       "text": [
        "\n",
        "     4,2              8       1            1"
       ]
      },
      {
       "output_type": "stream",
       "stream": "stdout",
       "text": [
        "\n",
        "     4,3              8       1            1"
       ]
      },
      {
       "output_type": "stream",
       "stream": "stdout",
       "text": [
        "\n",
        "     4,4              8       1            1"
       ]
      },
      {
       "output_type": "stream",
       "stream": "stdout",
       "text": [
        "\n",
        "     4,5              8       1            1"
       ]
      },
      {
       "output_type": "stream",
       "stream": "stdout",
       "text": [
        "\n",
        "     4,6              8       1            1"
       ]
      },
      {
       "output_type": "stream",
       "stream": "stdout",
       "text": [
        "\n",
        "     4,7              8       1            1\n",
        "     5,0              8       1            1"
       ]
      },
      {
       "output_type": "stream",
       "stream": "stdout",
       "text": [
        "\n",
        "     5,1              8       1            1\n",
        "     5,2              8       1            1\n",
        "     5,3              8       1            1\n",
        "     5,4              8       1            1\n",
        "     5,5              8       1            1\n",
        "     5,6              8       1            1\n",
        "     5,7              8       1            1\n",
        "     6,0              8       1            1"
       ]
      },
      {
       "output_type": "stream",
       "stream": "stdout",
       "text": [
        "\n",
        "     6,1              8       1            1\n",
        "     6,2              8       1            1\n",
        "     6,3              8       1            1\n",
        "     6,4              8       1            1\n",
        "     6,5              8       1            1\n",
        "     6,6              8       1            1\n",
        "     6,7              8       1            1\n",
        "     7,0              8       1            1\n",
        "     7,1              8       1            1"
       ]
      },
      {
       "output_type": "stream",
       "stream": "stdout",
       "text": [
        "\n",
        "     7,2              8       1            1\n",
        "     7,3              8       1            1\n",
        "     7,4              8       1            1\n",
        "     7,5              8       1            1\n",
        "     7,6              8       1            1\n",
        "     7,7              8       1            1\n",
        "Avg. datapoints per record: 2174"
       ]
      },
      {
       "output_type": "stream",
       "stream": "stdout",
       "text": [
        "\n",
        "Sampling interval:          0.01 s\n",
        "\n",
        "Using taxel  (1, 1)\n",
        "\n",
        "trn: next step:          17389 steps\n",
        "trn: curves:             8\n",
        "val: next step:          2394 steps\n",
        "val: curves:             1\n",
        "tst: next step:          2484 steps\n",
        "tst: curves:             1"
       ]
      },
      {
       "output_type": "stream",
       "stream": "stdout",
       "text": [
        "\n",
        "\n",
        "discrete force states:   253\n",
        "discrete skin states:    108\n"
       ]
      }
     ],
     "prompt_number": 4
    },
    {
     "cell_type": "code",
     "collapsed": false,
     "input": [
      "pcorr = np.zeros((8,8,8))\n",
      "for i in np.arange(8):\n",
      "    for j in np.arange(8):\n",
      "        # load taxel\n",
      "        ws.taxel = (i, j)\n",
      "        ws.build_data()\n",
      "        # calculate pearson correlation for all curves\n",
      "        for k in np.arange(8):\n",
      "            f,s = ws.get_fs_curve('trn', k)\n",
      "            pcc, pval = pearsonr(f,s)\n",
      "            pcorr[k, i, j] = pcc\n",
      "            \n",
      "pcorr = np.mean(pcorr, axis=0)            "
     ],
     "language": "python",
     "metadata": {},
     "outputs": [
      {
       "output_type": "stream",
       "stream": "stdout",
       "text": [
        "trn: next step:          17386 steps\n",
        "trn: curves:             8\n",
        "val: next step:          2396 steps\n",
        "val: curves:             1\n",
        "tst: next step:          2484 steps\n",
        "tst: curves:             1\n",
        "trn: next step:          17394 steps\n",
        "trn: curves:             8\n",
        "val: next step:          2396 steps\n",
        "val: curves:             1\n",
        "tst: next step:          2485 steps\n",
        "tst: curves:             1\n",
        "trn: next step:          17387 steps\n",
        "trn: curves:             8\n",
        "val: next step:          2393 steps\n",
        "val: curves:             1\n",
        "tst: next step:          2484 steps\n",
        "tst: curves:             1\n",
        "trn: next step:          17390 steps"
       ]
      },
      {
       "output_type": "stream",
       "stream": "stdout",
       "text": [
        "\n",
        "trn: curves:             8\n",
        "val: next step:          2393 steps\n",
        "val: curves:             1\n",
        "tst: next step:          2482 steps\n",
        "tst: curves:             1\n",
        "trn: next step:          17392 steps\n",
        "trn: curves:             8\n",
        "val: next step:          2396 steps\n",
        "val: curves:             1\n",
        "tst: next step:          2487 steps\n",
        "tst: curves:             1\n",
        "trn: next step:          17389 steps\n",
        "trn: curves:             8\n",
        "val: next step:          2394 steps\n",
        "val: curves:             1\n",
        "tst: next step:          2485 steps\n",
        "tst: curves:             1\n",
        "trn: next step:          17389 steps"
       ]
      },
      {
       "output_type": "stream",
       "stream": "stdout",
       "text": [
        "\n",
        "trn: curves:             8\n",
        "val: next step:          2394 steps\n",
        "val: curves:             1\n",
        "tst: next step:          2485 steps\n",
        "tst: curves:             1\n",
        "trn: next step:          17389 steps\n",
        "trn: curves:             8\n",
        "val: next step:          2391 steps\n",
        "val: curves:             1\n",
        "tst: next step:          2487 steps\n",
        "tst: curves:             1\n",
        "trn: next step:          17384 steps\n",
        "trn: curves:             8\n",
        "val: next step:          2393 steps\n",
        "val: curves:             1\n",
        "tst: next step:          2485 steps\n",
        "tst: curves:             1\n",
        "trn: next step:          17389 steps"
       ]
      },
      {
       "output_type": "stream",
       "stream": "stdout",
       "text": [
        "\n",
        "trn: curves:             8\n",
        "val: next step:          2394 steps\n",
        "val: curves:             1\n",
        "tst: next step:          2484 steps\n",
        "tst: curves:             1\n",
        "trn: next step:          17399 steps\n",
        "trn: curves:             8\n",
        "val: next step:          2396 steps\n",
        "val: curves:             1\n",
        "tst: next step:          2487 steps\n",
        "tst: curves:             1\n",
        "trn: next step:          17389 steps\n",
        "trn: curves:             8\n",
        "val: next step:          2391 steps\n",
        "val: curves:             1\n",
        "tst: next step:          2487 steps\n",
        "tst: curves:             1\n",
        "trn: next step:          17397 steps"
       ]
      },
      {
       "output_type": "stream",
       "stream": "stdout",
       "text": [
        "\n",
        "trn: curves:             8\n",
        "val: next step:          2393 steps\n",
        "val: curves:             1\n",
        "tst: next step:          2484 steps\n",
        "tst: curves:             1\n",
        "trn: next step:          17394 steps\n",
        "trn: curves:             8\n",
        "val: next step:          2396 steps\n",
        "val: curves:             1\n",
        "tst: next step:          2480 steps\n",
        "tst: curves:             1\n",
        "trn: next step:          17397 steps\n",
        "trn: curves:             8\n",
        "val: next step:          2396 steps\n",
        "val: curves:             1\n",
        "tst: next step:          2484 steps\n",
        "tst: curves:             1\n",
        "trn: next step:          17387 steps"
       ]
      },
      {
       "output_type": "stream",
       "stream": "stdout",
       "text": [
        "\n",
        "trn: curves:             8\n",
        "val: next step:          2393 steps\n",
        "val: curves:             1\n",
        "tst: next step:          2487 steps\n",
        "tst: curves:             1\n",
        "trn: next step:          17393 steps\n",
        "trn: curves:             8\n",
        "val: next step:          2394 steps\n",
        "val: curves:             1\n",
        "tst: next step:          2482 steps\n",
        "tst: curves:             1\n",
        "trn: next step:          17399 steps\n",
        "trn: curves:             8\n",
        "val: next step:          2394 steps\n",
        "val: curves:             1\n",
        "tst: next step:          2484 steps\n",
        "tst: curves:             1\n",
        "trn: next step:          17399 steps"
       ]
      },
      {
       "output_type": "stream",
       "stream": "stdout",
       "text": [
        "\n",
        "trn: curves:             8\n",
        "val: next step:          2393 steps\n",
        "val: curves:             1\n",
        "tst: next step:          2484 steps\n",
        "tst: curves:             1\n",
        "trn: next step:          17388 steps\n",
        "trn: curves:             8\n",
        "val: next step:          2393 steps\n",
        "val: curves:             1\n",
        "tst: next step:          2485 steps\n",
        "tst: curves:             1\n",
        "trn: next step:          17386 steps\n",
        "trn: curves:             8\n",
        "val: next step:          2393 steps\n",
        "val: curves:             1\n",
        "tst: next step:          2484 steps\n",
        "tst: curves:             1\n",
        "trn: next step:          17394 steps"
       ]
      },
      {
       "output_type": "stream",
       "stream": "stdout",
       "text": [
        "\n",
        "trn: curves:             8\n",
        "val: next step:          2394 steps\n",
        "val: curves:             1\n",
        "tst: next step:          2484 steps\n",
        "tst: curves:             1\n",
        "trn: next step:          17389 steps\n",
        "trn: curves:             8\n",
        "val: next step:          2393 steps\n",
        "val: curves:             1\n",
        "tst: next step:          2485 steps\n",
        "tst: curves:             1\n",
        "trn: next step:          17389 steps\n",
        "trn: curves:             8\n",
        "val: next step:          2396 steps\n",
        "val: curves:             1\n",
        "tst: next step:          2484 steps\n",
        "tst: curves:             1\n",
        "trn: next step:          17391 steps"
       ]
      },
      {
       "output_type": "stream",
       "stream": "stdout",
       "text": [
        "\n",
        "trn: curves:             8\n",
        "val: next step:          2394 steps\n",
        "val: curves:             1\n",
        "tst: next step:          2487 steps\n",
        "tst: curves:             1\n",
        "trn: next step:          17391 steps\n",
        "trn: curves:             8\n",
        "val: next step:          2396 steps\n",
        "val: curves:             1\n",
        "tst: next step:          2484 steps\n",
        "tst: curves:             1\n",
        "trn: next step:          17386 steps\n",
        "trn: curves:             8\n",
        "val: next step:          2393 steps\n",
        "val: curves:             1\n",
        "tst: next step:          2484 steps\n",
        "tst: curves:             1\n",
        "trn: next step:          17381 steps"
       ]
      },
      {
       "output_type": "stream",
       "stream": "stdout",
       "text": [
        "\n",
        "trn: curves:             8\n",
        "val: next step:          2396 steps\n",
        "val: curves:             1\n",
        "tst: next step:          2485 steps\n",
        "tst: curves:             1\n",
        "trn: next step:          17383 steps\n",
        "trn: curves:             8\n",
        "val: next step:          2391 steps\n",
        "val: curves:             1\n",
        "tst: next step:          2485 steps\n",
        "tst: curves:             1\n",
        "trn: next step:          17394 steps\n",
        "trn: curves:             8\n",
        "val: next step:          2393 steps\n",
        "val: curves:             1\n",
        "tst: next step:          2484 steps\n",
        "tst: curves:             1\n",
        "trn: next step:          17396 steps"
       ]
      },
      {
       "output_type": "stream",
       "stream": "stdout",
       "text": [
        "\n",
        "trn: curves:             8\n",
        "val: next step:          2394 steps\n",
        "val: curves:             1\n",
        "tst: next step:          2485 steps\n",
        "tst: curves:             1\n",
        "trn: next step:          17400 steps\n",
        "trn: curves:             8\n",
        "val: next step:          2391 steps\n",
        "val: curves:             1\n",
        "tst: next step:          2484 steps\n",
        "tst: curves:             1\n",
        "trn: next step:          17390 steps\n",
        "trn: curves:             8\n",
        "val: next step:          2396 steps\n",
        "val: curves:             1\n",
        "tst: next step:          2487 steps\n",
        "tst: curves:             1\n",
        "trn: next step:          17388 steps"
       ]
      },
      {
       "output_type": "stream",
       "stream": "stdout",
       "text": [
        "\n",
        "trn: curves:             8\n",
        "val: next step:          2396 steps\n",
        "val: curves:             1\n",
        "tst: next step:          2484 steps\n",
        "tst: curves:             1\n",
        "trn: next step:          17388 steps\n",
        "trn: curves:             8\n",
        "val: next step:          2393 steps\n",
        "val: curves:             1\n",
        "tst: next step:          2485 steps\n",
        "tst: curves:             1\n",
        "trn: next step:          17393 steps\n",
        "trn: curves:             8\n",
        "val: next step:          2393 steps\n",
        "val: curves:             1\n",
        "tst: next step:          2487 steps\n",
        "tst: curves:             1\n",
        "trn: next step:          17398 steps"
       ]
      },
      {
       "output_type": "stream",
       "stream": "stdout",
       "text": [
        "\n",
        "trn: curves:             8\n",
        "val: next step:          2394 steps\n",
        "val: curves:             1\n",
        "tst: next step:          2487 steps\n",
        "tst: curves:             1\n",
        "trn: next step:          17389 steps\n",
        "trn: curves:             8\n",
        "val: next step:          2396 steps\n",
        "val: curves:             1\n",
        "tst: next step:          2484 steps\n",
        "tst: curves:             1\n",
        "trn: next step:          17395 steps\n",
        "trn: curves:             8\n",
        "val: next step:          2394 steps\n",
        "val: curves:             1\n",
        "tst: next step:          2482 steps\n",
        "tst: curves:             1\n",
        "trn: next step:          17382 steps"
       ]
      },
      {
       "output_type": "stream",
       "stream": "stdout",
       "text": [
        "\n",
        "trn: curves:             8\n",
        "val: next step:          2393 steps\n",
        "val: curves:             1\n",
        "tst: next step:          2487 steps\n",
        "tst: curves:             1\n",
        "trn: next step:          17387 steps\n",
        "trn: curves:             8\n",
        "val: next step:          2393 steps\n",
        "val: curves:             1\n",
        "tst: next step:          2482 steps\n",
        "tst: curves:             1\n",
        "trn: next step:          17388 steps\n",
        "trn: curves:             8\n",
        "val: next step:          2396 steps\n",
        "val: curves:             1\n",
        "tst: next step:          2487 steps\n",
        "tst: curves:             1\n",
        "trn: next step:          17397 steps"
       ]
      },
      {
       "output_type": "stream",
       "stream": "stdout",
       "text": [
        "\n",
        "trn: curves:             8\n",
        "val: next step:          2396 steps\n",
        "val: curves:             1\n",
        "tst: next step:          2485 steps\n",
        "tst: curves:             1\n",
        "trn: next step:          17391 steps\n",
        "trn: curves:             8\n",
        "val: next step:          2391 steps\n",
        "val: curves:             1\n",
        "tst: next step:          2485 steps\n",
        "tst: curves:             1\n",
        "trn: next step:          17391 steps\n",
        "trn: curves:             8\n",
        "val: next step:          2393 steps\n",
        "val: curves:             1\n",
        "tst: next step:          2487 steps\n",
        "tst: curves:             1\n",
        "trn: next step:          17392 steps"
       ]
      },
      {
       "output_type": "stream",
       "stream": "stdout",
       "text": [
        "\n",
        "trn: curves:             8\n",
        "val: next step:          2393 steps\n",
        "val: curves:             1\n",
        "tst: next step:          2484 steps\n",
        "tst: curves:             1\n",
        "trn: next step:          17388 steps\n",
        "trn: curves:             8\n",
        "val: next step:          2391 steps\n",
        "val: curves:             1\n",
        "tst: next step:          2485 steps\n",
        "tst: curves:             1\n",
        "trn: next step:          17395 steps\n",
        "trn: curves:             8\n",
        "val: next step:          2396 steps\n",
        "val: curves:             1\n",
        "tst: next step:          2482 steps\n",
        "tst: curves:             1\n",
        "trn: next step:          17396 steps"
       ]
      },
      {
       "output_type": "stream",
       "stream": "stdout",
       "text": [
        "\n",
        "trn: curves:             8\n",
        "val: next step:          2394 steps\n",
        "val: curves:             1\n",
        "tst: next step:          2484 steps\n",
        "tst: curves:             1\n",
        "trn: next step:          17381 steps\n",
        "trn: curves:             8\n",
        "val: next step:          2394 steps\n",
        "val: curves:             1\n",
        "tst: next step:          2485 steps\n",
        "tst: curves:             1\n",
        "trn: next step:          17396 steps\n",
        "trn: curves:             8\n",
        "val: next step:          2393 steps\n",
        "val: curves:             1\n",
        "tst: next step:          2484 steps\n",
        "tst: curves:             1\n",
        "trn: next step:          17398 steps"
       ]
      },
      {
       "output_type": "stream",
       "stream": "stdout",
       "text": [
        "\n",
        "trn: curves:             8\n",
        "val: next step:          2392 steps\n",
        "val: curves:             1\n",
        "tst: next step:          2484 steps\n",
        "tst: curves:             1\n",
        "trn: next step:          17397 steps\n",
        "trn: curves:             8\n",
        "val: next step:          2393 steps\n",
        "val: curves:             1\n",
        "tst: next step:          2484 steps\n",
        "tst: curves:             1\n",
        "trn: next step:          17385 steps\n",
        "trn: curves:             8\n",
        "val: next step:          2394 steps\n",
        "val: curves:             1\n",
        "tst: next step:          2485 steps\n",
        "tst: curves:             1\n",
        "trn: next step:          17391 steps"
       ]
      },
      {
       "output_type": "stream",
       "stream": "stdout",
       "text": [
        "\n",
        "trn: curves:             8\n",
        "val: next step:          2393 steps\n",
        "val: curves:             1\n",
        "tst: next step:          2482 steps\n",
        "tst: curves:             1\n",
        "trn: next step:          17388 steps\n",
        "trn: curves:             8\n",
        "val: next step:          2393 steps\n",
        "val: curves:             1\n",
        "tst: next step:          2484 steps\n",
        "tst: curves:             1\n",
        "trn: next step:          17398 steps\n",
        "trn: curves:             8\n",
        "val: next step:          2394 steps\n",
        "val: curves:             1\n",
        "tst: next step:          2482 steps\n",
        "tst: curves:             1\n",
        "trn: next step:          17381 steps"
       ]
      },
      {
       "output_type": "stream",
       "stream": "stdout",
       "text": [
        "\n",
        "trn: curves:             8\n",
        "val: next step:          2396 steps\n",
        "val: curves:             1\n",
        "tst: next step:          2484 steps\n",
        "tst: curves:             1\n",
        "trn: next step:          17396 steps\n",
        "trn: curves:             8\n",
        "val: next step:          2394 steps\n",
        "val: curves:             1\n",
        "tst: next step:          2482 steps\n",
        "tst: curves:             1\n",
        "trn: next step:          17391 steps\n",
        "trn: curves:             8\n",
        "val: next step:          2391 steps\n",
        "val: curves:             1\n",
        "tst: next step:          2482 steps\n",
        "tst: curves:             1\n",
        "trn: next step:          17387 steps"
       ]
      },
      {
       "output_type": "stream",
       "stream": "stdout",
       "text": [
        "\n",
        "trn: curves:             8\n",
        "val: next step:          2393 steps\n",
        "val: curves:             1\n",
        "tst: next step:          2487 steps\n",
        "tst: curves:             1\n",
        "trn: next step:          17392 steps\n",
        "trn: curves:             8\n",
        "val: next step:          2396 steps\n",
        "val: curves:             1\n",
        "tst: next step:          2485 steps\n",
        "tst: curves:             1\n",
        "trn: next step:          17382 steps\n",
        "trn: curves:             8\n",
        "val: next step:          2393 steps\n",
        "val: curves:             1\n",
        "tst: next step:          2487 steps\n",
        "tst: curves:             1\n",
        "trn: next step:          17386 steps"
       ]
      },
      {
       "output_type": "stream",
       "stream": "stdout",
       "text": [
        "\n",
        "trn: curves:             8\n",
        "val: next step:          2392 steps\n",
        "val: curves:             1\n",
        "tst: next step:          2487 steps\n",
        "tst: curves:             1\n"
       ]
      }
     ],
     "prompt_number": 103
    },
    {
     "cell_type": "heading",
     "level": 2,
     "metadata": {},
     "source": [
      "Pearson Correlation Coefficient"
     ]
    },
    {
     "cell_type": "code",
     "collapsed": false,
     "input": [
      "imshow(pcorr.T, interpolation='none', origin='upper', cmap='gray')\n",
      "colorbar()\n",
      "xlabel(\"x\")\n",
      "ylabel(\"y\")"
     ],
     "language": "python",
     "metadata": {},
     "outputs": [
      {
       "metadata": {},
       "output_type": "pyout",
       "prompt_number": 104,
       "text": [
        "<matplotlib.text.Text at 0x1cc12cc0>"
       ]
      },
      {
       "metadata": {},
       "output_type": "display_data",
       "png": "[encoded data removed]",
       "text": [
        "<matplotlib.figure.Figure at 0x1c294e80>"
       ]
      }
     ],
     "prompt_number": 104
    },
    {
     "cell_type": "heading",
     "level": 2,
     "metadata": {},
     "source": [
      "Best 10 Taxel"
     ]
    },
    {
     "cell_type": "code",
     "collapsed": false,
     "input": [
      "best = []\n",
      "for i in np.arange(10):\n",
      "    pos = np.nonzero(pcorr == np.max(pcorr))\n",
      "    tupel = [np.transpose(pos), pcorr[pos]]\n",
      "    best.append(tupel)\n",
      "    pcorr[pos] = 0\n",
      "print best"
     ],
     "language": "python",
     "metadata": {},
     "outputs": [
      {
       "output_type": "stream",
       "stream": "stdout",
       "text": [
        "[[array([[1, 6]], dtype=int64), array([ 0.968])], [array([[0, 6]], dtype=int64), array([ 0.965])], [array([[0, 7]], dtype=int64), array([ 0.954])], [array([[5, 6]], dtype=int64), array([ 0.951])], [array([[5, 1]], dtype=int64), array([ 0.948])], [array([[3, 1]], dtype=int64), array([ 0.94])], [array([[1, 7]], dtype=int64), array([ 0.939])], [array([[5, 3]], dtype=int64), array([ 0.938])], [array([[2, 6]], dtype=int64), array([ 0.936])], [array([[7, 5]], dtype=int64), array([ 0.936])]]\n"
       ]
      }
     ],
     "prompt_number": 119
    }
   ],
   "metadata": {}
  }
 ]
}